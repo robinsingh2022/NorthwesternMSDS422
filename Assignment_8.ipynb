{
  "nbformat": 4,
  "nbformat_minor": 0,
  "metadata": {
    "colab": {
      "name": "Assignment 8.ipynb",
      "provenance": [],
      "collapsed_sections": [
        "U4KlNK0B6-T4",
        "kQAqHGDy7KYn",
        "Vh0d65yI2pGp"
      ],
      "toc_visible": true,
      "mount_file_id": "1iT3mXvY-Kw50AdPzRKVp_w-XgO5sLyhs",
      "authorship_tag": "ABX9TyNrnUfRoF4FxvO+zCzs+zYP",
      "include_colab_link": true
    },
    "kernelspec": {
      "name": "python3",
      "display_name": "Python 3"
    }
  },
  "cells": [
    {
      "cell_type": "markdown",
      "metadata": {
        "id": "view-in-github",
        "colab_type": "text"
      },
      "source": [
        "<a href=\"https://colab.research.google.com/github/robinsingh2022/NorthwesternMSDS422/blob/main/Assignment_8.ipynb\" target=\"_parent\"><img src=\"https://colab.research.google.com/assets/colab-badge.svg\" alt=\"Open In Colab\"/></a>"
      ]
    },
    {
      "cell_type": "markdown",
      "metadata": {
        "id": "U4KlNK0B6-T4"
      },
      "source": [
        "###Ingest"
      ]
    },
    {
      "cell_type": "code",
      "metadata": {
        "id": "lacLEibx66uD"
      },
      "source": [
        "import numpy as np \n",
        "import pandas as pd \n",
        "from sklearn import feature_extraction, linear_model, model_selection, preprocessing\n",
        "import tensorflow as tf"
      ],
      "execution_count": null,
      "outputs": []
    },
    {
      "cell_type": "code",
      "metadata": {
        "id": "ZyQBe6b02Swz"
      },
      "source": [
        ""
      ],
      "execution_count": null,
      "outputs": []
    },
    {
      "cell_type": "code",
      "metadata": {
        "id": "NL8_4Y2P69tD"
      },
      "source": [
        "path='/content/drive/MyDrive/Assignment8/train.csv'\n",
        "train= pd.read_csv(path)"
      ],
      "execution_count": null,
      "outputs": []
    },
    {
      "cell_type": "code",
      "metadata": {
        "id": "o6gGEs_67IGG"
      },
      "source": [
        "path='/content/drive/MyDrive/Assignment8/test.csv'\n",
        "test=pd.read_csv(path)"
      ],
      "execution_count": null,
      "outputs": []
    },
    {
      "cell_type": "markdown",
      "metadata": {
        "id": "kQAqHGDy7KYn"
      },
      "source": [
        "###EDA"
      ]
    },
    {
      "cell_type": "code",
      "metadata": {
        "colab": {
          "base_uri": "https://localhost:8080/",
          "height": 598
        },
        "id": "-Akukuwo7JoJ",
        "outputId": "ecf1d6fa-b63c-4cc9-94ab-dc2079406c91"
      },
      "source": [
        "train.head()"
      ],
      "execution_count": null,
      "outputs": [
        {
          "output_type": "execute_result",
          "data": {
            "text/html": [
              "<div>\n",
              "<style scoped>\n",
              "    .dataframe tbody tr th:only-of-type {\n",
              "        vertical-align: middle;\n",
              "    }\n",
              "\n",
              "    .dataframe tbody tr th {\n",
              "        vertical-align: top;\n",
              "    }\n",
              "\n",
              "    .dataframe thead th {\n",
              "        text-align: right;\n",
              "    }\n",
              "</style>\n",
              "<table border=\"1\" class=\"dataframe\">\n",
              "  <thead>\n",
              "    <tr style=\"text-align: right;\">\n",
              "      <th></th>\n",
              "      <th>id</th>\n",
              "      <th>keyword</th>\n",
              "      <th>location</th>\n",
              "      <th>text</th>\n",
              "      <th>target</th>\n",
              "    </tr>\n",
              "  </thead>\n",
              "  <tbody>\n",
              "    <tr>\n",
              "      <th>0</th>\n",
              "      <td>1</td>\n",
              "      <td>NaN</td>\n",
              "      <td>NaN</td>\n",
              "      <td>Our Deeds are the Reason of this #earthquake M...</td>\n",
              "      <td>1</td>\n",
              "    </tr>\n",
              "    <tr>\n",
              "      <th>1</th>\n",
              "      <td>4</td>\n",
              "      <td>NaN</td>\n",
              "      <td>NaN</td>\n",
              "      <td>Forest fire near La Ronge Sask. Canada</td>\n",
              "      <td>1</td>\n",
              "    </tr>\n",
              "    <tr>\n",
              "      <th>2</th>\n",
              "      <td>5</td>\n",
              "      <td>NaN</td>\n",
              "      <td>NaN</td>\n",
              "      <td>All residents asked to 'shelter in place' are ...</td>\n",
              "      <td>1</td>\n",
              "    </tr>\n",
              "    <tr>\n",
              "      <th>3</th>\n",
              "      <td>6</td>\n",
              "      <td>NaN</td>\n",
              "      <td>NaN</td>\n",
              "      <td>13,000 people receive #wildfires evacuation or...</td>\n",
              "      <td>1</td>\n",
              "    </tr>\n",
              "    <tr>\n",
              "      <th>4</th>\n",
              "      <td>7</td>\n",
              "      <td>NaN</td>\n",
              "      <td>NaN</td>\n",
              "      <td>Just got sent this photo from Ruby #Alaska as ...</td>\n",
              "      <td>1</td>\n",
              "    </tr>\n",
              "  </tbody>\n",
              "</table>\n",
              "</div>"
            ],
            "text/plain": [
              "   id keyword  ...                                               text target\n",
              "0   1     NaN  ...  Our Deeds are the Reason of this #earthquake M...      1\n",
              "1   4     NaN  ...             Forest fire near La Ronge Sask. Canada      1\n",
              "2   5     NaN  ...  All residents asked to 'shelter in place' are ...      1\n",
              "3   6     NaN  ...  13,000 people receive #wildfires evacuation or...      1\n",
              "4   7     NaN  ...  Just got sent this photo from Ruby #Alaska as ...      1\n",
              "\n",
              "[5 rows x 5 columns]"
            ]
          },
          "metadata": {
            "tags": []
          },
          "execution_count": 83
        }
      ]
    },
    {
      "cell_type": "code",
      "metadata": {
        "colab": {
          "base_uri": "https://localhost:8080/",
          "height": 496
        },
        "id": "3h04CxCm7M6o",
        "outputId": "ef811a62-4ac8-451f-fec8-0444c0d38524"
      },
      "source": [
        "train.tail()"
      ],
      "execution_count": null,
      "outputs": [
        {
          "output_type": "execute_result",
          "data": {
            "text/html": [
              "<div>\n",
              "<style scoped>\n",
              "    .dataframe tbody tr th:only-of-type {\n",
              "        vertical-align: middle;\n",
              "    }\n",
              "\n",
              "    .dataframe tbody tr th {\n",
              "        vertical-align: top;\n",
              "    }\n",
              "\n",
              "    .dataframe thead th {\n",
              "        text-align: right;\n",
              "    }\n",
              "</style>\n",
              "<table border=\"1\" class=\"dataframe\">\n",
              "  <thead>\n",
              "    <tr style=\"text-align: right;\">\n",
              "      <th></th>\n",
              "      <th>id</th>\n",
              "      <th>keyword</th>\n",
              "      <th>location</th>\n",
              "      <th>text</th>\n",
              "      <th>target</th>\n",
              "    </tr>\n",
              "  </thead>\n",
              "  <tbody>\n",
              "    <tr>\n",
              "      <th>7608</th>\n",
              "      <td>10869</td>\n",
              "      <td>NaN</td>\n",
              "      <td>NaN</td>\n",
              "      <td>Two giant cranes holding a bridge collapse int...</td>\n",
              "      <td>1</td>\n",
              "    </tr>\n",
              "    <tr>\n",
              "      <th>7609</th>\n",
              "      <td>10870</td>\n",
              "      <td>NaN</td>\n",
              "      <td>NaN</td>\n",
              "      <td>@aria_ahrary @TheTawniest The out of control w...</td>\n",
              "      <td>1</td>\n",
              "    </tr>\n",
              "    <tr>\n",
              "      <th>7610</th>\n",
              "      <td>10871</td>\n",
              "      <td>NaN</td>\n",
              "      <td>NaN</td>\n",
              "      <td>M1.94 [01:04 UTC]?5km S of Volcano Hawaii. htt...</td>\n",
              "      <td>1</td>\n",
              "    </tr>\n",
              "    <tr>\n",
              "      <th>7611</th>\n",
              "      <td>10872</td>\n",
              "      <td>NaN</td>\n",
              "      <td>NaN</td>\n",
              "      <td>Police investigating after an e-bike collided ...</td>\n",
              "      <td>1</td>\n",
              "    </tr>\n",
              "    <tr>\n",
              "      <th>7612</th>\n",
              "      <td>10873</td>\n",
              "      <td>NaN</td>\n",
              "      <td>NaN</td>\n",
              "      <td>The Latest: More Homes Razed by Northern Calif...</td>\n",
              "      <td>1</td>\n",
              "    </tr>\n",
              "  </tbody>\n",
              "</table>\n",
              "</div>"
            ],
            "text/plain": [
              "         id keyword  ...                                               text target\n",
              "7608  10869     NaN  ...  Two giant cranes holding a bridge collapse int...      1\n",
              "7609  10870     NaN  ...  @aria_ahrary @TheTawniest The out of control w...      1\n",
              "7610  10871     NaN  ...  M1.94 [01:04 UTC]?5km S of Volcano Hawaii. htt...      1\n",
              "7611  10872     NaN  ...  Police investigating after an e-bike collided ...      1\n",
              "7612  10873     NaN  ...  The Latest: More Homes Razed by Northern Calif...      1\n",
              "\n",
              "[5 rows x 5 columns]"
            ]
          },
          "metadata": {
            "tags": []
          },
          "execution_count": 84
        }
      ]
    },
    {
      "cell_type": "code",
      "metadata": {
        "colab": {
          "base_uri": "https://localhost:8080/",
          "height": 496
        },
        "id": "qCXGi6yi7OzI",
        "outputId": "afbcebc2-46ee-4649-8108-fde8a42df4f2"
      },
      "source": [
        "test.head()"
      ],
      "execution_count": null,
      "outputs": [
        {
          "output_type": "execute_result",
          "data": {
            "text/html": [
              "<div>\n",
              "<style scoped>\n",
              "    .dataframe tbody tr th:only-of-type {\n",
              "        vertical-align: middle;\n",
              "    }\n",
              "\n",
              "    .dataframe tbody tr th {\n",
              "        vertical-align: top;\n",
              "    }\n",
              "\n",
              "    .dataframe thead th {\n",
              "        text-align: right;\n",
              "    }\n",
              "</style>\n",
              "<table border=\"1\" class=\"dataframe\">\n",
              "  <thead>\n",
              "    <tr style=\"text-align: right;\">\n",
              "      <th></th>\n",
              "      <th>id</th>\n",
              "      <th>keyword</th>\n",
              "      <th>location</th>\n",
              "      <th>text</th>\n",
              "    </tr>\n",
              "  </thead>\n",
              "  <tbody>\n",
              "    <tr>\n",
              "      <th>0</th>\n",
              "      <td>0</td>\n",
              "      <td>NaN</td>\n",
              "      <td>NaN</td>\n",
              "      <td>Just happened a terrible car crash</td>\n",
              "    </tr>\n",
              "    <tr>\n",
              "      <th>1</th>\n",
              "      <td>2</td>\n",
              "      <td>NaN</td>\n",
              "      <td>NaN</td>\n",
              "      <td>Heard about #earthquake is different cities, s...</td>\n",
              "    </tr>\n",
              "    <tr>\n",
              "      <th>2</th>\n",
              "      <td>3</td>\n",
              "      <td>NaN</td>\n",
              "      <td>NaN</td>\n",
              "      <td>there is a forest fire at spot pond, geese are...</td>\n",
              "    </tr>\n",
              "    <tr>\n",
              "      <th>3</th>\n",
              "      <td>9</td>\n",
              "      <td>NaN</td>\n",
              "      <td>NaN</td>\n",
              "      <td>Apocalypse lighting. #Spokane #wildfires</td>\n",
              "    </tr>\n",
              "    <tr>\n",
              "      <th>4</th>\n",
              "      <td>11</td>\n",
              "      <td>NaN</td>\n",
              "      <td>NaN</td>\n",
              "      <td>Typhoon Soudelor kills 28 in China and Taiwan</td>\n",
              "    </tr>\n",
              "  </tbody>\n",
              "</table>\n",
              "</div>"
            ],
            "text/plain": [
              "   id keyword location                                               text\n",
              "0   0     NaN      NaN                 Just happened a terrible car crash\n",
              "1   2     NaN      NaN  Heard about #earthquake is different cities, s...\n",
              "2   3     NaN      NaN  there is a forest fire at spot pond, geese are...\n",
              "3   9     NaN      NaN           Apocalypse lighting. #Spokane #wildfires\n",
              "4  11     NaN      NaN      Typhoon Soudelor kills 28 in China and Taiwan"
            ]
          },
          "metadata": {
            "tags": []
          },
          "execution_count": 85
        }
      ]
    },
    {
      "cell_type": "code",
      "metadata": {
        "colab": {
          "base_uri": "https://localhost:8080/",
          "height": 312
        },
        "id": "rm1pX03J7QDu",
        "outputId": "9783bd9d-ac34-4bfc-8888-e4c4f045c2e4"
      },
      "source": [
        "train[train[\"target\"] == 0][\"text\"].values[1]"
      ],
      "execution_count": null,
      "outputs": [
        {
          "output_type": "execute_result",
          "data": {
            "application/vnd.google.colaboratory.intrinsic+json": {
              "type": "string"
            },
            "text/plain": [
              "'I love fruits'"
            ]
          },
          "metadata": {
            "tags": []
          },
          "execution_count": 86
        }
      ]
    },
    {
      "cell_type": "code",
      "metadata": {
        "colab": {
          "base_uri": "https://localhost:8080/",
          "height": 363
        },
        "id": "viHDELtP7S1y",
        "outputId": "b041b0a8-c335-4d89-9cc7-69cea78c92ea"
      },
      "source": [
        "train[train[\"target\"] == 0][\"text\"].values[2]"
      ],
      "execution_count": null,
      "outputs": [
        {
          "output_type": "execute_result",
          "data": {
            "application/vnd.google.colaboratory.intrinsic+json": {
              "type": "string"
            },
            "text/plain": [
              "'Summer is lovely'"
            ]
          },
          "metadata": {
            "tags": []
          },
          "execution_count": 87
        }
      ]
    },
    {
      "cell_type": "code",
      "metadata": {
        "colab": {
          "base_uri": "https://localhost:8080/",
          "height": 737
        },
        "id": "cNdOQNsk7UmN",
        "outputId": "5d3de18f-cf96-4722-bb07-c1fb1804c38d"
      },
      "source": [
        "train[train[\"target\"] == 1][\"text\"].values[1]"
      ],
      "execution_count": null,
      "outputs": [
        {
          "output_type": "execute_result",
          "data": {
            "application/vnd.google.colaboratory.intrinsic+json": {
              "type": "string"
            },
            "text/plain": [
              "'Forest fire near La Ronge Sask. Canada'"
            ]
          },
          "metadata": {
            "tags": []
          },
          "execution_count": 88
        }
      ]
    },
    {
      "cell_type": "code",
      "metadata": {
        "colab": {
          "base_uri": "https://localhost:8080/",
          "height": 1000
        },
        "id": "HIkIy_1u7Wpw",
        "outputId": "abc2a17b-a821-4192-a286-7ae313fe7765"
      },
      "source": [
        "train[train[\"target\"] == 1][\"text\"].values[2]"
      ],
      "execution_count": null,
      "outputs": [
        {
          "output_type": "execute_result",
          "data": {
            "application/vnd.google.colaboratory.intrinsic+json": {
              "type": "string"
            },
            "text/plain": [
              "\"All residents asked to 'shelter in place' are being notified by officers. No other evacuation or shelter in place orders are expected\""
            ]
          },
          "metadata": {
            "tags": []
          },
          "execution_count": 89
        }
      ]
    },
    {
      "cell_type": "code",
      "metadata": {
        "id": "q-8pp6da7Yva"
      },
      "source": [
        "countVectorizer = feature_extraction.text.CountVectorizer()"
      ],
      "execution_count": null,
      "outputs": []
    },
    {
      "cell_type": "code",
      "metadata": {
        "id": "nRehQM8-7a5w"
      },
      "source": [
        "trainVectors = countVectorizer.fit_transform(train[\"text\"])"
      ],
      "execution_count": null,
      "outputs": []
    },
    {
      "cell_type": "code",
      "metadata": {
        "colab": {
          "base_uri": "https://localhost:8080/"
        },
        "id": "03F86aDh7cit",
        "outputId": "b51354a8-6e60-40be-916f-07c76940fe9c"
      },
      "source": [
        "print(trainVectors[0].todense().shape)\n",
        "print(trainVectors.todense())"
      ],
      "execution_count": null,
      "outputs": [
        {
          "output_type": "stream",
          "text": [
            "(1, 21637)\n",
            "[[0 0 0 ... 0 0 0]\n",
            " [0 0 0 ... 0 0 0]\n",
            " [0 0 0 ... 0 0 0]\n",
            " ...\n",
            " [0 0 0 ... 0 0 0]\n",
            " [0 0 0 ... 0 0 0]\n",
            " [0 0 0 ... 0 0 0]]\n"
          ],
          "name": "stdout"
        }
      ]
    },
    {
      "cell_type": "code",
      "metadata": {
        "id": "-14neMBM7f7c"
      },
      "source": [
        "linModel = linear_model.RidgeClassifier()"
      ],
      "execution_count": null,
      "outputs": []
    },
    {
      "cell_type": "code",
      "metadata": {
        "colab": {
          "base_uri": "https://localhost:8080/"
        },
        "id": "fJo0oPsv7i1J",
        "outputId": "dc694640-f92c-474c-8774-bec536fe70ae"
      },
      "source": [
        "scores = model_selection.cross_val_score(linModel, trainVectors, train[\"target\"], cv=3, scoring=\"f1\")\n",
        "scores"
      ],
      "execution_count": null,
      "outputs": [
        {
          "output_type": "execute_result",
          "data": {
            "text/plain": [
              "array([0.59453669, 0.56498283, 0.64082434])"
            ]
          },
          "metadata": {
            "tags": []
          },
          "execution_count": 94
        }
      ]
    },
    {
      "cell_type": "code",
      "metadata": {
        "colab": {
          "base_uri": "https://localhost:8080/"
        },
        "id": "aCwqFc1X7kg7",
        "outputId": "7323f1f0-7b20-4f9f-c8c2-c2750a19e1fe"
      },
      "source": [
        "linModel.fit(trainVectors, train[\"target\"])"
      ],
      "execution_count": null,
      "outputs": [
        {
          "output_type": "execute_result",
          "data": {
            "text/plain": [
              "RidgeClassifier(alpha=1.0, class_weight=None, copy_X=True, fit_intercept=True,\n",
              "                max_iter=None, normalize=False, random_state=None,\n",
              "                solver='auto', tol=0.001)"
            ]
          },
          "metadata": {
            "tags": []
          },
          "execution_count": 95
        }
      ]
    },
    {
      "cell_type": "code",
      "metadata": {
        "colab": {
          "base_uri": "https://localhost:8080/"
        },
        "id": "5FdW6Rat7nYM",
        "outputId": "97d5988c-eac5-4964-dd30-c1e91f311132"
      },
      "source": [
        "testVectors = countVectorizer.transform(test[\"text\"])\n",
        "linModel.predict(testVectors)"
      ],
      "execution_count": null,
      "outputs": [
        {
          "output_type": "execute_result",
          "data": {
            "text/plain": [
              "array([0, 1, 1, ..., 1, 1, 0])"
            ]
          },
          "metadata": {
            "tags": []
          },
          "execution_count": 96
        }
      ]
    },
    {
      "cell_type": "code",
      "metadata": {
        "colab": {
          "base_uri": "https://localhost:8080/"
        },
        "id": "kZ-0xWEd7pcb",
        "outputId": "b32acc4b-0dec-4839-c339-c5349e5e01d4"
      },
      "source": [
        "type(trainVectors)"
      ],
      "execution_count": null,
      "outputs": [
        {
          "output_type": "execute_result",
          "data": {
            "text/plain": [
              "scipy.sparse.csr.csr_matrix"
            ]
          },
          "metadata": {
            "tags": []
          },
          "execution_count": 97
        }
      ]
    },
    {
      "cell_type": "code",
      "metadata": {
        "colab": {
          "base_uri": "https://localhost:8080/"
        },
        "id": "Cm2nb3Ds7riQ",
        "outputId": "7426c57e-eb7b-4fd2-ec08-f2ecfffce99f"
      },
      "source": [
        "trainVectors[1].shape"
      ],
      "execution_count": null,
      "outputs": [
        {
          "output_type": "execute_result",
          "data": {
            "text/plain": [
              "(1, 21637)"
            ]
          },
          "metadata": {
            "tags": []
          },
          "execution_count": 98
        }
      ]
    },
    {
      "cell_type": "code",
      "metadata": {
        "colab": {
          "base_uri": "https://localhost:8080/"
        },
        "id": "s7YP0MwI7tcI",
        "outputId": "6d94e746-720d-48b6-d2fa-a8bef8093c11"
      },
      "source": [
        "trainVectors.shape[0]"
      ],
      "execution_count": null,
      "outputs": [
        {
          "output_type": "execute_result",
          "data": {
            "text/plain": [
              "7613"
            ]
          },
          "metadata": {
            "tags": []
          },
          "execution_count": 99
        }
      ]
    },
    {
      "cell_type": "code",
      "metadata": {
        "colab": {
          "base_uri": "https://localhost:8080/"
        },
        "id": "67Z7jfvQ7vhc",
        "outputId": "3d1b4804-7b7d-457b-e7b1-ace3deaae4fd"
      },
      "source": [
        "print(trainVectors[111].todense())"
      ],
      "execution_count": null,
      "outputs": [
        {
          "output_type": "stream",
          "text": [
            "[[0 0 0 ... 0 0 0]]\n"
          ],
          "name": "stdout"
        }
      ]
    },
    {
      "cell_type": "code",
      "metadata": {
        "colab": {
          "base_uri": "https://localhost:8080/"
        },
        "id": "tpqw05Z_7xnz",
        "outputId": "d769cab1-739f-4f21-e325-f3e10c9ea1bc"
      },
      "source": [
        "len(trainVectors.todense())"
      ],
      "execution_count": null,
      "outputs": [
        {
          "output_type": "execute_result",
          "data": {
            "text/plain": [
              "7613"
            ]
          },
          "metadata": {
            "tags": []
          },
          "execution_count": 101
        }
      ]
    },
    {
      "cell_type": "code",
      "metadata": {
        "colab": {
          "base_uri": "https://localhost:8080/"
        },
        "id": "BfFE_CC57zoe",
        "outputId": "4fde6f16-07ed-4f73-8c63-4c8b9267096b"
      },
      "source": [
        "trainVectors[2].shape"
      ],
      "execution_count": null,
      "outputs": [
        {
          "output_type": "execute_result",
          "data": {
            "text/plain": [
              "(1, 21637)"
            ]
          },
          "metadata": {
            "tags": []
          },
          "execution_count": 102
        }
      ]
    },
    {
      "cell_type": "code",
      "metadata": {
        "colab": {
          "base_uri": "https://localhost:8080/"
        },
        "id": "8-YPGoZs715a",
        "outputId": "1d2039de-bad0-4a19-e45f-abdc0e277692"
      },
      "source": [
        "trainVectors[1]"
      ],
      "execution_count": null,
      "outputs": [
        {
          "output_type": "execute_result",
          "data": {
            "text/plain": [
              "<1x21637 sparse matrix of type '<class 'numpy.int64'>'\n",
              "\twith 7 stored elements in Compressed Sparse Row format>"
            ]
          },
          "metadata": {
            "tags": []
          },
          "execution_count": 103
        }
      ]
    },
    {
      "cell_type": "code",
      "metadata": {
        "id": "sQNmZWSC78CI"
      },
      "source": [
        "from keras.models import Sequential\n",
        "from keras.layers import Embedding,LSTM, Dense,Dropout\n",
        "from keras.initializers import Constant\n",
        "from keras.optimizers import Adam\n",
        "\n"
      ],
      "execution_count": null,
      "outputs": []
    },
    {
      "cell_type": "code",
      "metadata": {
        "id": "kffv8-2K8MfU"
      },
      "source": [
        "model=Sequential()\n",
        "\n",
        "model.add(Embedding(trainVectors.shape[0],32,input_length=trainVectors.shape[1]))\n",
        "model.add(LSTM(64,dropout=0.1))\n",
        "model.add(Dense(1, activation='sigmoid'))\n"
      ],
      "execution_count": null,
      "outputs": []
    },
    {
      "cell_type": "code",
      "metadata": {
        "id": "kGE6iKb_8_A2"
      },
      "source": [
        "optimizer=Adam(learning_rate=3e-4)\n"
      ],
      "execution_count": null,
      "outputs": []
    },
    {
      "cell_type": "code",
      "metadata": {
        "id": "3HFZ4FMM9GF0"
      },
      "source": [
        "model.compile(loss='binary_crossentropy',optimizer=optimizer,metrics=['accuracy'])"
      ],
      "execution_count": null,
      "outputs": []
    },
    {
      "cell_type": "code",
      "metadata": {
        "colab": {
          "base_uri": "https://localhost:8080/"
        },
        "id": "Kyc4zisc9Rt6",
        "outputId": "1ea9c8c3-4c67-4e07-ca11-24ed6f7ce875"
      },
      "source": [
        "model.summary()"
      ],
      "execution_count": null,
      "outputs": [
        {
          "output_type": "stream",
          "text": [
            "Model: \"sequential_6\"\n",
            "_________________________________________________________________\n",
            "Layer (type)                 Output Shape              Param #   \n",
            "=================================================================\n",
            "embedding_6 (Embedding)      (None, 21637, 32)         243616    \n",
            "_________________________________________________________________\n",
            "lstm_5 (LSTM)                (None, 64)                24832     \n",
            "_________________________________________________________________\n",
            "dense_7 (Dense)              (None, 1)                 65        \n",
            "=================================================================\n",
            "Total params: 268,513\n",
            "Trainable params: 268,513\n",
            "Non-trainable params: 0\n",
            "_________________________________________________________________\n"
          ],
          "name": "stdout"
        }
      ]
    },
    {
      "cell_type": "code",
      "metadata": {
        "id": "5q23wtcD9Ufl"
      },
      "source": [
        "labels=np.array(train['target'])"
      ],
      "execution_count": null,
      "outputs": []
    },
    {
      "cell_type": "code",
      "metadata": {
        "colab": {
          "base_uri": "https://localhost:8080/"
        },
        "id": "HEHw2aUH9nlI",
        "outputId": "da703b17-21f2-4635-f283-aeab2eeec04e"
      },
      "source": [
        "labels.shape"
      ],
      "execution_count": null,
      "outputs": [
        {
          "output_type": "execute_result",
          "data": {
            "text/plain": [
              "(7613,)"
            ]
          },
          "metadata": {
            "tags": []
          },
          "execution_count": 110
        }
      ]
    },
    {
      "cell_type": "code",
      "metadata": {
        "id": "Y51GTxny-llw"
      },
      "source": [
        ""
      ],
      "execution_count": null,
      "outputs": []
    },
    {
      "cell_type": "code",
      "metadata": {
        "id": "Sf5u5Irh_By7"
      },
      "source": [
        ""
      ],
      "execution_count": null,
      "outputs": []
    },
    {
      "cell_type": "code",
      "metadata": {
        "id": "RBDgg4Hk9uWT"
      },
      "source": [
        ""
      ],
      "execution_count": null,
      "outputs": []
    },
    {
      "cell_type": "code",
      "metadata": {
        "id": "9sWDMgwA9_1P"
      },
      "source": [
        "#Technique help from CodeBasics on YouTube\n",
        "text2vecmodel=\"https://tfhub.dev/google/tf2-preview/gnews-swivel-20dim/1\""
      ],
      "execution_count": null,
      "outputs": []
    },
    {
      "cell_type": "code",
      "metadata": {
        "id": "AzoXFqVw_VGD"
      },
      "source": [
        "import tensorflow_hub as hub"
      ],
      "execution_count": null,
      "outputs": []
    },
    {
      "cell_type": "code",
      "metadata": {
        "id": "Zy6YAYT8_WnI",
        "colab": {
          "base_uri": "https://localhost:8080/"
        },
        "outputId": "d85a6e71-29c8-4d5e-b6e2-c48c1b1f71d9"
      },
      "source": [
        "hublayer=hub.KerasLayer(text2vecmodel,input_shape=[],dtype=tf.string,trainable=True)"
      ],
      "execution_count": null,
      "outputs": [
        {
          "output_type": "stream",
          "text": [
            "WARNING:tensorflow:5 out of the last 6 calls to <function recreate_function.<locals>.restored_function_body at 0x7f339ac71dd0> triggered tf.function retracing. Tracing is expensive and the excessive number of tracings could be due to (1) creating @tf.function repeatedly in a loop, (2) passing tensors with different shapes, (3) passing Python objects instead of tensors. For (1), please define your @tf.function outside of the loop. For (2), @tf.function has experimental_relax_shapes=True option that relaxes argument shapes that can avoid unnecessary retracing. For (3), please refer to https://www.tensorflow.org/guide/function#controlling_retracing and https://www.tensorflow.org/api_docs/python/tf/function for  more details.\n"
          ],
          "name": "stdout"
        },
        {
          "output_type": "stream",
          "text": [
            "WARNING:tensorflow:5 out of the last 6 calls to <function recreate_function.<locals>.restored_function_body at 0x7f339ac71dd0> triggered tf.function retracing. Tracing is expensive and the excessive number of tracings could be due to (1) creating @tf.function repeatedly in a loop, (2) passing tensors with different shapes, (3) passing Python objects instead of tensors. For (1), please define your @tf.function outside of the loop. For (2), @tf.function has experimental_relax_shapes=True option that relaxes argument shapes that can avoid unnecessary retracing. For (3), please refer to https://www.tensorflow.org/guide/function#controlling_retracing and https://www.tensorflow.org/api_docs/python/tf/function for  more details.\n"
          ],
          "name": "stderr"
        }
      ]
    },
    {
      "cell_type": "code",
      "metadata": {
        "id": "ltOIv4I8_dIK"
      },
      "source": [
        "trainArray=np.array(train['text'])"
      ],
      "execution_count": null,
      "outputs": []
    },
    {
      "cell_type": "code",
      "metadata": {
        "colab": {
          "base_uri": "https://localhost:8080/"
        },
        "id": "SO7FSC10_Y7E",
        "outputId": "14c9b2e5-f357-4db1-e3f7-efe5643245f7"
      },
      "source": [
        "hublayer(trainArray).shape"
      ],
      "execution_count": null,
      "outputs": [
        {
          "output_type": "stream",
          "text": [
            "WARNING:tensorflow:6 out of the last 7 calls to <function recreate_function.<locals>.restored_function_body at 0x7f339ac75950> triggered tf.function retracing. Tracing is expensive and the excessive number of tracings could be due to (1) creating @tf.function repeatedly in a loop, (2) passing tensors with different shapes, (3) passing Python objects instead of tensors. For (1), please define your @tf.function outside of the loop. For (2), @tf.function has experimental_relax_shapes=True option that relaxes argument shapes that can avoid unnecessary retracing. For (3), please refer to https://www.tensorflow.org/guide/function#controlling_retracing and https://www.tensorflow.org/api_docs/python/tf/function for  more details.\n"
          ],
          "name": "stdout"
        },
        {
          "output_type": "stream",
          "text": [
            "WARNING:tensorflow:6 out of the last 7 calls to <function recreate_function.<locals>.restored_function_body at 0x7f339ac75950> triggered tf.function retracing. Tracing is expensive and the excessive number of tracings could be due to (1) creating @tf.function repeatedly in a loop, (2) passing tensors with different shapes, (3) passing Python objects instead of tensors. For (1), please define your @tf.function outside of the loop. For (2), @tf.function has experimental_relax_shapes=True option that relaxes argument shapes that can avoid unnecessary retracing. For (3), please refer to https://www.tensorflow.org/guide/function#controlling_retracing and https://www.tensorflow.org/api_docs/python/tf/function for  more details.\n"
          ],
          "name": "stderr"
        },
        {
          "output_type": "execute_result",
          "data": {
            "text/plain": [
              "TensorShape([7613, 20])"
            ]
          },
          "metadata": {
            "tags": []
          },
          "execution_count": 115
        }
      ]
    },
    {
      "cell_type": "code",
      "metadata": {
        "id": "I6InYd9e_bSU"
      },
      "source": [
        "hubTrain=hublayer(trainArray)"
      ],
      "execution_count": null,
      "outputs": []
    },
    {
      "cell_type": "code",
      "metadata": {
        "colab": {
          "base_uri": "https://localhost:8080/"
        },
        "id": "DZzmHTRw_2vB",
        "outputId": "e1fb13ed-195d-4e58-fe16-55716b9674fb"
      },
      "source": [
        "hubTrain.shape"
      ],
      "execution_count": null,
      "outputs": [
        {
          "output_type": "execute_result",
          "data": {
            "text/plain": [
              "TensorShape([7613, 20])"
            ]
          },
          "metadata": {
            "tags": []
          },
          "execution_count": 117
        }
      ]
    },
    {
      "cell_type": "code",
      "metadata": {
        "id": "vWaasgaH_3tt"
      },
      "source": [
        "model=Sequential()\n",
        "\n",
        "model.add(Embedding(hubTrain.shape[0],32,input_length=hubTrain.shape[1]))\n",
        "model.add(LSTM(64,dropout=0.1))\n",
        "model.add(Dense(1, activation='sigmoid'))\n"
      ],
      "execution_count": null,
      "outputs": []
    },
    {
      "cell_type": "code",
      "metadata": {
        "id": "Zfy6baALABVx"
      },
      "source": [
        "optimizer=Adam(learning_rate=3e-4)\n"
      ],
      "execution_count": null,
      "outputs": []
    },
    {
      "cell_type": "code",
      "metadata": {
        "id": "fj9aOQymAEkz"
      },
      "source": [
        "model.compile(loss='binary_crossentropy',optimizer=optimizer,metrics=['accuracy'])"
      ],
      "execution_count": null,
      "outputs": []
    },
    {
      "cell_type": "code",
      "metadata": {
        "colab": {
          "base_uri": "https://localhost:8080/"
        },
        "id": "uAfh6-N7AHDg",
        "outputId": "8a76025e-e873-4209-8226-31d5d537ecd5"
      },
      "source": [
        "model.summary()"
      ],
      "execution_count": null,
      "outputs": [
        {
          "output_type": "stream",
          "text": [
            "Model: \"sequential_7\"\n",
            "_________________________________________________________________\n",
            "Layer (type)                 Output Shape              Param #   \n",
            "=================================================================\n",
            "embedding_7 (Embedding)      (None, 20, 32)            243616    \n",
            "_________________________________________________________________\n",
            "lstm_6 (LSTM)                (None, 64)                24832     \n",
            "_________________________________________________________________\n",
            "dense_8 (Dense)              (None, 1)                 65        \n",
            "=================================================================\n",
            "Total params: 268,513\n",
            "Trainable params: 268,513\n",
            "Non-trainable params: 0\n",
            "_________________________________________________________________\n"
          ],
          "name": "stdout"
        }
      ]
    },
    {
      "cell_type": "code",
      "metadata": {
        "colab": {
          "base_uri": "https://localhost:8080/"
        },
        "id": "9mPG-vBaAToJ",
        "outputId": "f0533007-ef47-4c58-c369-067394d8b431"
      },
      "source": [
        "labels.shape"
      ],
      "execution_count": null,
      "outputs": [
        {
          "output_type": "execute_result",
          "data": {
            "text/plain": [
              "(7613,)"
            ]
          },
          "metadata": {
            "tags": []
          },
          "execution_count": 122
        }
      ]
    },
    {
      "cell_type": "code",
      "metadata": {
        "colab": {
          "base_uri": "https://localhost:8080/"
        },
        "id": "x-CvZWG7AZZ2",
        "outputId": "9a7cbab3-ac47-4359-a123-b238b8b19a6c"
      },
      "source": [
        "for i in hubTrain[:5]:\n",
        "  print(i)"
      ],
      "execution_count": null,
      "outputs": [
        {
          "output_type": "stream",
          "text": [
            "tf.Tensor(\n",
            "[ 0.00723878  0.15689617  1.2953067  -0.04077986 -0.16036902 -1.2004429\n",
            " -0.40451345 -0.5239726  -0.23558664 -0.35022184 -0.28988177 -0.47197863\n",
            " -0.07621863  0.17048942 -0.8323773   0.02260084  0.16125458 -0.64086777\n",
            " -0.569074    0.04000134], shape=(20,), dtype=float32)\n",
            "tf.Tensor(\n",
            "[-0.49837342  1.2828879  -0.18836126 -0.9473474   0.88058084 -0.17885518\n",
            " -0.01543167  0.38327044 -1.508848    1.7532812  -0.75493276  0.601241\n",
            " -0.14378418 -0.891944    0.43213665  1.346741   -1.4859254   1.5762157\n",
            " -0.37878057  0.9423684 ], shape=(20,), dtype=float32)\n",
            "tf.Tensor(\n",
            "[ 0.08814443 -0.31140247  0.6044149   1.7130805   1.3203121  -3.201303\n",
            "  0.8445131   0.9621795  -1.5353138   2.2069528  -0.2790253   0.01095965\n",
            " -2.2282734   0.2043116  -2.17501     1.3441613   0.11884003 -1.2388006\n",
            " -0.25501075  0.69527215], shape=(20,), dtype=float32)\n",
            "tf.Tensor(\n",
            "[-1.0832024   0.6943499  -0.2933439   0.30142915  1.8872913  -2.8647776\n",
            " -0.01886398  0.17613813 -2.3882043   1.0208809   0.14414711  0.8023298\n",
            " -1.3262839  -0.05540187 -0.26814777  1.400147   -1.4329965  -1.5469049\n",
            "  0.45624873  0.11706318], shape=(20,), dtype=float32)\n",
            "tf.Tensor(\n",
            "[ 0.29605967 -0.40111887  0.26065415 -0.13339992  0.04309648 -0.7813289\n",
            " -0.45690984  0.9527756   0.3591383   0.34268254 -1.7342949   1.611835\n",
            " -0.6235082  -0.75811195 -0.30531144  1.0093571  -0.75967395 -0.7493195\n",
            " -1.21656     0.41313452], shape=(20,), dtype=float32)\n"
          ],
          "name": "stdout"
        }
      ]
    },
    {
      "cell_type": "code",
      "metadata": {
        "id": "a0gz38CGAf4Z"
      },
      "source": [
        "hubTrain=hubTrain.numpy()"
      ],
      "execution_count": null,
      "outputs": []
    },
    {
      "cell_type": "code",
      "metadata": {
        "colab": {
          "base_uri": "https://localhost:8080/"
        },
        "id": "B-AATKr_Atvv",
        "outputId": "2bcbe02a-bf04-43ec-d616-187066c2fea1"
      },
      "source": [
        "hubTrain.shape"
      ],
      "execution_count": null,
      "outputs": [
        {
          "output_type": "execute_result",
          "data": {
            "text/plain": [
              "(7613, 20)"
            ]
          },
          "metadata": {
            "tags": []
          },
          "execution_count": 125
        }
      ]
    },
    {
      "cell_type": "code",
      "metadata": {
        "colab": {
          "base_uri": "https://localhost:8080/"
        },
        "id": "smiZhKI3BTCM",
        "outputId": "4bac5646-dd8a-441e-fc7f-ddaa9e9e0e38"
      },
      "source": [
        "hubTrain"
      ],
      "execution_count": null,
      "outputs": [
        {
          "output_type": "execute_result",
          "data": {
            "text/plain": [
              "array([[ 0.00723878,  0.15689617,  1.2953067 , ..., -0.64086777,\n",
              "        -0.569074  ,  0.04000134],\n",
              "       [-0.49837342,  1.2828879 , -0.18836126, ...,  1.5762157 ,\n",
              "        -0.37878057,  0.9423684 ],\n",
              "       [ 0.08814443, -0.31140247,  0.6044149 , ..., -1.2388006 ,\n",
              "        -0.25501075,  0.69527215],\n",
              "       ...,\n",
              "       [-1.0302866 ,  0.20015353, -0.69170207, ...,  0.5923196 ,\n",
              "         1.1341598 ,  0.18402041],\n",
              "       [ 0.19233367, -0.517235  , -0.7621139 , ..., -0.5327093 ,\n",
              "        -1.1736155 ,  0.00943424],\n",
              "       [-1.2777979 ,  0.16780092,  0.72087336, ...,  1.0953661 ,\n",
              "         0.92622113,  0.41969982]], dtype=float32)"
            ]
          },
          "metadata": {
            "tags": []
          },
          "execution_count": 126
        }
      ]
    },
    {
      "cell_type": "code",
      "metadata": {
        "id": "PfSmyk7pBWDM"
      },
      "source": [
        "model=Sequential()\n",
        "\n",
        "model.add(Embedding(hubTrain.shape[0],32,input_length=hubTrain.shape[1]))\n",
        "model.add(LSTM(64,dropout=0.1))\n",
        "model.add(Dense(1, activation='sigmoid'))\n"
      ],
      "execution_count": null,
      "outputs": []
    },
    {
      "cell_type": "code",
      "metadata": {
        "id": "q1k2tGVBBaV2"
      },
      "source": [
        "optimizer=Adam(learning_rate=3e-4)\n"
      ],
      "execution_count": null,
      "outputs": []
    },
    {
      "cell_type": "code",
      "metadata": {
        "colab": {
          "base_uri": "https://localhost:8080/"
        },
        "id": "kwf7VoDaBckI",
        "outputId": "027abae1-dca1-410c-9204-b48d926fc141"
      },
      "source": [
        "model.summary()"
      ],
      "execution_count": null,
      "outputs": [
        {
          "output_type": "stream",
          "text": [
            "Model: \"sequential_8\"\n",
            "_________________________________________________________________\n",
            "Layer (type)                 Output Shape              Param #   \n",
            "=================================================================\n",
            "embedding_8 (Embedding)      (None, 20, 32)            243616    \n",
            "_________________________________________________________________\n",
            "lstm_7 (LSTM)                (None, 64)                24832     \n",
            "_________________________________________________________________\n",
            "dense_9 (Dense)              (None, 1)                 65        \n",
            "=================================================================\n",
            "Total params: 268,513\n",
            "Trainable params: 268,513\n",
            "Non-trainable params: 0\n",
            "_________________________________________________________________\n"
          ],
          "name": "stdout"
        }
      ]
    },
    {
      "cell_type": "code",
      "metadata": {
        "id": "lMpNQ1khBnHF"
      },
      "source": [
        "model.compile(loss='binary_crossentropy',optimizer=optimizer,metrics=['accuracy'])"
      ],
      "execution_count": null,
      "outputs": []
    },
    {
      "cell_type": "code",
      "metadata": {
        "id": "DWsqvoIQCE7R"
      },
      "source": [
        ""
      ],
      "execution_count": null,
      "outputs": []
    },
    {
      "cell_type": "code",
      "metadata": {
        "colab": {
          "base_uri": "https://localhost:8080/"
        },
        "id": "bbDmPU5gBjot",
        "outputId": "ac3cb51a-d668-4bfc-f73d-f026ea1a7c3a"
      },
      "source": [
        "model = tf.keras.Sequential()\n",
        "model.add(hublayer)\n",
        "model.add(Embedding(hubTrain.shape[0],32,input_length=hubTrain.shape[1]))\n",
        "model.add(tf.keras.layers.Dense(16,activation=\"relu\"))\n",
        "model.add(tf.keras.layers.Dense(1,activation=\"sigmoid\"))\n",
        "model.summary()"
      ],
      "execution_count": null,
      "outputs": [
        {
          "output_type": "stream",
          "text": [
            "Model: \"sequential_9\"\n",
            "_________________________________________________________________\n",
            "Layer (type)                 Output Shape              Param #   \n",
            "=================================================================\n",
            "keras_layer_1 (KerasLayer)   (None, 20)                400020    \n",
            "_________________________________________________________________\n",
            "embedding_9 (Embedding)      (None, 20, 32)            243616    \n",
            "_________________________________________________________________\n",
            "dense_10 (Dense)             (None, 20, 16)            528       \n",
            "_________________________________________________________________\n",
            "dense_11 (Dense)             (None, 20, 1)             17        \n",
            "=================================================================\n",
            "Total params: 644,181\n",
            "Trainable params: 644,181\n",
            "Non-trainable params: 0\n",
            "_________________________________________________________________\n"
          ],
          "name": "stdout"
        }
      ]
    },
    {
      "cell_type": "code",
      "metadata": {
        "id": "7mMgdI1mCyib"
      },
      "source": [
        "model.compile(optimizer='adam',loss='binary_crossentropy',metrics=['accuracy'])"
      ],
      "execution_count": null,
      "outputs": []
    },
    {
      "cell_type": "markdown",
      "metadata": {
        "id": "Vh0d65yI2pGp"
      },
      "source": [
        "###Models"
      ]
    },
    {
      "cell_type": "code",
      "metadata": {
        "colab": {
          "base_uri": "https://localhost:8080/"
        },
        "id": "4e-RcDVQDVtK",
        "outputId": "1c6266bb-07dc-4e97-c73e-3e6aa13880f0"
      },
      "source": [
        "trainArray"
      ],
      "execution_count": null,
      "outputs": [
        {
          "output_type": "execute_result",
          "data": {
            "text/plain": [
              "array(['Our Deeds are the Reason of this #earthquake May ALLAH Forgive us all',\n",
              "       'Forest fire near La Ronge Sask. Canada',\n",
              "       \"All residents asked to 'shelter in place' are being notified by officers. No other evacuation or shelter in place orders are expected\",\n",
              "       ...,\n",
              "       'M1.94 [01:04 UTC]?5km S of Volcano Hawaii. http://t.co/zDtoyd8EbJ',\n",
              "       'Police investigating after an e-bike collided with a car in Little Portugal. E-bike rider suffered serious non-life threatening injuries.',\n",
              "       'The Latest: More Homes Razed by Northern California Wildfire - ABC News http://t.co/YmY4rSkQ3d'],\n",
              "      dtype=object)"
            ]
          },
          "metadata": {
            "tags": []
          },
          "execution_count": 133
        }
      ]
    },
    {
      "cell_type": "code",
      "metadata": {
        "id": "Qhkq6B2lHzAV"
      },
      "source": [
        ""
      ],
      "execution_count": null,
      "outputs": []
    },
    {
      "cell_type": "code",
      "metadata": {
        "id": "2itm8yPtDP8n"
      },
      "source": [
        "hubTrain[hubTrain<0] = 0"
      ],
      "execution_count": null,
      "outputs": []
    },
    {
      "cell_type": "code",
      "metadata": {
        "colab": {
          "base_uri": "https://localhost:8080/"
        },
        "id": "SJS7IqxaDkpS",
        "outputId": "79e3177b-8974-41f8-9280-d3fbac7ebfa8"
      },
      "source": [
        "hubTrain.shape"
      ],
      "execution_count": null,
      "outputs": [
        {
          "output_type": "execute_result",
          "data": {
            "text/plain": [
              "(7613, 20)"
            ]
          },
          "metadata": {
            "tags": []
          },
          "execution_count": 135
        }
      ]
    },
    {
      "cell_type": "code",
      "metadata": {
        "colab": {
          "base_uri": "https://localhost:8080/"
        },
        "id": "vG4qlEtzDXxv",
        "outputId": "1a63161e-8789-4a9d-ce62-42c794ef7de8"
      },
      "source": [
        "hubTrain"
      ],
      "execution_count": null,
      "outputs": [
        {
          "output_type": "execute_result",
          "data": {
            "text/plain": [
              "array([[0.00723878, 0.15689617, 1.2953067 , ..., 0.        , 0.        ,\n",
              "        0.04000134],\n",
              "       [0.        , 1.2828879 , 0.        , ..., 1.5762157 , 0.        ,\n",
              "        0.9423684 ],\n",
              "       [0.08814443, 0.        , 0.6044149 , ..., 0.        , 0.        ,\n",
              "        0.69527215],\n",
              "       ...,\n",
              "       [0.        , 0.20015353, 0.        , ..., 0.5923196 , 1.1341598 ,\n",
              "        0.18402041],\n",
              "       [0.19233367, 0.        , 0.        , ..., 0.        , 0.        ,\n",
              "        0.00943424],\n",
              "       [0.        , 0.16780092, 0.72087336, ..., 1.0953661 , 0.92622113,\n",
              "        0.41969982]], dtype=float32)"
            ]
          },
          "metadata": {
            "tags": []
          },
          "execution_count": 136
        }
      ]
    },
    {
      "cell_type": "code",
      "metadata": {
        "id": "iWiojaMuH6iz"
      },
      "source": [
        "model=Sequential()\n",
        "\n",
        "model.add(Embedding(hubTrain.shape[0],32,input_length=hubTrain.shape[1]))\n",
        "model.add(LSTM(64,dropout=0.1))\n",
        "model.add(Dense(1, activation='sigmoid'))\n"
      ],
      "execution_count": null,
      "outputs": []
    },
    {
      "cell_type": "code",
      "metadata": {
        "id": "n8ZXcQuKH_Gv"
      },
      "source": [
        "optimizer=Adam(learning_rate=3e-4)"
      ],
      "execution_count": null,
      "outputs": []
    },
    {
      "cell_type": "code",
      "metadata": {
        "id": "GrKuiPJjICNm"
      },
      "source": [
        "model.compile(loss='binary_crossentropy',optimizer=optimizer,metrics=['accuracy'])"
      ],
      "execution_count": null,
      "outputs": []
    },
    {
      "cell_type": "code",
      "metadata": {
        "colab": {
          "base_uri": "https://localhost:8080/"
        },
        "id": "pr49Q0w_IFrO",
        "outputId": "8d6ac7c0-6305-47fd-8966-5d391688b3dd"
      },
      "source": [
        "fitting=model.fit(hubTrain,labels,epochs=20)"
      ],
      "execution_count": null,
      "outputs": [
        {
          "output_type": "stream",
          "text": [
            "Epoch 1/20\n",
            "238/238 [==============================] - 8s 25ms/step - loss: 0.6852 - accuracy: 0.5610\n",
            "Epoch 2/20\n",
            "238/238 [==============================] - 6s 26ms/step - loss: 0.6850 - accuracy: 0.5654\n",
            "Epoch 3/20\n",
            "238/238 [==============================] - 6s 25ms/step - loss: 0.6820 - accuracy: 0.5736\n",
            "Epoch 4/20\n",
            "238/238 [==============================] - 6s 25ms/step - loss: 0.6839 - accuracy: 0.5617\n",
            "Epoch 5/20\n",
            "238/238 [==============================] - 6s 25ms/step - loss: 0.6821 - accuracy: 0.5661\n",
            "Epoch 6/20\n",
            "238/238 [==============================] - 6s 25ms/step - loss: 0.6780 - accuracy: 0.5843\n",
            "Epoch 7/20\n",
            "238/238 [==============================] - 6s 25ms/step - loss: 0.6742 - accuracy: 0.5867\n",
            "Epoch 8/20\n",
            "238/238 [==============================] - 6s 25ms/step - loss: 0.6742 - accuracy: 0.5804\n",
            "Epoch 9/20\n",
            "238/238 [==============================] - 6s 25ms/step - loss: 0.6695 - accuracy: 0.5835\n",
            "Epoch 10/20\n",
            "238/238 [==============================] - 6s 25ms/step - loss: 0.6496 - accuracy: 0.6232\n",
            "Epoch 11/20\n",
            "238/238 [==============================] - 6s 26ms/step - loss: 0.6242 - accuracy: 0.6508\n",
            "Epoch 12/20\n",
            "238/238 [==============================] - 6s 25ms/step - loss: 0.6239 - accuracy: 0.6521\n",
            "Epoch 13/20\n",
            "238/238 [==============================] - 6s 25ms/step - loss: 0.6159 - accuracy: 0.6532\n",
            "Epoch 14/20\n",
            "238/238 [==============================] - 6s 26ms/step - loss: 0.6121 - accuracy: 0.6592\n",
            "Epoch 15/20\n",
            "238/238 [==============================] - 6s 25ms/step - loss: 0.6166 - accuracy: 0.6518\n",
            "Epoch 16/20\n",
            "238/238 [==============================] - 6s 25ms/step - loss: 0.6082 - accuracy: 0.6699\n",
            "Epoch 17/20\n",
            "238/238 [==============================] - 6s 26ms/step - loss: 0.6098 - accuracy: 0.6671\n",
            "Epoch 18/20\n",
            "238/238 [==============================] - 6s 26ms/step - loss: 0.6072 - accuracy: 0.6626\n",
            "Epoch 19/20\n",
            "238/238 [==============================] - 6s 26ms/step - loss: 0.6089 - accuracy: 0.6697\n",
            "Epoch 20/20\n",
            "238/238 [==============================] - 6s 25ms/step - loss: 0.6016 - accuracy: 0.6694\n"
          ],
          "name": "stdout"
        }
      ]
    },
    {
      "cell_type": "code",
      "metadata": {
        "id": "g0zYSX9n21NC"
      },
      "source": [
        "model=Sequential()\n",
        "\n",
        "model.add(Embedding(hubTrain.shape[0],32,input_length=hubTrain.shape[1]))\n",
        "model.add(LSTM(32,dropout=0.1))\n",
        "\n",
        "model.add(Dense(1, activation='sigmoid'))\n"
      ],
      "execution_count": null,
      "outputs": []
    },
    {
      "cell_type": "code",
      "metadata": {
        "id": "K4utJSJA3gLw"
      },
      "source": [
        "optimizer=Adam(learning_rate=0.0001)"
      ],
      "execution_count": null,
      "outputs": []
    },
    {
      "cell_type": "code",
      "metadata": {
        "id": "UqITJS6y3kUf"
      },
      "source": [
        "model.compile(loss='binary_crossentropy',optimizer=optimizer,metrics=['accuracy'])"
      ],
      "execution_count": null,
      "outputs": []
    },
    {
      "cell_type": "code",
      "metadata": {
        "colab": {
          "base_uri": "https://localhost:8080/"
        },
        "id": "qi0d1o663mjX",
        "outputId": "446e3a23-543a-41be-ed05-64a07e4a0061"
      },
      "source": [
        "fitting=model.fit(hubTrain,labels,epochs=20)"
      ],
      "execution_count": null,
      "outputs": [
        {
          "output_type": "stream",
          "text": [
            "Epoch 1/20\n",
            "238/238 [==============================] - 7s 21ms/step - loss: 0.6881 - accuracy: 0.5720\n",
            "Epoch 2/20\n",
            "238/238 [==============================] - 5s 22ms/step - loss: 0.6826 - accuracy: 0.5749\n",
            "Epoch 3/20\n",
            "238/238 [==============================] - 5s 22ms/step - loss: 0.6833 - accuracy: 0.5701\n",
            "Epoch 4/20\n",
            "238/238 [==============================] - 5s 22ms/step - loss: 0.6833 - accuracy: 0.5695\n",
            "Epoch 5/20\n",
            "238/238 [==============================] - 5s 22ms/step - loss: 0.6850 - accuracy: 0.5642\n",
            "Epoch 6/20\n",
            "238/238 [==============================] - 5s 21ms/step - loss: 0.6820 - accuracy: 0.5736\n",
            "Epoch 7/20\n",
            "238/238 [==============================] - 5s 22ms/step - loss: 0.6823 - accuracy: 0.5719\n",
            "Epoch 8/20\n",
            "238/238 [==============================] - 5s 22ms/step - loss: 0.6834 - accuracy: 0.5668\n",
            "Epoch 9/20\n",
            "238/238 [==============================] - 5s 22ms/step - loss: 0.6826 - accuracy: 0.5700\n",
            "Epoch 10/20\n",
            "238/238 [==============================] - 5s 22ms/step - loss: 0.6803 - accuracy: 0.5769\n",
            "Epoch 11/20\n",
            "238/238 [==============================] - 5s 23ms/step - loss: 0.6830 - accuracy: 0.5672\n",
            "Epoch 12/20\n",
            "238/238 [==============================] - 5s 22ms/step - loss: 0.6815 - accuracy: 0.5689\n",
            "Epoch 13/20\n",
            "238/238 [==============================] - 5s 21ms/step - loss: 0.6777 - accuracy: 0.5787\n",
            "Epoch 14/20\n",
            "238/238 [==============================] - 5s 22ms/step - loss: 0.6832 - accuracy: 0.5586\n",
            "Epoch 15/20\n",
            "238/238 [==============================] - 5s 22ms/step - loss: 0.6793 - accuracy: 0.5712\n",
            "Epoch 16/20\n",
            "238/238 [==============================] - 5s 21ms/step - loss: 0.6813 - accuracy: 0.5694\n",
            "Epoch 17/20\n",
            "238/238 [==============================] - 5s 22ms/step - loss: 0.6794 - accuracy: 0.5742\n",
            "Epoch 18/20\n",
            "238/238 [==============================] - 5s 21ms/step - loss: 0.6795 - accuracy: 0.5710\n",
            "Epoch 19/20\n",
            "238/238 [==============================] - 5s 22ms/step - loss: 0.6733 - accuracy: 0.5814\n",
            "Epoch 20/20\n",
            "238/238 [==============================] - 5s 22ms/step - loss: 0.6759 - accuracy: 0.5782\n"
          ],
          "name": "stdout"
        }
      ]
    },
    {
      "cell_type": "code",
      "metadata": {
        "colab": {
          "base_uri": "https://localhost:8080/"
        },
        "id": "MV_TSFmV3u36",
        "outputId": "42ca0b5d-1dd0-421f-dba7-9e944bd156ee"
      },
      "source": [
        "model=Sequential()\n",
        "\n",
        "model.add(Embedding(hubTrain.shape[0],32,input_length=hubTrain.shape[1]))\n",
        "model.add(LSTM(128,dropout=0.1))\n",
        "\n",
        "model.add(Dense(1, activation='sigmoid'))\n",
        "optimizer=Adam(learning_rate=0.0001)\n",
        "model.compile(loss='binary_crossentropy',optimizer=optimizer,metrics=['accuracy'])\n",
        "fitting=model.fit(hubTrain,labels,epochs=20)"
      ],
      "execution_count": null,
      "outputs": [
        {
          "output_type": "stream",
          "text": [
            "Epoch 1/20\n",
            "238/238 [==============================] - 9s 29ms/step - loss: 0.6866 - accuracy: 0.5718\n",
            "Epoch 2/20\n",
            "238/238 [==============================] - 7s 29ms/step - loss: 0.6834 - accuracy: 0.5716\n",
            "Epoch 3/20\n",
            "238/238 [==============================] - 7s 29ms/step - loss: 0.6825 - accuracy: 0.5744\n",
            "Epoch 4/20\n",
            "238/238 [==============================] - 7s 29ms/step - loss: 0.6819 - accuracy: 0.5750\n",
            "Epoch 5/20\n",
            "238/238 [==============================] - 8s 32ms/step - loss: 0.6841 - accuracy: 0.5663\n",
            "Epoch 6/20\n",
            "238/238 [==============================] - 7s 29ms/step - loss: 0.6800 - accuracy: 0.5792\n",
            "Epoch 7/20\n",
            "238/238 [==============================] - 7s 29ms/step - loss: 0.6849 - accuracy: 0.5600\n",
            "Epoch 8/20\n",
            "238/238 [==============================] - 7s 29ms/step - loss: 0.6831 - accuracy: 0.5650\n",
            "Epoch 9/20\n",
            "238/238 [==============================] - 7s 29ms/step - loss: 0.6850 - accuracy: 0.5586\n",
            "Epoch 10/20\n",
            "238/238 [==============================] - 7s 29ms/step - loss: 0.6787 - accuracy: 0.5762\n",
            "Epoch 11/20\n",
            "238/238 [==============================] - 7s 29ms/step - loss: 0.6794 - accuracy: 0.5723\n",
            "Epoch 12/20\n",
            "238/238 [==============================] - 7s 29ms/step - loss: 0.6819 - accuracy: 0.5663\n",
            "Epoch 13/20\n",
            "238/238 [==============================] - 7s 29ms/step - loss: 0.6808 - accuracy: 0.5664\n",
            "Epoch 14/20\n",
            "238/238 [==============================] - 7s 29ms/step - loss: 0.6778 - accuracy: 0.5742\n",
            "Epoch 15/20\n",
            "238/238 [==============================] - 7s 29ms/step - loss: 0.6783 - accuracy: 0.5724\n",
            "Epoch 16/20\n",
            "238/238 [==============================] - 7s 29ms/step - loss: 0.6757 - accuracy: 0.5853\n",
            "Epoch 17/20\n",
            "238/238 [==============================] - 7s 29ms/step - loss: 0.6727 - accuracy: 0.5868\n",
            "Epoch 18/20\n",
            "238/238 [==============================] - 7s 29ms/step - loss: 0.6748 - accuracy: 0.5839\n",
            "Epoch 19/20\n",
            "238/238 [==============================] - 7s 29ms/step - loss: 0.6573 - accuracy: 0.5923\n",
            "Epoch 20/20\n",
            "238/238 [==============================] - 7s 29ms/step - loss: 0.6388 - accuracy: 0.6404\n"
          ],
          "name": "stdout"
        }
      ]
    },
    {
      "cell_type": "code",
      "metadata": {
        "colab": {
          "base_uri": "https://localhost:8080/"
        },
        "id": "mtepxv4pKNiD",
        "outputId": "596f0911-23a4-4c1b-d0b1-b113f7361406"
      },
      "source": [
        "trainArray"
      ],
      "execution_count": null,
      "outputs": [
        {
          "output_type": "execute_result",
          "data": {
            "text/plain": [
              "array(['Our Deeds are the Reason of this #earthquake May ALLAH Forgive us all',\n",
              "       'Forest fire near La Ronge Sask. Canada',\n",
              "       \"All residents asked to 'shelter in place' are being notified by officers. No other evacuation or shelter in place orders are expected\",\n",
              "       ...,\n",
              "       'M1.94 [01:04 UTC]?5km S of Volcano Hawaii. http://t.co/zDtoyd8EbJ',\n",
              "       'Police investigating after an e-bike collided with a car in Little Portugal. E-bike rider suffered serious non-life threatening injuries.',\n",
              "       'The Latest: More Homes Razed by Northern California Wildfire - ABC News http://t.co/YmY4rSkQ3d'],\n",
              "      dtype=object)"
            ]
          },
          "metadata": {
            "tags": []
          },
          "execution_count": 146
        }
      ]
    },
    {
      "cell_type": "code",
      "metadata": {
        "id": "BqBMEmdRIMuL"
      },
      "source": [
        "hubTrain=np.array(hublayer(trainArray))"
      ],
      "execution_count": null,
      "outputs": []
    },
    {
      "cell_type": "code",
      "metadata": {
        "colab": {
          "base_uri": "https://localhost:8080/"
        },
        "id": "ZymJCMiIKRms",
        "outputId": "997ded6b-5b12-4a97-8af5-e2b80ca72750"
      },
      "source": [
        "hubTrain"
      ],
      "execution_count": null,
      "outputs": [
        {
          "output_type": "execute_result",
          "data": {
            "text/plain": [
              "array([[ 0.00723878,  0.15689617,  1.2953067 , ..., -0.64086777,\n",
              "        -0.569074  ,  0.04000134],\n",
              "       [-0.49837342,  1.2828879 , -0.18836126, ...,  1.5762157 ,\n",
              "        -0.37878057,  0.9423684 ],\n",
              "       [ 0.08814443, -0.31140247,  0.6044149 , ..., -1.2388006 ,\n",
              "        -0.25501075,  0.69527215],\n",
              "       ...,\n",
              "       [-1.0302866 ,  0.20015353, -0.69170207, ...,  0.5923196 ,\n",
              "         1.1341598 ,  0.18402041],\n",
              "       [ 0.19233367, -0.517235  , -0.7621139 , ..., -0.5327093 ,\n",
              "        -1.1736155 ,  0.00943424],\n",
              "       [-1.2777979 ,  0.16780092,  0.72087336, ...,  1.0953661 ,\n",
              "         0.92622113,  0.41969982]], dtype=float32)"
            ]
          },
          "metadata": {
            "tags": []
          },
          "execution_count": 148
        }
      ]
    },
    {
      "cell_type": "code",
      "metadata": {
        "id": "XP0deWmPKS2u"
      },
      "source": [
        "hubTrain=np.absolute(hubTrain)"
      ],
      "execution_count": null,
      "outputs": []
    },
    {
      "cell_type": "code",
      "metadata": {
        "id": "YGA49IgiKV2B"
      },
      "source": [
        "model=Sequential()\n",
        "\n",
        "model.add(Embedding(hubTrain.shape[0],32,input_length=hubTrain.shape[1]))\n",
        "model.add(LSTM(64,dropout=0.1))\n",
        "model.add(Dense(1, activation='sigmoid'))\n"
      ],
      "execution_count": null,
      "outputs": []
    },
    {
      "cell_type": "code",
      "metadata": {
        "id": "Wqt5hClJKaqV"
      },
      "source": [
        "optimizer=Adam(learning_rate=3e-4)"
      ],
      "execution_count": null,
      "outputs": []
    },
    {
      "cell_type": "code",
      "metadata": {
        "id": "z5djcjjZKdEz"
      },
      "source": [
        "model.compile(loss='binary_crossentropy',optimizer=optimizer,metrics=['accuracy'])"
      ],
      "execution_count": null,
      "outputs": []
    },
    {
      "cell_type": "code",
      "metadata": {
        "colab": {
          "base_uri": "https://localhost:8080/"
        },
        "id": "s4wbYdqiKfK9",
        "outputId": "23ce4f67-362e-41f5-c881-e2d8209fa11c"
      },
      "source": [
        "fitting=model.fit(hubTrain,labels,epochs=20)"
      ],
      "execution_count": null,
      "outputs": [
        {
          "output_type": "stream",
          "text": [
            "Epoch 1/20\n",
            "238/238 [==============================] - 6s 17ms/step - loss: 0.6863 - accuracy: 0.5567\n",
            "Epoch 2/20\n",
            "238/238 [==============================] - 4s 17ms/step - loss: 0.6773 - accuracy: 0.5476\n",
            "Epoch 3/20\n",
            "238/238 [==============================] - 4s 17ms/step - loss: 0.6668 - accuracy: 0.5737\n",
            "Epoch 4/20\n",
            "238/238 [==============================] - 4s 17ms/step - loss: 0.6639 - accuracy: 0.5851\n",
            "Epoch 5/20\n",
            "238/238 [==============================] - 4s 17ms/step - loss: 0.6656 - accuracy: 0.5725\n",
            "Epoch 6/20\n",
            "238/238 [==============================] - 4s 17ms/step - loss: 0.6695 - accuracy: 0.5804\n",
            "Epoch 7/20\n",
            "238/238 [==============================] - 4s 17ms/step - loss: 0.6604 - accuracy: 0.5885\n",
            "Epoch 8/20\n",
            "238/238 [==============================] - 4s 18ms/step - loss: 0.6610 - accuracy: 0.5902\n",
            "Epoch 9/20\n",
            "238/238 [==============================] - 4s 18ms/step - loss: 0.6655 - accuracy: 0.5771\n",
            "Epoch 10/20\n",
            "238/238 [==============================] - 4s 18ms/step - loss: 0.6612 - accuracy: 0.5871\n",
            "Epoch 11/20\n",
            "238/238 [==============================] - 4s 17ms/step - loss: 0.6612 - accuracy: 0.5935\n",
            "Epoch 12/20\n",
            "238/238 [==============================] - 4s 17ms/step - loss: 0.6612 - accuracy: 0.5911\n",
            "Epoch 13/20\n",
            "238/238 [==============================] - 4s 18ms/step - loss: 0.6598 - accuracy: 0.5866\n",
            "Epoch 14/20\n",
            "238/238 [==============================] - 4s 17ms/step - loss: 0.6649 - accuracy: 0.5805\n",
            "Epoch 15/20\n",
            "238/238 [==============================] - 4s 17ms/step - loss: 0.6625 - accuracy: 0.5817\n",
            "Epoch 16/20\n",
            "238/238 [==============================] - 4s 17ms/step - loss: 0.6570 - accuracy: 0.5941\n",
            "Epoch 17/20\n",
            "238/238 [==============================] - 4s 17ms/step - loss: 0.6611 - accuracy: 0.5922\n",
            "Epoch 18/20\n",
            "238/238 [==============================] - 4s 17ms/step - loss: 0.6622 - accuracy: 0.5863\n",
            "Epoch 19/20\n",
            "238/238 [==============================] - 4s 17ms/step - loss: 0.6572 - accuracy: 0.5971\n",
            "Epoch 20/20\n",
            "238/238 [==============================] - 4s 17ms/step - loss: 0.6504 - accuracy: 0.6006\n"
          ],
          "name": "stdout"
        }
      ]
    },
    {
      "cell_type": "markdown",
      "metadata": {
        "id": "zeVXXpFOHmxO"
      },
      "source": [
        "####Better Models"
      ]
    },
    {
      "cell_type": "code",
      "metadata": {
        "id": "IkEZCCKiHmTk"
      },
      "source": [
        ""
      ],
      "execution_count": null,
      "outputs": []
    },
    {
      "cell_type": "code",
      "metadata": {
        "id": "JT2cfHOx6PNn"
      },
      "source": [
        "df=train['text']"
      ],
      "execution_count": null,
      "outputs": []
    },
    {
      "cell_type": "code",
      "metadata": {
        "id": "Sg3akpAd6vuA"
      },
      "source": [
        "from collections import Counter"
      ],
      "execution_count": null,
      "outputs": []
    },
    {
      "cell_type": "code",
      "metadata": {
        "id": "0G_eHTBAHto_"
      },
      "source": [
        "count=Counter()\n",
        "for i in df.values:\n",
        "  for word in i.split():\n",
        "    count[word]+=1\n",
        "    "
      ],
      "execution_count": null,
      "outputs": []
    },
    {
      "cell_type": "code",
      "metadata": {
        "colab": {
          "base_uri": "https://localhost:8080/"
        },
        "id": "O-zxByAjHvRA",
        "outputId": "39017958-a33d-4c4a-b1fd-d4d1087416c9"
      },
      "source": [
        "count"
      ],
      "execution_count": null,
      "outputs": [
        {
          "output_type": "execute_result",
          "data": {
            "text/plain": [
              "Counter({'Our': 25,\n",
              "         'Deeds': 1,\n",
              "         'are': 345,\n",
              "         'the': 2575,\n",
              "         'Reason': 5,\n",
              "         'of': 1722,\n",
              "         'this': 335,\n",
              "         '#earthquake': 8,\n",
              "         'May': 16,\n",
              "         'ALLAH': 1,\n",
              "         'Forgive': 1,\n",
              "         'us': 53,\n",
              "         'all': 178,\n",
              "         'Forest': 29,\n",
              "         'fire': 148,\n",
              "         'near': 50,\n",
              "         'La': 11,\n",
              "         'Ronge': 1,\n",
              "         'Sask.': 1,\n",
              "         'Canada': 4,\n",
              "         'All': 52,\n",
              "         'residents': 4,\n",
              "         'asked': 9,\n",
              "         'to': 1805,\n",
              "         \"'shelter\": 1,\n",
              "         'in': 1757,\n",
              "         \"place'\": 1,\n",
              "         'being': 67,\n",
              "         'notified': 1,\n",
              "         'by': 469,\n",
              "         'officers.': 1,\n",
              "         'No': 53,\n",
              "         'other': 31,\n",
              "         'evacuation': 32,\n",
              "         'or': 181,\n",
              "         'shelter': 4,\n",
              "         'place': 22,\n",
              "         'orders': 11,\n",
              "         'expected': 11,\n",
              "         '13,000': 1,\n",
              "         'people': 146,\n",
              "         'receive': 2,\n",
              "         '#wildfires': 5,\n",
              "         'California': 89,\n",
              "         'Just': 48,\n",
              "         'got': 103,\n",
              "         'sent': 12,\n",
              "         'photo': 8,\n",
              "         'from': 372,\n",
              "         'Ruby': 1,\n",
              "         '#Alaska': 2,\n",
              "         'as': 282,\n",
              "         'smoke': 33,\n",
              "         'pours': 1,\n",
              "         'into': 162,\n",
              "         'a': 1845,\n",
              "         'school': 47,\n",
              "         '#RockyFire': 4,\n",
              "         'Update': 6,\n",
              "         '=>': 1,\n",
              "         'Hwy.': 4,\n",
              "         '20': 13,\n",
              "         'closed': 15,\n",
              "         'both': 20,\n",
              "         'directions': 1,\n",
              "         'due': 27,\n",
              "         'Lake': 8,\n",
              "         'County': 30,\n",
              "         '-': 763,\n",
              "         '#CAfire': 1,\n",
              "         '#flood': 3,\n",
              "         '#disaster': 5,\n",
              "         'Heavy': 7,\n",
              "         'rain': 27,\n",
              "         'causes': 10,\n",
              "         'flash': 14,\n",
              "         'flooding': 26,\n",
              "         'streets': 6,\n",
              "         'Manitou,': 1,\n",
              "         'Colorado': 13,\n",
              "         'Springs': 3,\n",
              "         'areas': 7,\n",
              "         \"I'm\": 225,\n",
              "         'on': 773,\n",
              "         'top': 29,\n",
              "         'hill': 4,\n",
              "         'and': 1302,\n",
              "         'I': 1197,\n",
              "         'can': 141,\n",
              "         'see': 85,\n",
              "         'woods...': 1,\n",
              "         \"There's\": 11,\n",
              "         'an': 204,\n",
              "         'emergency': 61,\n",
              "         'happening': 7,\n",
              "         'now': 101,\n",
              "         'building': 18,\n",
              "         'across': 18,\n",
              "         'street': 10,\n",
              "         'afraid': 4,\n",
              "         'that': 492,\n",
              "         'tornado': 23,\n",
              "         'is': 814,\n",
              "         'coming': 33,\n",
              "         'our': 72,\n",
              "         'area...': 2,\n",
              "         'Three': 16,\n",
              "         'died': 21,\n",
              "         'heat': 25,\n",
              "         'wave': 24,\n",
              "         'so': 239,\n",
              "         'far': 26,\n",
              "         'Haha': 4,\n",
              "         'South': 20,\n",
              "         'Tampa': 1,\n",
              "         'getting': 50,\n",
              "         'flooded': 4,\n",
              "         'hah-': 1,\n",
              "         'WAIT': 1,\n",
              "         'A': 290,\n",
              "         'SECOND': 2,\n",
              "         'LIVE': 6,\n",
              "         'IN': 37,\n",
              "         'SOUTH': 1,\n",
              "         'TAMPA': 1,\n",
              "         'WHAT': 6,\n",
              "         'AM': 14,\n",
              "         'GONNA': 4,\n",
              "         'DO': 8,\n",
              "         'FVCK': 1,\n",
              "         '#flooding': 3,\n",
              "         '#raining': 1,\n",
              "         '#Florida': 2,\n",
              "         '#TampaBay': 1,\n",
              "         '#Tampa': 1,\n",
              "         '18': 7,\n",
              "         '19': 5,\n",
              "         'days.': 5,\n",
              "         \"I've\": 39,\n",
              "         'lost': 17,\n",
              "         'count': 2,\n",
              "         '#Flood': 1,\n",
              "         'Bago': 2,\n",
              "         'Myanmar': 10,\n",
              "         '#We': 1,\n",
              "         'arrived': 2,\n",
              "         'Damage': 7,\n",
              "         'bus': 27,\n",
              "         '80': 3,\n",
              "         'multi': 1,\n",
              "         'car': 69,\n",
              "         'crash': 69,\n",
              "         '#BREAKING': 2,\n",
              "         \"What's\": 17,\n",
              "         'up': 250,\n",
              "         'man?': 1,\n",
              "         'love': 66,\n",
              "         'fruits': 1,\n",
              "         'Summer': 10,\n",
              "         'lovely': 2,\n",
              "         'My': 94,\n",
              "         'fast': 12,\n",
              "         'What': 59,\n",
              "         'goooooooaaaaaal!!!!!!': 1,\n",
              "         'ridiculous....': 1,\n",
              "         'London': 12,\n",
              "         'cool': 21,\n",
              "         ';)': 6,\n",
              "         'Love': 25,\n",
              "         'skiing': 1,\n",
              "         'wonderful': 4,\n",
              "         'day!': 3,\n",
              "         'LOOOOOOL': 1,\n",
              "         'way...I': 1,\n",
              "         \"can't\": 70,\n",
              "         'eat': 6,\n",
              "         'shit': 45,\n",
              "         'Was': 11,\n",
              "         'NYC': 6,\n",
              "         'last': 67,\n",
              "         'week!': 1,\n",
              "         'my': 549,\n",
              "         'girlfriend': 4,\n",
              "         'Cooool': 1,\n",
              "         ':)': 16,\n",
              "         'Do': 29,\n",
              "         'you': 632,\n",
              "         'like': 318,\n",
              "         'pasta?': 1,\n",
              "         'The': 552,\n",
              "         'end!': 1,\n",
              "         '@bbcmtd': 1,\n",
              "         'Wholesale': 3,\n",
              "         'Markets': 2,\n",
              "         'ablaze': 18,\n",
              "         'http://t.co/lHYXEOHY6C': 1,\n",
              "         'We': 70,\n",
              "         'always': 39,\n",
              "         'try': 16,\n",
              "         'bring': 14,\n",
              "         'heavy.': 1,\n",
              "         '#metal': 1,\n",
              "         '#RT': 9,\n",
              "         'http://t.co/YAo1e0xngw': 1,\n",
              "         '#AFRICANBAZE:': 1,\n",
              "         'Breaking': 20,\n",
              "         'news:Nigeria': 1,\n",
              "         'flag': 3,\n",
              "         'set': 36,\n",
              "         'Aba.': 1,\n",
              "         'http://t.co/2nndBGwyEi': 1,\n",
              "         'Crying': 1,\n",
              "         'out': 226,\n",
              "         'for': 820,\n",
              "         'more!': 3,\n",
              "         'Set': 10,\n",
              "         'me': 244,\n",
              "         'On': 50,\n",
              "         'plus': 3,\n",
              "         'side': 20,\n",
              "         'LOOK': 4,\n",
              "         'AT': 16,\n",
              "         'THE': 80,\n",
              "         'SKY': 1,\n",
              "         'LAST': 2,\n",
              "         'NIGHT': 5,\n",
              "         'IT': 12,\n",
              "         'WAS': 7,\n",
              "         'ABLAZE': 3,\n",
              "         'http://t.co/qqsmshaJ3N': 1,\n",
              "         '@PhDSquares': 1,\n",
              "         '#mufc': 2,\n",
              "         \"they've\": 4,\n",
              "         'built': 6,\n",
              "         'much': 55,\n",
              "         'hype': 2,\n",
              "         'around': 33,\n",
              "         'new': 105,\n",
              "         'acquisitions': 2,\n",
              "         'but': 250,\n",
              "         'doubt': 5,\n",
              "         'they': 145,\n",
              "         'will': 210,\n",
              "         'EPL': 1,\n",
              "         'season.': 4,\n",
              "         'INEC': 2,\n",
              "         'Office': 5,\n",
              "         'Abia': 1,\n",
              "         'Ablaze': 4,\n",
              "         'http://t.co/3ImaomknnA': 1,\n",
              "         'Barbados': 1,\n",
              "         '#Bridgetown': 1,\n",
              "         'JAMAICA': 1,\n",
              "         '\\x89ÛÒ': 38,\n",
              "         'Two': 39,\n",
              "         'cars': 17,\n",
              "         'ablaze:': 1,\n",
              "         'SANTA': 2,\n",
              "         'CRUZ': 2,\n",
              "         '\\x89ÛÓ': 26,\n",
              "         'Head': 7,\n",
              "         'St': 19,\n",
              "         'Elizabeth': 2,\n",
              "         'Police': 55,\n",
              "         'Superintende...': 1,\n",
              "         'http://t.co/wDUEaj8Q4J': 1,\n",
              "         'Lord': 17,\n",
              "         ':D': 7,\n",
              "         'Check': 33,\n",
              "         'these': 40,\n",
              "         'out:': 2,\n",
              "         'http://t.co/rOI2NSmEJJ': 2,\n",
              "         'http://t.co/3Tj8ZjiN21': 2,\n",
              "         'http://t.co/YDUiXEfIpE': 2,\n",
              "         'http://t.co/LxTjc87KLS': 2,\n",
              "         '#nsfw': 3,\n",
              "         'outside': 22,\n",
              "         \"you're\": 56,\n",
              "         'alive': 7,\n",
              "         'dead': 60,\n",
              "         'inside': 24,\n",
              "         'Had': 11,\n",
              "         'awesome': 12,\n",
              "         'time': 80,\n",
              "         'visiting': 1,\n",
              "         'CFC': 1,\n",
              "         'head': 31,\n",
              "         'office': 7,\n",
              "         'ancop': 1,\n",
              "         'site': 25,\n",
              "         'ablaze.': 1,\n",
              "         'Thanks': 11,\n",
              "         'Tita': 1,\n",
              "         'Vida': 1,\n",
              "         'taking': 15,\n",
              "         'care': 20,\n",
              "         '??': 214,\n",
              "         'SOOOO': 1,\n",
              "         'PUMPED': 1,\n",
              "         'FOR': 17,\n",
              "         '????': 96,\n",
              "         '@southridgelife': 1,\n",
              "         'wanted': 17,\n",
              "         'Chicago': 8,\n",
              "         'with': 508,\n",
              "         'preaching...': 1,\n",
              "         'But': 57,\n",
              "         'not': 236,\n",
              "         'hotel!': 1,\n",
              "         'http://t.co/o9qknbfOFX': 1,\n",
              "         'gained': 1,\n",
              "         '3': 81,\n",
              "         'followers': 7,\n",
              "         'week.': 8,\n",
              "         'You?': 1,\n",
              "         'Know': 3,\n",
              "         'your': 254,\n",
              "         'stats': 2,\n",
              "         'grow': 6,\n",
              "         'http://t.co/TIyUliF5c6': 1,\n",
              "         'How': 72,\n",
              "         'West': 17,\n",
              "         'was': 363,\n",
              "         'burned:': 2,\n",
              "         'Thousands': 4,\n",
              "         'wildfires': 4,\n",
              "         'alone': 15,\n",
              "         'http://t.co/vl5TBR3wbr': 1,\n",
              "         'Building': 7,\n",
              "         'perfect': 7,\n",
              "         'tracklist': 1,\n",
              "         'life': 54,\n",
              "         'leave': 24,\n",
              "         'First': 36,\n",
              "         'night': 31,\n",
              "         'retainers': 1,\n",
              "         'in.': 9,\n",
              "         \"It's\": 59,\n",
              "         'quite': 9,\n",
              "         'weird.': 3,\n",
              "         'Better': 2,\n",
              "         'get': 183,\n",
              "         'used': 23,\n",
              "         'it;': 1,\n",
              "         'have': 353,\n",
              "         'wear': 3,\n",
              "         'them': 71,\n",
              "         'every': 47,\n",
              "         'single': 5,\n",
              "         'next': 32,\n",
              "         'year': 50,\n",
              "         'at': 485,\n",
              "         'least.': 2,\n",
              "         'Deputies:': 2,\n",
              "         'Man': 42,\n",
              "         'shot': 19,\n",
              "         'before': 44,\n",
              "         'Brighton': 1,\n",
              "         'home': 49,\n",
              "         'http://t.co/gWNRhMSO8k': 1,\n",
              "         'wife': 11,\n",
              "         'six': 2,\n",
              "         'years': 56,\n",
              "         'jail': 2,\n",
              "         'setting': 9,\n",
              "         'niece': 3,\n",
              "         'http://t.co/eV1ahOUCZA': 1,\n",
              "         'Superintendent': 1,\n",
              "         'Lanford': 1,\n",
              "         'Salmon': 1,\n",
              "         'has': 229,\n",
              "         'r': 10,\n",
              "         '...': 147,\n",
              "         'http://t.co/vplR5Hka2u': 1,\n",
              "         'http://t.co/SxHW2TNNLf': 1,\n",
              "         'Police:': 6,\n",
              "         'Arsonist': 8,\n",
              "         'Deliberately': 1,\n",
              "         'Black': 27,\n",
              "         'Church': 4,\n",
              "         'In': 155,\n",
              "         'North': 18,\n",
              "         'CarolinaåÊAblaze': 1,\n",
              "         'http://t.co/pcXarbH9An': 1,\n",
              "         'Noches': 1,\n",
              "         'El-Bestia': 1,\n",
              "         \"'@Alexis_Sanchez:\": 1,\n",
              "         'happy': 13,\n",
              "         'teammates': 1,\n",
              "         'training': 5,\n",
              "         'hard': 17,\n",
              "         'goodnight': 1,\n",
              "         'gunners.??????': 1,\n",
              "         \"http://t.co/uc4j4jHvGR'\": 1,\n",
              "         '#Kurds': 1,\n",
              "         'trampling': 1,\n",
              "         'Turkmen': 2,\n",
              "         'later': 8,\n",
              "         'it': 433,\n",
              "         'while': 48,\n",
              "         'others': 17,\n",
              "         'vandalized': 1,\n",
              "         'offices': 2,\n",
              "         'Front': 3,\n",
              "         '#Diyala': 1,\n",
              "         'http://t.co/4IzFdYC3cg': 1,\n",
              "         'TRUCK': 2,\n",
              "         ':': 61,\n",
              "         'R21.': 1,\n",
              "         'VOORTREKKER': 1,\n",
              "         'AVE.': 1,\n",
              "         'OUTSIDE': 1,\n",
              "         'OR': 8,\n",
              "         'TAMBO': 1,\n",
              "         'INTL.': 1,\n",
              "         'CARGO': 1,\n",
              "         'SECTION.': 1,\n",
              "         'http://t.co/8kscqKfKkF': 1,\n",
              "         'hearts': 2,\n",
              "         'city': 25,\n",
              "         'gift': 4,\n",
              "         'And': 66,\n",
              "         'skyline': 1,\n",
              "         'kiss': 1,\n",
              "         'upon': 16,\n",
              "         'lips': 1,\n",
              "         '@\\x89Û_': 1,\n",
              "         'https://t.co/cYoMPZ1A0Z': 1,\n",
              "         'They': 41,\n",
              "         'sky': 10,\n",
              "         'tonight': 15,\n",
              "         'Los': 4,\n",
              "         'Angeles.': 1,\n",
              "         'expecting': 4,\n",
              "         'IG': 2,\n",
              "         'FB': 3,\n",
              "         'be': 371,\n",
              "         'filled': 3,\n",
              "         'sunset': 4,\n",
              "         'shots': 4,\n",
              "         'if': 143,\n",
              "         'know': 96,\n",
              "         'peeps!!': 1,\n",
              "         '#California': 4,\n",
              "         'http://t.co/iCSjGZ9tE1': 1,\n",
              "         '#climate': 1,\n",
              "         '#energy': 1,\n",
              "         'http://t.co/9FxmN0l0Bd': 1,\n",
              "         'Revel': 1,\n",
              "         'yours': 18,\n",
              "         'wmv': 2,\n",
              "         'videos': 7,\n",
              "         'means': 12,\n",
              "         'mac': 2,\n",
              "         'farewell': 1,\n",
              "         'en': 2,\n",
              "         'route': 5,\n",
              "         'dvd:': 1,\n",
              "         'GtxRWm': 1,\n",
              "         'Progressive': 1,\n",
              "         'greetings!': 1,\n",
              "         'about': 192,\n",
              "         'month': 8,\n",
              "         'students': 7,\n",
              "         'would': 116,\n",
              "         'their': 85,\n",
              "         'pens': 1,\n",
              "         'Torch': 3,\n",
              "         \"Publications'...\": 1,\n",
              "         'http://t.co/9FxPiXQuJt': 1,\n",
              "         'Rene': 2,\n",
              "         '&amp;': 295,\n",
              "         'Jacinta': 1,\n",
              "         'Secret': 8,\n",
              "         '2k13': 1,\n",
              "         '(Fallen': 1,\n",
              "         'Skies': 2,\n",
              "         'Edit)': 1,\n",
              "         'Mar': 1,\n",
              "         '30': 21,\n",
              "         '2013': 11,\n",
              "         'https://t.co/7MLMsUzV1Z': 1,\n",
              "         '@Navista7': 1,\n",
              "         'Steve': 8,\n",
              "         'fires': 66,\n",
              "         'here': 47,\n",
              "         'something': 24,\n",
              "         'else!': 1,\n",
              "         'tinderbox': 1,\n",
              "         'clown': 1,\n",
              "         \"'hood\": 1,\n",
              "         '@News24680': 1,\n",
              "         '#NowPlaying:': 2,\n",
              "         'Ian': 4,\n",
              "         'Buff': 1,\n",
              "         'Magnitude': 1,\n",
              "         'http://t.co/Av2JSjfFtc': 1,\n",
              "         '#EDM': 8,\n",
              "         '@nxwestmidlands': 1,\n",
              "         'huge': 16,\n",
              "         'markets': 3,\n",
              "         'http://t.co/rwzbFVNXER': 1,\n",
              "         '@ablaze': 1,\n",
              "         'what': 120,\n",
              "         'does': 25,\n",
              "         'talk': 11,\n",
              "         'go': 81,\n",
              "         'until?': 1,\n",
              "         \"don't\": 128,\n",
              "         'make': 54,\n",
              "         'work.': 5,\n",
              "         \"'I\": 17,\n",
              "         'kids': 21,\n",
              "         'cuz': 5,\n",
              "         'bicycle': 1,\n",
              "         'accident': 42,\n",
              "         'split': 3,\n",
              "         'testicles.': 1,\n",
              "         \"it's\": 115,\n",
              "         'impossible': 1,\n",
              "         \"kids'\": 1,\n",
              "         'MICHAEL': 1,\n",
              "         'YOU': 18,\n",
              "         'ARE': 10,\n",
              "         'FATHER': 1,\n",
              "         'Accident': 20,\n",
              "         'I-24': 1,\n",
              "         'W': 4,\n",
              "         '#NashvilleTraffic.': 1,\n",
              "         'Traffic': 11,\n",
              "         'moving': 7,\n",
              "         '8m': 1,\n",
              "         'slower': 3,\n",
              "         'than': 132,\n",
              "         'usual.': 2,\n",
              "         'https://t.co/0GHk693EgJ': 1,\n",
              "         'center': 5,\n",
              "         'lane': 4,\n",
              "         'blocked': 10,\n",
              "         '#SantaClara': 1,\n",
              "         'US-101': 1,\n",
              "         'NB': 2,\n",
              "         'Great': 16,\n",
              "         'America': 15,\n",
              "         'Pkwy': 2,\n",
              "         '#BayArea': 1,\n",
              "         '#Traffic': 1,\n",
              "         'http://t.co/pmlOhZuRWR': 1,\n",
              "         'http://t.co/GKYe6gjTk5': 1,\n",
              "         '#personalinjury': 1,\n",
              "         'summer?': 2,\n",
              "         'Read': 19,\n",
              "         'advice': 1,\n",
              "         'how': 111,\n",
              "         '#solicitor': 1,\n",
              "         'help': 50,\n",
              "         '#OtleyHour': 1,\n",
              "         '#stlouis': 1,\n",
              "         '#caraccidentlawyer': 1,\n",
              "         'Speeding': 1,\n",
              "         'Among': 2,\n",
              "         'Top': 22,\n",
              "         'Causes': 3,\n",
              "         'Teen': 7,\n",
              "         'Accidents': 1,\n",
              "         'https://t.co/k4zoMOF319': 1,\n",
              "         'https://t.co/S2kXVM0cBA': 1,\n",
              "         'Car': 14,\n",
              "         'tee\\x89Û_': 1,\n",
              "         'Reported': 1,\n",
              "         'motor': 2,\n",
              "         'vehicle': 5,\n",
              "         'Curry': 1,\n",
              "         'Herman': 1,\n",
              "         'Rd': 11,\n",
              "         'Stephenson': 1,\n",
              "         'involving': 13,\n",
              "         'overturned': 1,\n",
              "         'vehicle.': 2,\n",
              "         'Please': 28,\n",
              "         'use...': 1,\n",
              "         'http://t.co/YbJezKuRW1': 1,\n",
              "         'BigRigRadio': 1,\n",
              "         'Live': 8,\n",
              "         'Awareness': 1,\n",
              "         'I-77': 4,\n",
              "         'Mile': 5,\n",
              "         'Marker': 2,\n",
              "         '31': 9,\n",
              "         'Mooresville': 2,\n",
              "         'Iredell': 2,\n",
              "         'Vehicle': 4,\n",
              "         'Ramp': 1,\n",
              "         'Closed': 1,\n",
              "         '8/6': 3,\n",
              "         '1:18': 2,\n",
              "         'PM': 35,\n",
              "         'RT': 80,\n",
              "         '@SleepJunkies:': 1,\n",
              "         'Sleeping': 5,\n",
              "         'pills': 1,\n",
              "         'double': 6,\n",
              "         'risk': 9,\n",
              "         'http://t.co/7s9Nm1fiCT': 1,\n",
              "         \"'By\": 2,\n",
              "         \"accident'\": 1,\n",
              "         'knew': 7,\n",
              "         'gon': 3,\n",
              "         'happen': 11,\n",
              "         'https://t.co/Ysxun5vCeh': 1,\n",
              "         'N': 9,\n",
              "         'CABRILLO': 1,\n",
              "         'HWY/MAGELLAN': 1,\n",
              "         'AV': 4,\n",
              "         'MIR': 1,\n",
              "         '(08/06/15': 1,\n",
              "         '11:03:58)': 1,\n",
              "         '40': 32,\n",
              "         'Congestion': 1,\n",
              "         'pastor': 1,\n",
              "         'scene': 8,\n",
              "         'accident......who': 1,\n",
              "         'owner': 5,\n",
              "         'range': 2,\n",
              "         'rover': 1,\n",
              "         '?': 37,\n",
              "         'mom:': 2,\n",
              "         \"'we\": 2,\n",
              "         \"didn't\": 22,\n",
              "         'we': 149,\n",
              "         \"wished'\": 1,\n",
              "         'me:': 2,\n",
              "         \"'why\": 1,\n",
              "         \"that?'\": 1,\n",
              "         \"'there\": 1,\n",
              "         'some': 88,\n",
              "         'truck': 27,\n",
              "         'spilt': 1,\n",
              "         'mayonnaise': 1,\n",
              "         'over': 158,\n",
              "         '??????': 55,\n",
              "         'horrible': 28,\n",
              "         'past': 19,\n",
              "         'Sunday.': 1,\n",
              "         'finally': 20,\n",
              "         'able': 9,\n",
              "         'around.': 1,\n",
              "         'Thank': 16,\n",
              "         'GOD??': 1,\n",
              "         'Can': 16,\n",
              "         'wait': 16,\n",
              "         'pissed': 2,\n",
              "         'Donnie': 1,\n",
              "         'when': 181,\n",
              "         'tell': 19,\n",
              "         'him': 48,\n",
              "         'ANOTHER': 4,\n",
              "         'accident??': 1,\n",
              "         '#TruckCrash': 1,\n",
              "         'Overturns': 1,\n",
              "         '#FortWorth': 1,\n",
              "         'Interstate': 1,\n",
              "         'http://t.co/Rs22LJ4qFp': 1,\n",
              "         'Click': 3,\n",
              "         \"you've\": 6,\n",
              "         'been': 185,\n",
              "         'crash&gt;http://t.co/Ld0unIYw4k': 1,\n",
              "         '#Ashville': 1,\n",
              "         'US': 43,\n",
              "         '23': 3,\n",
              "         'SB': 3,\n",
              "         'SR': 1,\n",
              "         '752': 1,\n",
              "         '#traffic': 2,\n",
              "         'http://t.co/hylMo0WgFI': 1,\n",
              "         'Carolina': 1,\n",
              "         'accident:': 4,\n",
              "         'Motorcyclist': 8,\n",
              "         'Dies': 2,\n",
              "         'I-540': 1,\n",
              "         'Crash': 15,\n",
              "         'With': 48,\n",
              "         'That': 37,\n",
              "         'Crossed': 1,\n",
              "         'Median:': 1,\n",
              "         'motorcycle': 4,\n",
              "         'rider': 3,\n",
              "         'traveling...': 1,\n",
              "         'http://t.co/p18lzRlmy6': 1,\n",
              "         'FYI': 2,\n",
              "         'CAD:FYI:': 2,\n",
              "         ';ACCIDENT': 4,\n",
              "         'PROPERTY': 4,\n",
              "         'DAMAGE;NHS;999': 1,\n",
              "         'PINER': 2,\n",
              "         'RD/HORNDALE': 2,\n",
              "         'DR': 5,\n",
              "         'nAAYf:': 1,\n",
              "         'years.': 3,\n",
              "         'Turning': 2,\n",
              "         'onto': 7,\n",
              "         'Chandanee': 1,\n",
              "         'Magu': 1,\n",
              "         'MMA.': 1,\n",
              "         'Taxi': 1,\n",
              "         'rammed': 2,\n",
              "         'halfway': 1,\n",
              "         'turned.': 1,\n",
              "         'Everyone': 4,\n",
              "         'conf\\x89Û_': 1,\n",
              "         'left': 27,\n",
              "         '#Manchester': 3,\n",
              "         'Rt': 2,\n",
              "         '293': 1,\n",
              "         'Eddy': 1,\n",
              "         'stop': 32,\n",
              "         'traffic': 11,\n",
              "         'back': 85,\n",
              "         'NH-3A': 1,\n",
              "         'delay': 2,\n",
              "         '4': 55,\n",
              "         'mins': 3,\n",
              "         'DAMAGE;': 1,\n",
              "         'http://t.co/Oia5fxi4gM': 1,\n",
              "         'DAMAGE;WPD;1600': 1,\n",
              "         'S': 32,\n",
              "         '17TH': 1,\n",
              "         'ST': 5,\n",
              "         '8/6/2015@2:09': 1,\n",
              "         'PM:': 24,\n",
              "         'TRAFFIC': 3,\n",
              "         'ACCIDENT': 2,\n",
              "         'NO': 8,\n",
              "         'INJURY': 1,\n",
              "         '2781': 1,\n",
              "         'WILLIS': 1,\n",
              "         'FOREMAN': 1,\n",
              "         'RD': 6,\n",
              "         'http://t.co/VCkIT6EDEv': 1,\n",
              "         'Aashiqui': 1,\n",
              "         'Actress': 2,\n",
              "         'Anu': 1,\n",
              "         'Aggarwal': 1,\n",
              "         'Her': 10,\n",
              "         'Near-Fatal': 1,\n",
              "         'http://t.co/6Otfp31LqW': 1,\n",
              "         'Suffield': 1,\n",
              "         'Alberta': 2,\n",
              "         'https://t.co/bPTmlF4P10': 1,\n",
              "         '9': 15,\n",
              "         'backup': 1,\n",
              "         'South...accident': 1,\n",
              "         'blocking': 5,\n",
              "         'Right': 5,\n",
              "         '2': 145,\n",
              "         'Lanes': 1,\n",
              "         'Exit': 6,\n",
              "         'Langtree': 1,\n",
              "         'Rd...consider': 1,\n",
              "         'NC': 6,\n",
              "         '115': 1,\n",
              "         '150': 2,\n",
              "         '16': 12,\n",
              "         'alternate': 1,\n",
              "         'Has': 14,\n",
              "         'changed': 4,\n",
              "         'life?': 1,\n",
              "         'determine': 1,\n",
              "         'options': 3,\n",
              "         'financially': 1,\n",
              "         'support': 19,\n",
              "         'plans': 13,\n",
              "         'on-going': 1,\n",
              "         'treatment.': 1,\n",
              "         '#BREAKING:': 2,\n",
              "         'there': 91,\n",
              "         'deadly': 6,\n",
              "         'happened': 17,\n",
              "         '#Hagerstown': 1,\n",
              "         'today.': 17,\n",
              "         \"I'll\": 31,\n",
              "         'more': 128,\n",
              "         'details': 1,\n",
              "         '5': 56,\n",
              "         '@Your4State.': 1,\n",
              "         '#WHAG': 1,\n",
              "         '@flowri': 1,\n",
              "         'were': 99,\n",
              "         'marinading': 1,\n",
              "         'accident?': 3,\n",
              "         'only': 69,\n",
              "         'had': 95,\n",
              "         'even': 61,\n",
              "         'week': 25,\n",
              "         'fucking': 35,\n",
              "         '..': 8,\n",
              "         'Mfs': 1,\n",
              "         'drive': 8,\n",
              "         '.': 19,\n",
              "         '.@NorwayMFA': 1,\n",
              "         '#Bahrain': 1,\n",
              "         'police': 70,\n",
              "         'previously': 3,\n",
              "         'road': 14,\n",
              "         'killed': 89,\n",
              "         'explosion': 23,\n",
              "         'https://t.co/gFJfgTodad': 1,\n",
              "         'still': 88,\n",
              "         'heard': 31,\n",
              "         'Leaders': 1,\n",
              "         'Kenya': 3,\n",
              "         'forward': 3,\n",
              "         'comment': 3,\n",
              "         'issue': 4,\n",
              "         'disciplinary': 1,\n",
              "         'measures#ArrestPastorNganga': 1,\n",
              "         '@afterShock_DeLo': 2,\n",
              "         'scuf': 2,\n",
              "         'ps': 3,\n",
              "         'live': 36,\n",
              "         'game...': 1,\n",
              "         'cya': 1,\n",
              "         \"'The\": 26,\n",
              "         'man': 54,\n",
              "         'who': 150,\n",
              "         'himself': 7,\n",
              "         'further': 2,\n",
              "         'once': 17,\n",
              "         'effort': 4,\n",
              "         'gets': 23,\n",
              "         'painful': 1,\n",
              "         \"win.'\": 1,\n",
              "         'Roger': 2,\n",
              "         'Bannister': 1,\n",
              "         '320': 7,\n",
              "         '[IR]': 7,\n",
              "         'ICEMOON': 7,\n",
              "         '[AFTERSHOCK]': 7,\n",
              "         '|': 142,\n",
              "         'http://t.co/yNXnvVKCDA': 1,\n",
              "         '@djicemoon': 7,\n",
              "         '#Dubstep': 7,\n",
              "         '#TrapMusic': 7,\n",
              "         '#DnB': 8,\n",
              "         '#Dance': 7,\n",
              "         '#Ices\\x89Û_': 7,\n",
              "         'http://t.co/weQPesENku': 1,\n",
              "         \"'There\": 3,\n",
              "         'no': 178,\n",
              "         'victory': 4,\n",
              "         'bargain': 5,\n",
              "         'basement': 3,\n",
              "         \"prices.'\": 1,\n",
              "         'Dwight': 1,\n",
              "         'David': 7,\n",
              "         'Eisenhower': 1,\n",
              "         'http://t.co/vAM5POdGyw': 2,\n",
              "         'http://t.co/zEVakJaPcz': 2,\n",
              "         \"'Nobody\": 1,\n",
              "         'remembers': 1,\n",
              "         'came': 34,\n",
              "         \"second.'\": 1,\n",
              "         'Charles': 3,\n",
              "         'Schulz': 1,\n",
              "         'im': 31,\n",
              "         'speaking': 3,\n",
              "         'someone': 28,\n",
              "         'using': 10,\n",
              "         'xb1': 1,\n",
              "         'most': 41,\n",
              "         'end': 31,\n",
              "         'also.': 2,\n",
              "         'harder': 1,\n",
              "         'conflict': 3,\n",
              "         'glorious': 3,\n",
              "         \"triumph.'\": 1,\n",
              "         'Thomas': 7,\n",
              "         'Paine': 1,\n",
              "         '#GrowingUpSpoiled': 1,\n",
              "         'going': 91,\n",
              "         'clay': 1,\n",
              "         'pigeon': 1,\n",
              "         'shooting': 24,\n",
              "         'crying': 8,\n",
              "         'because': 66,\n",
              "         \"'aftershock'\": 1,\n",
              "         'So': 56,\n",
              "         'i': 139,\n",
              "         'guess': 15,\n",
              "         'one': 142,\n",
              "         'actually': 24,\n",
              "         'wants': 10,\n",
              "         'any': 43,\n",
              "         'free': 20,\n",
              "         'Aftershock': 7,\n",
              "         'TC.....': 1,\n",
              "         'terrifying': 1,\n",
              "         'best': 28,\n",
              "         'roller': 2,\n",
              "         'coaster': 2,\n",
              "         'ever': 42,\n",
              "         'on.': 5,\n",
              "         '*DISCLAIMER*': 1,\n",
              "         'very': 24,\n",
              "         'few.': 1,\n",
              "         'https://t.co/xMWODFMtUI': 1,\n",
              "         'http://t.co/M4JDZMGJoW': 1,\n",
              "         'http://t.co/n0uhAsfkBv': 1,\n",
              "         'http://t.co/e14EPzhotH': 1,\n",
              "         'http://t.co/22a9D5DO6q': 1,\n",
              "         '@KJForDays': 1,\n",
              "         'seeing': 13,\n",
              "         'Issues': 3,\n",
              "         'aftershock': 2,\n",
              "         'http://t.co/THyzOMVWU0': 2,\n",
              "         'http://t.co/83jOO0xk29': 2,\n",
              "         '#WisdomWed': 1,\n",
              "         'BONUS': 1,\n",
              "         'Minute': 25,\n",
              "         'Daily': 10,\n",
              "         'Habits': 1,\n",
              "         'could': 64,\n",
              "         'really': 58,\n",
              "         'improve': 2,\n",
              "         'life.': 10,\n",
              "         'many': 68,\n",
              "         'do': 124,\n",
              "         'already': 22,\n",
              "         'do?': 3,\n",
              "         '#lifehacks': 1,\n",
              "         'http://t.co/TBm9FQb8cW': 1,\n",
              "         'Aftershock:': 1,\n",
              "         'Protect': 4,\n",
              "         'Yourself': 6,\n",
              "         'Profit': 2,\n",
              "         'Next': 11,\n",
              "         'Global': 10,\n",
              "         'Financial': 7,\n",
              "         'Meltdown': 6,\n",
              "         'Wiedemer': 1,\n",
              "         'http': 1,\n",
              "         'http://t.co/WZTz4hgMVq': 1,\n",
              "         'moment': 12,\n",
              "         'scary': 3,\n",
              "         'guy': 17,\n",
              "         'behind': 15,\n",
              "         'just': 258,\n",
              "         'screaming': 21,\n",
              "         'bloody': 30,\n",
              "         'murder': 30,\n",
              "         '#silverwood': 1,\n",
              "         '#aftershock': 1,\n",
              "         '\\x89ã¢': 1,\n",
              "         '(2010)': 1,\n",
              "         'Full\\x89ã¢': 1,\n",
              "         'Streaming': 1,\n",
              "         'YouTube': 8,\n",
              "         'http://t.co/vVE3UsesGf': 1,\n",
              "         '&gt;&gt;': 11,\n",
              "         '$15': 1,\n",
              "         'Financial...': 1,\n",
              "         '##book': 1,\n",
              "         'http://t.co/f6ntUc734Z': 1,\n",
              "         '@esquireattire': 1,\n",
              "         'Sometimes': 5,\n",
              "         'face': 32,\n",
              "         'difficulties': 1,\n",
              "         'doing': 28,\n",
              "         'wrong': 16,\n",
              "         'right.': 2,\n",
              "         'Joel': 3,\n",
              "         'Osteen': 1,\n",
              "         'thing': 28,\n",
              "         'stands': 1,\n",
              "         'between': 12,\n",
              "         'dream': 4,\n",
              "         'belief': 2,\n",
              "         \"possible.'\": 1,\n",
              "         'Brown': 22,\n",
              "         'Praise': 1,\n",
              "         'God': 34,\n",
              "         'ministry': 1,\n",
              "         'tells': 4,\n",
              "         'is!!!': 1,\n",
              "         '#now': 1,\n",
              "         '#wdyouth': 1,\n",
              "         '#biblestudy': 1,\n",
              "         'https://t.co/UjK0e5GBcC': 1,\n",
              "         \"'Remembering\": 1,\n",
              "         'die': 16,\n",
              "         'way': 63,\n",
              "         'avoid': 9,\n",
              "         'trap': 2,\n",
              "         'thinking': 12,\n",
              "         \"lose.'\": 1,\n",
              "         'Jobs': 2,\n",
              "         'Tried': 4,\n",
              "         'orange': 2,\n",
              "         'never': 47,\n",
              "         'same': 27,\n",
              "         ...})"
            ]
          },
          "metadata": {
            "tags": []
          },
          "execution_count": 157
        }
      ]
    },
    {
      "cell_type": "code",
      "metadata": {
        "id": "TtGTTjA2H08D"
      },
      "source": [
        "from keras.preprocessing.text import Tokenizer"
      ],
      "execution_count": null,
      "outputs": []
    },
    {
      "cell_type": "code",
      "metadata": {
        "id": "lP6o8UpgH4OR"
      },
      "source": [
        "tokenizer=Tokenizer(num_words=len(count))"
      ],
      "execution_count": null,
      "outputs": []
    },
    {
      "cell_type": "code",
      "metadata": {
        "id": "q2_8wHUYH58R"
      },
      "source": [
        "tokenizer.fit_on_texts(count)"
      ],
      "execution_count": null,
      "outputs": []
    },
    {
      "cell_type": "code",
      "metadata": {
        "colab": {
          "base_uri": "https://localhost:8080/"
        },
        "id": "dXbYPzSgH_gZ",
        "outputId": "b4e63750-25c0-43a9-d9d9-eda1184abaf5"
      },
      "source": [
        "index=tokenizer.word_index\n",
        "type(index)"
      ],
      "execution_count": null,
      "outputs": [
        {
          "output_type": "execute_result",
          "data": {
            "text/plain": [
              "dict"
            ]
          },
          "metadata": {
            "tags": []
          },
          "execution_count": 161
        }
      ]
    },
    {
      "cell_type": "code",
      "metadata": {
        "id": "ew3aXIlDIBjC"
      },
      "source": [
        "sequences=tokenizer.texts_to_sequences(df)"
      ],
      "execution_count": null,
      "outputs": []
    },
    {
      "cell_type": "code",
      "metadata": {
        "id": "TBgIWNW4IDak"
      },
      "source": [
        "maxLength = max(len(x) for x in sequences )"
      ],
      "execution_count": null,
      "outputs": []
    },
    {
      "cell_type": "code",
      "metadata": {
        "colab": {
          "base_uri": "https://localhost:8080/"
        },
        "id": "8ec7yqIhIFRH",
        "outputId": "cde31e36-4a46-4ac5-a6d1-f6a702a910fc"
      },
      "source": [
        "maxLength"
      ],
      "execution_count": null,
      "outputs": [
        {
          "output_type": "execute_result",
          "data": {
            "text/plain": [
              "33"
            ]
          },
          "metadata": {
            "tags": []
          },
          "execution_count": 164
        }
      ]
    },
    {
      "cell_type": "code",
      "metadata": {
        "id": "GLDqCtmdIHWS"
      },
      "source": [
        "from keras.preprocessing.sequence import pad_sequences"
      ],
      "execution_count": null,
      "outputs": []
    },
    {
      "cell_type": "code",
      "metadata": {
        "id": "AFUM0DY0IJEr"
      },
      "source": [
        "paddedDF=pad_sequences(sequences,maxlen=35,padding='post',truncating='post')"
      ],
      "execution_count": null,
      "outputs": []
    },
    {
      "cell_type": "code",
      "metadata": {
        "colab": {
          "base_uri": "https://localhost:8080/"
        },
        "id": "beCH2ekCIOoT",
        "outputId": "95f5e9a8-fcd3-4e5a-ad78-59f06411a5b5"
      },
      "source": [
        "paddedDF[1]"
      ],
      "execution_count": null,
      "outputs": [
        {
          "output_type": "execute_result",
          "data": {
            "text/plain": [
              "array([ 280,   53,  772,  361, 4535, 4536,  362,    0,    0,    0,    0,\n",
              "          0,    0,    0,    0,    0,    0,    0,    0,    0,    0,    0,\n",
              "          0,    0,    0,    0,    0,    0,    0,    0,    0,    0,    0,\n",
              "          0,    0], dtype=int32)"
            ]
          },
          "metadata": {
            "tags": []
          },
          "execution_count": 167
        }
      ]
    },
    {
      "cell_type": "code",
      "metadata": {
        "colab": {
          "base_uri": "https://localhost:8080/"
        },
        "id": "itEAHJBmIQLG",
        "outputId": "216068e2-faad-4bf9-af3c-5f9ef050b3d9"
      },
      "source": [
        "paddedDF.shape"
      ],
      "execution_count": null,
      "outputs": [
        {
          "output_type": "execute_result",
          "data": {
            "text/plain": [
              "(7613, 35)"
            ]
          },
          "metadata": {
            "tags": []
          },
          "execution_count": 168
        }
      ]
    },
    {
      "cell_type": "code",
      "metadata": {
        "id": "pmcMUC67IRsp"
      },
      "source": [
        "labels=train['target']"
      ],
      "execution_count": null,
      "outputs": []
    },
    {
      "cell_type": "code",
      "metadata": {
        "colab": {
          "base_uri": "https://localhost:8080/"
        },
        "id": "376ASwDSIToO",
        "outputId": "f62fbb76-d9b5-4543-a633-1eba1c4dfc1b"
      },
      "source": [
        "labels"
      ],
      "execution_count": null,
      "outputs": [
        {
          "output_type": "execute_result",
          "data": {
            "text/plain": [
              "0       1\n",
              "1       1\n",
              "2       1\n",
              "3       1\n",
              "4       1\n",
              "       ..\n",
              "7608    1\n",
              "7609    1\n",
              "7610    1\n",
              "7611    1\n",
              "7612    1\n",
              "Name: target, Length: 7613, dtype: int64"
            ]
          },
          "metadata": {
            "tags": []
          },
          "execution_count": 170
        }
      ]
    },
    {
      "cell_type": "code",
      "metadata": {
        "id": "wSM6A5F6IVIZ"
      },
      "source": [
        "from keras.models import Sequential\n",
        "from keras.layers import Embedding,LSTM, Dense,Dropout\n",
        "from keras.initializers import Constant\n",
        "from keras.optimizers import Adam\n"
      ],
      "execution_count": null,
      "outputs": []
    },
    {
      "cell_type": "code",
      "metadata": {
        "id": "1Sj8PLOGIXIi"
      },
      "source": [
        "\n",
        "model=Sequential()\n",
        "\n",
        "model.add(Embedding(32700,32,input_length=paddedDF.shape[1]))\n",
        "model.add(LSTM(64,dropout=0.1))\n",
        "model.add(Dense(1, activation='sigmoid'))\n"
      ],
      "execution_count": null,
      "outputs": []
    },
    {
      "cell_type": "code",
      "metadata": {
        "id": "gUbYGSQxIZMh"
      },
      "source": [
        "optimizer=Adam(learning_rate=0.05)"
      ],
      "execution_count": null,
      "outputs": []
    },
    {
      "cell_type": "code",
      "metadata": {
        "id": "w5aLB6tJIfV_"
      },
      "source": [
        "model.compile(loss='binary_crossentropy',optimizer=optimizer,metrics=['accuracy'])"
      ],
      "execution_count": null,
      "outputs": []
    },
    {
      "cell_type": "code",
      "metadata": {
        "colab": {
          "base_uri": "https://localhost:8080/"
        },
        "id": "Ts_OlOf7IqEz",
        "outputId": "3a147384-bb9f-4ca0-bc37-2e35d408d69f"
      },
      "source": [
        "index2=list(index.items())\n",
        "index2[-1]"
      ],
      "execution_count": null,
      "outputs": [
        {
          "output_type": "execute_result",
          "data": {
            "text/plain": [
              "('ymy4rskq3d', 22700)"
            ]
          },
          "metadata": {
            "tags": []
          },
          "execution_count": 175
        }
      ]
    },
    {
      "cell_type": "code",
      "metadata": {
        "colab": {
          "base_uri": "https://localhost:8080/"
        },
        "id": "G10Y-EnrIhSK",
        "outputId": "19219740-c23e-4677-ca9e-a04d9493cb30"
      },
      "source": [
        "fitting=model.fit(paddedDF,labels,epochs=20)"
      ],
      "execution_count": null,
      "outputs": [
        {
          "output_type": "stream",
          "text": [
            "Epoch 1/20\n",
            "238/238 [==============================] - 12s 41ms/step - loss: 0.7166 - accuracy: 0.5358\n",
            "Epoch 2/20\n",
            "238/238 [==============================] - 10s 40ms/step - loss: 0.6862 - accuracy: 0.5641\n",
            "Epoch 3/20\n",
            "238/238 [==============================] - 9s 40ms/step - loss: 0.6887 - accuracy: 0.5590\n",
            "Epoch 4/20\n",
            "238/238 [==============================] - 9s 39ms/step - loss: 0.6910 - accuracy: 0.5477\n",
            "Epoch 5/20\n",
            "238/238 [==============================] - 9s 39ms/step - loss: 0.6839 - accuracy: 0.5665\n",
            "Epoch 6/20\n",
            "238/238 [==============================] - 10s 40ms/step - loss: 0.6896 - accuracy: 0.5542\n",
            "Epoch 7/20\n",
            "238/238 [==============================] - 10s 40ms/step - loss: 0.6909 - accuracy: 0.5509\n",
            "Epoch 8/20\n",
            "238/238 [==============================] - 10s 41ms/step - loss: 0.6888 - accuracy: 0.5606\n",
            "Epoch 9/20\n",
            "238/238 [==============================] - 10s 41ms/step - loss: 0.6865 - accuracy: 0.5708\n",
            "Epoch 10/20\n",
            "238/238 [==============================] - 10s 41ms/step - loss: 0.6905 - accuracy: 0.5524\n",
            "Epoch 11/20\n",
            "238/238 [==============================] - 10s 41ms/step - loss: 0.6848 - accuracy: 0.5891\n",
            "Epoch 12/20\n",
            "238/238 [==============================] - 10s 41ms/step - loss: 0.5674 - accuracy: 0.7275\n",
            "Epoch 13/20\n",
            "238/238 [==============================] - 10s 41ms/step - loss: 0.5136 - accuracy: 0.7693\n",
            "Epoch 14/20\n",
            "238/238 [==============================] - 10s 40ms/step - loss: 0.4824 - accuracy: 0.7907\n",
            "Epoch 15/20\n",
            "238/238 [==============================] - 10s 41ms/step - loss: 0.4603 - accuracy: 0.8018\n",
            "Epoch 16/20\n",
            "238/238 [==============================] - 10s 40ms/step - loss: 0.4269 - accuracy: 0.8129\n",
            "Epoch 17/20\n",
            "238/238 [==============================] - 10s 41ms/step - loss: 0.4022 - accuracy: 0.8288\n",
            "Epoch 18/20\n",
            "238/238 [==============================] - 10s 40ms/step - loss: 0.3791 - accuracy: 0.8436\n",
            "Epoch 19/20\n",
            "238/238 [==============================] - 10s 40ms/step - loss: 0.3524 - accuracy: 0.8537\n",
            "Epoch 20/20\n",
            "238/238 [==============================] - 10s 40ms/step - loss: 0.3365 - accuracy: 0.8566\n"
          ],
          "name": "stdout"
        }
      ]
    },
    {
      "cell_type": "code",
      "metadata": {
        "id": "WzKH28bWIji5"
      },
      "source": [
        "testtext=test['text']"
      ],
      "execution_count": null,
      "outputs": []
    },
    {
      "cell_type": "code",
      "metadata": {
        "colab": {
          "base_uri": "https://localhost:8080/"
        },
        "id": "TRjnK3RxJDuS",
        "outputId": "57cd2d62-1a7d-4234-def4-8a086772782c"
      },
      "source": [
        "testtext"
      ],
      "execution_count": null,
      "outputs": [
        {
          "output_type": "execute_result",
          "data": {
            "text/plain": [
              "0                      Just happened a terrible car crash\n",
              "1       Heard about #earthquake is different cities, s...\n",
              "2       there is a forest fire at spot pond, geese are...\n",
              "3                Apocalypse lighting. #Spokane #wildfires\n",
              "4           Typhoon Soudelor kills 28 in China and Taiwan\n",
              "                              ...                        \n",
              "3258    EARTHQUAKE SAFETY LOS ANGELES ÛÒ SAFETY FASTE...\n",
              "3259    Storm in RI worse than last hurricane. My city...\n",
              "3260    Green Line derailment in Chicago http://t.co/U...\n",
              "3261    MEG issues Hazardous Weather Outlook (HWO) htt...\n",
              "3262    #CityofCalgary has activated its Municipal Eme...\n",
              "Name: text, Length: 3263, dtype: object"
            ]
          },
          "metadata": {
            "tags": []
          },
          "execution_count": 178
        }
      ]
    },
    {
      "cell_type": "code",
      "metadata": {
        "id": "ctxpPXNCJaAi"
      },
      "source": [
        "count2=Counter()\n",
        "for i in testtext.values:\n",
        "  for word in i.split():\n",
        "    count2[word]+=1"
      ],
      "execution_count": null,
      "outputs": []
    },
    {
      "cell_type": "code",
      "metadata": {
        "id": "vLcsj6gAJjpA"
      },
      "source": [
        "tokenizer=Tokenizer(num_words=len(count2))"
      ],
      "execution_count": null,
      "outputs": []
    },
    {
      "cell_type": "code",
      "metadata": {
        "id": "5fny01zxJnIP"
      },
      "source": [
        "tokenizer.fit_on_texts(count2)"
      ],
      "execution_count": null,
      "outputs": []
    },
    {
      "cell_type": "code",
      "metadata": {
        "id": "OiZ2mN7EJutn"
      },
      "source": [
        "index2=tokenizer.word_index\n"
      ],
      "execution_count": null,
      "outputs": []
    },
    {
      "cell_type": "code",
      "metadata": {
        "colab": {
          "base_uri": "https://localhost:8080/"
        },
        "id": "6m9p41CRJ4fP",
        "outputId": "633f91e3-297a-4f76-a578-90f10971d49f"
      },
      "source": [
        "index2"
      ],
      "execution_count": null,
      "outputs": [
        {
          "output_type": "execute_result",
          "data": {
            "text/plain": [
              "{'t': 1,\n",
              " 'co': 2,\n",
              " 'http': 3,\n",
              " 'https': 4,\n",
              " \"'\": 5,\n",
              " 'amp': 6,\n",
              " '1': 7,\n",
              " '3': 8,\n",
              " '2': 9,\n",
              " 'up': 10,\n",
              " 'news': 11,\n",
              " 'gt': 12,\n",
              " 'a': 13,\n",
              " 'i': 14,\n",
              " '7': 15,\n",
              " 'm': 16,\n",
              " '5': 17,\n",
              " 'buildings': 18,\n",
              " 'it': 19,\n",
              " '10': 20,\n",
              " 'w': 21,\n",
              " 'is': 22,\n",
              " 'the': 23,\n",
              " 'in': 24,\n",
              " '00': 25,\n",
              " '8': 26,\n",
              " 'fire': 27,\n",
              " 'you': 28,\n",
              " 'out': 29,\n",
              " 'p': 30,\n",
              " '11': 31,\n",
              " 'no': 32,\n",
              " 'me': 33,\n",
              " 'day': 34,\n",
              " '2015': 35,\n",
              " 'on': 36,\n",
              " 'now': 37,\n",
              " 's': 38,\n",
              " '9': 39,\n",
              " 'that': 40,\n",
              " 'year': 41,\n",
              " 'to': 42,\n",
              " '4': 43,\n",
              " 'o': 44,\n",
              " 'bomb': 45,\n",
              " 'disaster': 46,\n",
              " '16': 47,\n",
              " 'old': 48,\n",
              " 'video': 49,\n",
              " 'night': 50,\n",
              " '15': 51,\n",
              " 'b': 52,\n",
              " 'earthquake': 53,\n",
              " 'them': 54,\n",
              " 'ablaze': 55,\n",
              " 'c': 56,\n",
              " 'new': 57,\n",
              " 'lol': 58,\n",
              " 'dead': 59,\n",
              " 'time': 60,\n",
              " 'food': 61,\n",
              " 'fires': 62,\n",
              " 'ok': 63,\n",
              " 'wow': 64,\n",
              " 'plan': 65,\n",
              " 'terrorist': 66,\n",
              " 'life': 67,\n",
              " 'do': 68,\n",
              " 'for': 69,\n",
              " 'not': 70,\n",
              " 'people': 71,\n",
              " 'shit': 72,\n",
              " 'this': 73,\n",
              " 'go': 74,\n",
              " 'hiroshima': 75,\n",
              " 'today': 76,\n",
              " 'god': 77,\n",
              " 'rt': 78,\n",
              " 'services': 79,\n",
              " '0': 80,\n",
              " 'nuclear': 81,\n",
              " 'report': 82,\n",
              " 'post': 83,\n",
              " 'avalanche': 84,\n",
              " 'health': 85,\n",
              " 'storm': 86,\n",
              " 'flood': 87,\n",
              " 'fear': 88,\n",
              " 'thunder': 89,\n",
              " 'crash': 90,\n",
              " 'at': 91,\n",
              " \"it's\": 92,\n",
              " 'more': 93,\n",
              " 'off': 94,\n",
              " 'world': 95,\n",
              " 'burning': 96,\n",
              " 'self': 97,\n",
              " 'us': 98,\n",
              " 'police': 99,\n",
              " 'aftershock': 100,\n",
              " 'we': 101,\n",
              " 'who': 102,\n",
              " 'one': 103,\n",
              " 'e': 104,\n",
              " 'why': 105,\n",
              " 'train': 106,\n",
              " 'israel': 107,\n",
              " 'survive': 108,\n",
              " 'live': 109,\n",
              " 'd': 110,\n",
              " 'watch': 111,\n",
              " 'summer': 112,\n",
              " 'here': 113,\n",
              " 'area': 114,\n",
              " 'family': 115,\n",
              " 'bioterrorism': 116,\n",
              " 'hostage': 117,\n",
              " 'n': 118,\n",
              " 'blight': 119,\n",
              " 'amazing': 120,\n",
              " '\\x89û': 121,\n",
              " 'murder': 122,\n",
              " 'breaking': 123,\n",
              " 'kids': 124,\n",
              " 'war': 125,\n",
              " 'catastrophe': 126,\n",
              " '08': 127,\n",
              " 'refugees': 128,\n",
              " 'fatality': 129,\n",
              " 'hail': 130,\n",
              " 'obliteration': 131,\n",
              " 'rainstorm': 132,\n",
              " 'happened': 133,\n",
              " 'everyone': 134,\n",
              " 'there': 135,\n",
              " 'all': 136,\n",
              " 'apocalypse': 137,\n",
              " 'and': 138,\n",
              " 'an': 139,\n",
              " 'what': 140,\n",
              " 'fuck': 141,\n",
              " 'if': 142,\n",
              " 'by': 143,\n",
              " 'song': 144,\n",
              " 'though': 145,\n",
              " 'he': 146,\n",
              " 'injuries': 147,\n",
              " 'him': 148,\n",
              " '100': 149,\n",
              " 'but': 150,\n",
              " 'her': 151,\n",
              " 'accident': 152,\n",
              " 'traffic': 153,\n",
              " 'from': 154,\n",
              " \"i'm\": 155,\n",
              " 'history': 156,\n",
              " 'can': 157,\n",
              " 'black': 158,\n",
              " 'injured': 159,\n",
              " 'so': 160,\n",
              " 'hit': 161,\n",
              " 'please': 162,\n",
              " '29': 163,\n",
              " 'destroyed': 164,\n",
              " 'update': 165,\n",
              " 'see': 166,\n",
              " 'air': 167,\n",
              " 'blood': 168,\n",
              " 'annihilated': 169,\n",
              " 'u': 170,\n",
              " 'change': 171,\n",
              " 'x': 172,\n",
              " 'armageddon': 173,\n",
              " 'county': 174,\n",
              " '30': 175,\n",
              " 'free': 176,\n",
              " 'then': 177,\n",
              " 'death': 178,\n",
              " 'am': 179,\n",
              " 'hot': 180,\n",
              " 'story': 181,\n",
              " 'water': 182,\n",
              " 'down': 183,\n",
              " 'name': 184,\n",
              " 'yes': 185,\n",
              " 'bombing': 186,\n",
              " 'cross': 187,\n",
              " 'body': 188,\n",
              " '6': 189,\n",
              " 'japan': 190,\n",
              " 'lt': 191,\n",
              " 'bombed': 192,\n",
              " 'mass': 193,\n",
              " 'emergency': 194,\n",
              " 'st': 195,\n",
              " 'terrorism': 196,\n",
              " 'destruction': 197,\n",
              " 'weapons': 198,\n",
              " '\\x89ûï': 199,\n",
              " 'link': 200,\n",
              " 'stretcher': 201,\n",
              " 'soon': 202,\n",
              " 'curfew': 203,\n",
              " 'cyclone': 204,\n",
              " 'hurricane': 205,\n",
              " 'danger': 206,\n",
              " 'mh370': 207,\n",
              " 'floods': 208,\n",
              " 'photos': 209,\n",
              " 'sirens': 210,\n",
              " 'reuters': 211,\n",
              " 'thunderstorm': 212,\n",
              " 'hailstorm': 213,\n",
              " 'meltdown': 214,\n",
              " 'hazard': 215,\n",
              " 'mayhem': 216,\n",
              " 'mudslide': 217,\n",
              " 'screams': 218,\n",
              " 'siren': 219,\n",
              " 'snowstorm': 220,\n",
              " 'windstorm': 221,\n",
              " 'about': 222,\n",
              " 'are': 223,\n",
              " 'typhoon': 224,\n",
              " 'show': 225,\n",
              " 'how': 226,\n",
              " \"don't\": 227,\n",
              " 'awesome': 228,\n",
              " 'via': 229,\n",
              " 'smh': 230,\n",
              " 'game': 231,\n",
              " 'girl': 232,\n",
              " 'died': 233,\n",
              " 'was': 234,\n",
              " 'city': 235,\n",
              " 'back': 236,\n",
              " 'got': 237,\n",
              " 'love': 238,\n",
              " 'your': 239,\n",
              " 'damn': 240,\n",
              " 'away': 241,\n",
              " 're': 242,\n",
              " 'service': 243,\n",
              " 'call': 244,\n",
              " 'be': 245,\n",
              " 'fall': 246,\n",
              " 'too': 247,\n",
              " 'were': 248,\n",
              " 'responders': 249,\n",
              " 'listen': 250,\n",
              " 'best': 251,\n",
              " 'right': 252,\n",
              " 'island': 253,\n",
              " 'ambulance': 254,\n",
              " 'well': 255,\n",
              " 'after': 256,\n",
              " 'destroy': 257,\n",
              " 'work': 258,\n",
              " 'first': 259,\n",
              " 'red': 260,\n",
              " 'miss': 261,\n",
              " 'fukushima': 262,\n",
              " 'rescue': 263,\n",
              " 'omg': 264,\n",
              " 'around': 265,\n",
              " 'bags': 266,\n",
              " 'face': 267,\n",
              " 'read': 268,\n",
              " 'site': 269,\n",
              " 'two': 270,\n",
              " 'arsonist': 271,\n",
              " 'local': 272,\n",
              " 'hear': 273,\n",
              " 'long': 274,\n",
              " 'drowning': 275,\n",
              " 'oh': 276,\n",
              " 'photo': 277,\n",
              " 'bag': 278,\n",
              " 'battle': 279,\n",
              " 'wait': 280,\n",
              " 'blazing': 281,\n",
              " 'sun': 282,\n",
              " 'tomorrow': 283,\n",
              " 'fun': 284,\n",
              " 'real': 285,\n",
              " '13': 286,\n",
              " 'school': 287,\n",
              " 'anti': 288,\n",
              " 'half': 289,\n",
              " 'future': 290,\n",
              " 'high': 291,\n",
              " 'hell': 292,\n",
              " 'again': 293,\n",
              " 'rain': 294,\n",
              " 'abc': 295,\n",
              " 'over': 296,\n",
              " 'security': 297,\n",
              " 'wtf': 298,\n",
              " 'casualties': 299,\n",
              " 'children': 300,\n",
              " 'light': 301,\n",
              " 'sorry': 302,\n",
              " 'lava': 303,\n",
              " 'weather': 304,\n",
              " 'power': 305,\n",
              " 'three': 306,\n",
              " 'volcano': 307,\n",
              " 'gop': 308,\n",
              " 'injury': 309,\n",
              " 'truth': 310,\n",
              " 'r': 311,\n",
              " 'voice': 312,\n",
              " 'landslide': 313,\n",
              " 'haha': 314,\n",
              " 'emmerdale': 315,\n",
              " 'h': 316,\n",
              " 'collide': 317,\n",
              " '40': 318,\n",
              " 'part': 319,\n",
              " 'displaced': 320,\n",
              " 'drought': 321,\n",
              " 'demolished': 322,\n",
              " 'demolition': 323,\n",
              " 'india': 324,\n",
              " 'desolate': 325,\n",
              " 'cover': 326,\n",
              " 'devastated': 327,\n",
              " 'boys': 328,\n",
              " 'peace': 329,\n",
              " 'tsunami': 330,\n",
              " 'lightning': 331,\n",
              " 'explosion': 332,\n",
              " 'flattened': 333,\n",
              " 'wildfire': 334,\n",
              " 'hellfire': 335,\n",
              " 'al': 336,\n",
              " 'tragedy': 337,\n",
              " 'riot': 338,\n",
              " 'rubble': 339,\n",
              " 'seismic': 340,\n",
              " 'sunk': 341,\n",
              " 'trauma': 342,\n",
              " 'just': 343,\n",
              " 'car': 344,\n",
              " 'stay': 345,\n",
              " 'safe': 346,\n",
              " 'street': 347,\n",
              " 'did': 348,\n",
              " 'yesterday': 349,\n",
              " 'eh': 350,\n",
              " 'like': 351,\n",
              " 'cold': 352,\n",
              " 'bbc': 353,\n",
              " 'check': 354,\n",
              " 'my': 355,\n",
              " 'follow': 356,\n",
              " 'man': 357,\n",
              " 'thing': 358,\n",
              " 'with': 359,\n",
              " 'set': 360,\n",
              " 'of': 361,\n",
              " 'house': 362,\n",
              " 'other': 363,\n",
              " 'flames': 364,\n",
              " 'radio': 365,\n",
              " 'feet': 366,\n",
              " 'eyes': 367,\n",
              " 'past': 368,\n",
              " 'way': 369,\n",
              " 'store': 370,\n",
              " 'huge': 371,\n",
              " 'happen': 372,\n",
              " 'going': 373,\n",
              " 'due': 374,\n",
              " 'say': 375,\n",
              " 'week': 376,\n",
              " '35': 377,\n",
              " 'far': 378,\n",
              " 'nepal': 379,\n",
              " 'last': 380,\n",
              " 'team': 381,\n",
              " 'stop': 382,\n",
              " 'because': 383,\n",
              " 'same': 384,\n",
              " 'hard': 385,\n",
              " 'fan': 386,\n",
              " 'cali': 387,\n",
              " 'ago': 388,\n",
              " 'line': 389,\n",
              " 'know': 390,\n",
              " 'airport': 391,\n",
              " 'killed': 392,\n",
              " '42': 393,\n",
              " 'baseball': 394,\n",
              " 'top': 395,\n",
              " 'shot': 396,\n",
              " '12': 397,\n",
              " 'times': 398,\n",
              " 'hospital': 399,\n",
              " 'days': 400,\n",
              " 'safety': 401,\n",
              " 'seconds': 402,\n",
              " 'think': 403,\n",
              " 'move': 404,\n",
              " 'only': 405,\n",
              " 'stand': 406,\n",
              " 'get': 407,\n",
              " 'have': 408,\n",
              " 'done': 409,\n",
              " 'die': 410,\n",
              " 'stock': 411,\n",
              " 'hours': 412,\n",
              " 'annihilation': 413,\n",
              " 'wild': 414,\n",
              " 'latest': 415,\n",
              " 'total': 416,\n",
              " 'big': 417,\n",
              " 'ever': 418,\n",
              " 'weapon': 419,\n",
              " 'men': 420,\n",
              " 'sounds': 421,\n",
              " 'zone': 422,\n",
              " 'coming': 423,\n",
              " 'remember': 424,\n",
              " 'warning': 425,\n",
              " 'dog': 426,\n",
              " 'date': 427,\n",
              " 'sport': 428,\n",
              " 'head': 429,\n",
              " 'california': 430,\n",
              " 'attack': 431,\n",
              " 'west': 432,\n",
              " 'strong': 433,\n",
              " 'f': 434,\n",
              " 'hiring': 435,\n",
              " 'hotel': 436,\n",
              " 'damage': 437,\n",
              " 'home': 438,\n",
              " 'panic': 439,\n",
              " 'catch': 440,\n",
              " 'win': 441,\n",
              " 'career': 442,\n",
              " 'smith': 443,\n",
              " 'try': 444,\n",
              " 'virus': 445,\n",
              " 'where': 446,\n",
              " 'nation': 447,\n",
              " 'metro': 448,\n",
              " 'said': 449,\n",
              " 'uk': 450,\n",
              " 'album': 451,\n",
              " '05': 452,\n",
              " 'another': 453,\n",
              " 'cool': 454,\n",
              " 'care': 455,\n",
              " 'climate': 456,\n",
              " 'does': 457,\n",
              " 'seen': 458,\n",
              " 'sir': 459,\n",
              " \"that's\": 460,\n",
              " 'ap': 461,\n",
              " 'blaze': 462,\n",
              " 'yeah': 463,\n",
              " 'little': 464,\n",
              " 'bring': 465,\n",
              " 'tree': 466,\n",
              " 'happening': 467,\n",
              " 'continue': 468,\n",
              " 'looks': 469,\n",
              " 'hand': 470,\n",
              " 'fast': 471,\n",
              " '20': 472,\n",
              " 'houses': 473,\n",
              " 'pray': 474,\n",
              " 'amazon': 475,\n",
              " 'art': 476,\n",
              " 'type': 477,\n",
              " 'episode': 478,\n",
              " 'room': 479,\n",
              " 'deal': 480,\n",
              " 'cute': 481,\n",
              " 'sleep': 482,\n",
              " 'suicide': 483,\n",
              " 'mosque': 484,\n",
              " 'pop': 485,\n",
              " 'thought': 486,\n",
              " 'mp': 487,\n",
              " '200': 488,\n",
              " 'women': 489,\n",
              " 'fashion': 490,\n",
              " 'baby': 491,\n",
              " 'drake': 492,\n",
              " 'movie': 493,\n",
              " 'put': 494,\n",
              " 'iran': 495,\n",
              " 'text': 496,\n",
              " 'ass': 497,\n",
              " '\\x89û\\x9d': 498,\n",
              " 'homes': 499,\n",
              " 'morning': 500,\n",
              " 'test': 501,\n",
              " 'cars': 502,\n",
              " 'tech': 503,\n",
              " 'giants': 504,\n",
              " 'sick': 505,\n",
              " 'money': 506,\n",
              " 'tonight': 507,\n",
              " 'wounded': 508,\n",
              " 'survived': 509,\n",
              " 'break': 510,\n",
              " 'broken': 511,\n",
              " 'wired': 512,\n",
              " 'wave': 513,\n",
              " 'close': 514,\n",
              " 'killer': 515,\n",
              " 'ya': 516,\n",
              " 'details': 517,\n",
              " 'state': 518,\n",
              " 'blue': 519,\n",
              " 'ukraine': 520,\n",
              " 'insurance': 521,\n",
              " 'info': 522,\n",
              " 'business': 523,\n",
              " 'lie': 524,\n",
              " 'failure': 525,\n",
              " 'problem': 526,\n",
              " 'short': 527,\n",
              " 'michael': 528,\n",
              " 'event': 529,\n",
              " 'mile': 530,\n",
              " 'chemical': 531,\n",
              " 'spill': 532,\n",
              " 'de': 533,\n",
              " 'sea': 534,\n",
              " 'wind': 535,\n",
              " 'official': 536,\n",
              " 'maybe': 537,\n",
              " 'collided': 538,\n",
              " 'favorite': 539,\n",
              " 'rd': 540,\n",
              " 'hilarious': 541,\n",
              " 'course': 542,\n",
              " 'crushed': 543,\n",
              " 'ball': 544,\n",
              " 'pm': 545,\n",
              " 'alert': 546,\n",
              " 'camp': 547,\n",
              " 'deaths': 548,\n",
              " 'fact': 549,\n",
              " 'deluge': 550,\n",
              " 'six': 551,\n",
              " 'thanks': 552,\n",
              " 'bot': 553,\n",
              " 'wmata': 554,\n",
              " 'derailed': 555,\n",
              " 'smithsonian': 556,\n",
              " 'derailment': 557,\n",
              " 'blast': 558,\n",
              " 'okay': 559,\n",
              " 'survivors': 560,\n",
              " 'detonation': 561,\n",
              " 'sensor': 562,\n",
              " 'oil': 563,\n",
              " 'internally': 564,\n",
              " 'job': 565,\n",
              " 'cnn': 566,\n",
              " 'mad': 567,\n",
              " '01': 568,\n",
              " 'traumatised': 569,\n",
              " 'electrocuted': 570,\n",
              " 'worker': 571,\n",
              " 'mind': 572,\n",
              " 'military': 573,\n",
              " 'evacuate': 574,\n",
              " 'waste': 575,\n",
              " 'mph': 576,\n",
              " 'hijacking': 577,\n",
              " 'games': 578,\n",
              " 'snacks': 579,\n",
              " 'murderer': 580,\n",
              " 'screaming': 581,\n",
              " 'tornado': 582,\n",
              " 'reactor': 583,\n",
              " 'ancient': 584,\n",
              " 'released': 585,\n",
              " 'pandemonium': 586,\n",
              " 'panicking': 587,\n",
              " 'rioting': 588,\n",
              " 'sinking': 589,\n",
              " 'wreck': 590,\n",
              " 'twister': 591,\n",
              " 'upheaval': 592,\n",
              " 'whirlwind': 593,\n",
              " 'wrecked': 594,\n",
              " 'terrible': 595,\n",
              " 'forest': 596,\n",
              " 'pond': 597,\n",
              " 'wildfires': 598,\n",
              " 'soudelor': 599,\n",
              " 'china': 600,\n",
              " 'still': 601,\n",
              " 'than': 602,\n",
              " 'hey': 603,\n",
              " 'nice': 604,\n",
              " 'hat': 605,\n",
              " 'tell': 606,\n",
              " 'market': 607,\n",
              " 'will': 608,\n",
              " 'crisis': 609,\n",
              " 'these': 610,\n",
              " 'beware': 611,\n",
              " 'run': 612,\n",
              " 'eye': 613,\n",
              " 'as': 614,\n",
              " 'she': 615,\n",
              " 'setting': 616,\n",
              " 'hope': 617,\n",
              " 'giant': 618,\n",
              " 'anger': 619,\n",
              " 'pa': 620,\n",
              " '18': 621,\n",
              " 'swear': 622,\n",
              " 'someone': 623,\n",
              " 'vehicle': 624,\n",
              " 'large': 625,\n",
              " 'or': 626,\n",
              " 'east': 627,\n",
              " 'en': 628,\n",
              " 'guy': 629,\n",
              " 'bloody': 630,\n",
              " 'gonna': 631,\n",
              " 'come': 632,\n",
              " 'delays': 633,\n",
              " 'would': 634,\n",
              " 'block': 635,\n",
              " 'gresham': 636,\n",
              " 'training': 637,\n",
              " 'share': 638,\n",
              " 'park': 639,\n",
              " 'bay': 640,\n",
              " 'mix': 641,\n",
              " 'loud': 642,\n",
              " 'start': 643,\n",
              " \"can't\": 644,\n",
              " 'yet': 645,\n",
              " 'david': 646,\n",
              " 'had': 647,\n",
              " 'should': 648,\n",
              " 'use': 649,\n",
              " 'play': 650,\n",
              " 'when': 651,\n",
              " 'damages': 652,\n",
              " 'music': 653,\n",
              " 'airplane': 654,\n",
              " 'years': 655,\n",
              " '25': 656,\n",
              " 'age': 657,\n",
              " '07': 658,\n",
              " 'picture': 659,\n",
              " 'ruled': 660,\n",
              " 'lost': 661,\n",
              " 'its': 662,\n",
              " 'rip': 663,\n",
              " 'yankees': 664,\n",
              " 'send': 665,\n",
              " 'belly': 666,\n",
              " 'choice': 667,\n",
              " \"isn't\": 668,\n",
              " 'even': 669,\n",
              " 'device': 670,\n",
              " 'target': 671,\n",
              " 'science': 672,\n",
              " 'some': 673,\n",
              " '21': 674,\n",
              " 'miles': 675,\n",
              " 'uniform': 676,\n",
              " 'drunk': 677,\n",
              " 'stage': 678,\n",
              " 'never': 679,\n",
              " 'strike': 680,\n",
              " 'until': 681,\n",
              " 'stood': 682,\n",
              " 'nothing': 683,\n",
              " 'aug': 684,\n",
              " 'they': 685,\n",
              " 'everything': 686,\n",
              " 'sign': 687,\n",
              " 'louis': 688,\n",
              " 'very': 689,\n",
              " 'interesting': 690,\n",
              " 'horse': 691,\n",
              " 'silent': 692,\n",
              " 'print': 693,\n",
              " 'audio': 694,\n",
              " 'under': 695,\n",
              " 'every': 696,\n",
              " 'answer': 697,\n",
              " 'almost': 698,\n",
              " 'youtube': 699,\n",
              " 'minecraft': 700,\n",
              " 'lucky': 701,\n",
              " 'any': 702,\n",
              " \"you're\": 703,\n",
              " 'lot': 704,\n",
              " \"i'll\": 705,\n",
              " 'prepper': 706,\n",
              " 'book': 707,\n",
              " 'reading': 708,\n",
              " 'could': 709,\n",
              " 'also': 710,\n",
              " 'fat': 711,\n",
              " 'students': 712,\n",
              " 'order': 713,\n",
              " 'london': 714,\n",
              " 'hitchbot': 715,\n",
              " 'ashes': 716,\n",
              " 'true': 717,\n",
              " 'earth': 718,\n",
              " 'escape': 719,\n",
              " 'army': 720,\n",
              " 'their': 721,\n",
              " 'fight': 722,\n",
              " 'rubber': 723,\n",
              " 'came': 724,\n",
              " 'arson': 725,\n",
              " 'muslims': 726,\n",
              " 'happens': 727,\n",
              " 'rome': 728,\n",
              " 'chicago': 729,\n",
              " 'gay': 730,\n",
              " 'suspected': 731,\n",
              " 'mo': 732,\n",
              " 'says': 733,\n",
              " 'already': 734,\n",
              " 'been': 735,\n",
              " 'dont': 736,\n",
              " 'vine': 737,\n",
              " 'beach': 738,\n",
              " 'release': 739,\n",
              " '22': 740,\n",
              " 'funny': 741,\n",
              " 'saved': 742,\n",
              " 'the\\x89û': 743,\n",
              " 'double': 744,\n",
              " 'confused': 745,\n",
              " 'massive': 746,\n",
              " 'many': 747,\n",
              " 'yourself': 748,\n",
              " 'freedom': 749,\n",
              " 'govt': 750,\n",
              " 'attacked': 751,\n",
              " 'led': 752,\n",
              " 'aus': 753,\n",
              " 'need': 754,\n",
              " 'brutally': 755,\n",
              " \"i've\": 756,\n",
              " 'result': 757,\n",
              " 'thank': 758,\n",
              " 'such': 759,\n",
              " 'look': 760,\n",
              " 'stops': 761,\n",
              " 'better': 762,\n",
              " 'charging': 763,\n",
              " 'handle': 764,\n",
              " 'imagine': 765,\n",
              " 'talk': 766,\n",
              " 'rare': 767,\n",
              " 'deals': 768,\n",
              " 'chip': 769,\n",
              " 'anyone': 770,\n",
              " 'covers': 771,\n",
              " 'l': 772,\n",
              " '04': 773,\n",
              " 'assembly': 774,\n",
              " 'colorado': 775,\n",
              " 'ducks': 776,\n",
              " 'country': 777,\n",
              " 'fedex': 778,\n",
              " 'access': 779,\n",
              " 'research': 780,\n",
              " 'project': 781,\n",
              " 'ebola': 782,\n",
              " 'catastrophic': 783,\n",
              " 'make': 784,\n",
              " 'public': 785,\n",
              " 'management': 786,\n",
              " 'fair': 787,\n",
              " 'forget': 788,\n",
              " 'hiv': 789,\n",
              " 'low': 790,\n",
              " 'risk': 791,\n",
              " 'transmission': 792,\n",
              " 'good': 793,\n",
              " 'alright': 794,\n",
              " \"doesn't\": 795,\n",
              " 'alarm': 796,\n",
              " 'businesses': 797,\n",
              " 'portland': 798,\n",
              " 'blizzard': 799,\n",
              " 'saw': 800,\n",
              " 'im': 801,\n",
              " 'reality': 802,\n",
              " 'lady': 803,\n",
              " 'town': 804,\n",
              " 'pictures': 805,\n",
              " 'whole': 806,\n",
              " 'august': 807,\n",
              " 'marketing': 808,\n",
              " 'bleeding': 809,\n",
              " 'jesus': 810,\n",
              " 'may': 811,\n",
              " 'open': 812,\n",
              " 'wounds': 813,\n",
              " 'bad': 814,\n",
              " 'blew': 815,\n",
              " 'mom': 816,\n",
              " 'popular': 817,\n",
              " 'snap': 818,\n",
              " 'social': 819,\n",
              " 'idk': 820,\n",
              " 'phone': 821,\n",
              " 'sleeping': 822,\n",
              " 'cheese': 823,\n",
              " \"he's\": 824,\n",
              " 'person': 825,\n",
              " \"didn't\": 826,\n",
              " 'reason': 827,\n",
              " 'cause': 828,\n",
              " 'loan': 829,\n",
              " 'building': 830,\n",
              " 'without': 831,\n",
              " 'help': 832,\n",
              " 'great': 833,\n",
              " 'internet': 834,\n",
              " 'question': 835,\n",
              " 'member': 836,\n",
              " 'success': 837,\n",
              " 'ocean': 838,\n",
              " 'progress': 839,\n",
              " 'justin': 840,\n",
              " 'piece': 841,\n",
              " 'sweet': 842,\n",
              " 'sale': 843,\n",
              " 'gaming': 844,\n",
              " 'paper': 845,\n",
              " 'month': 846,\n",
              " 'next': 847,\n",
              " 'knock': 848,\n",
              " 'rn': 849,\n",
              " 'enjoy': 850,\n",
              " 'monster': 851,\n",
              " 'related': 852,\n",
              " 'penny': 853,\n",
              " 'behind': 854,\n",
              " 'sometimes': 855,\n",
              " 'hair': 856,\n",
              " 'buy': 857,\n",
              " 'calm': 858,\n",
              " 'smoke': 859,\n",
              " 'wrong': 860,\n",
              " 'size': 861,\n",
              " 'absolutely': 862,\n",
              " 'bomber': 863,\n",
              " 'shoulder': 864,\n",
              " 'brown': 865,\n",
              " '23': 866,\n",
              " 'small': 867,\n",
              " 'beauty': 868,\n",
              " 'giveaway': 869,\n",
              " 'parts': 870,\n",
              " 'messenger': 871,\n",
              " 'bagging': 872,\n",
              " 'those': 873,\n",
              " 'twice': 874,\n",
              " 'amen': 875,\n",
              " 'second': 876,\n",
              " 'attention': 877,\n",
              " 'facebook': 878,\n",
              " 'tweets': 879,\n",
              " '70': 880,\n",
              " 'anything': 881,\n",
              " 'final': 882,\n",
              " '1945': 883,\n",
              " 'sex': 884,\n",
              " 'greatest': 885,\n",
              " 'america': 886,\n",
              " 'boy': 887,\n",
              " 'called': 888,\n",
              " 'nigeria': 889,\n",
              " '2014': 890,\n",
              " 'fake': 891,\n",
              " 'wwii': 892,\n",
              " 'associated': 893,\n",
              " 'press': 894,\n",
              " 'thursday': 895,\n",
              " 'collapse': 896,\n",
              " '60': 897,\n",
              " 'states': 898,\n",
              " 'during': 899,\n",
              " 'problems': 900,\n",
              " 'walking': 901,\n",
              " 'firefighters': 902,\n",
              " 'created': 903,\n",
              " '5th': 904,\n",
              " '30pm': 905,\n",
              " 'fuckin': 906,\n",
              " 'spirit': 907,\n",
              " 'wall': 908,\n",
              " 'most': 909,\n",
              " 'stories': 910,\n",
              " 'watching': 911,\n",
              " 'potus': 912,\n",
              " 'son': 913,\n",
              " 'crazy': 914,\n",
              " 'loving': 915,\n",
              " 'enough': 916,\n",
              " 'ca': 917,\n",
              " 'place': 918,\n",
              " 'warcraft': 919,\n",
              " 'complex': 920,\n",
              " 'bc': 921,\n",
              " 'g': 922,\n",
              " 'fine': 923,\n",
              " 'bush': 924,\n",
              " 'atmosphere': 925,\n",
              " 'control': 926,\n",
              " 'zero': 927,\n",
              " 'memorial': 928,\n",
              " 'obama': 929,\n",
              " 'trump': 930,\n",
              " 'million': 931,\n",
              " 'casualty': 932,\n",
              " 'ii': 933,\n",
              " 'fans': 934,\n",
              " 'books': 935,\n",
              " 'gaza': 936,\n",
              " 'james': 937,\n",
              " 'shows': 938,\n",
              " 'scene': 939,\n",
              " 'something': 940,\n",
              " 'impact': 941,\n",
              " 'effects': 942,\n",
              " 'felt': 943,\n",
              " 'recover': 944,\n",
              " 'class': 945,\n",
              " 'eruption': 946,\n",
              " 'boat': 947,\n",
              " 'cliff': 948,\n",
              " 'drive': 949,\n",
              " 'later': 950,\n",
              " 'guardian': 951,\n",
              " 'families': 952,\n",
              " 'lives': 953,\n",
              " 'collapsed': 954,\n",
              " 'didnt': 955,\n",
              " 'trapped': 956,\n",
              " 'k': 957,\n",
              " 'evening': 958,\n",
              " 'facts': 959,\n",
              " 'sam': 960,\n",
              " 'plant': 961,\n",
              " 'signed': 962,\n",
              " 'instead': 963,\n",
              " 'incident': 964,\n",
              " '2016': 965,\n",
              " 'collision': 966,\n",
              " 'blvd': 967,\n",
              " 'technology': 968,\n",
              " 'officer': 969,\n",
              " 'football': 970,\n",
              " 'weeks': 971,\n",
              " 'lake': 972,\n",
              " 'nine': 973,\n",
              " 'crashed': 974,\n",
              " 'must': 975,\n",
              " 'members': 976,\n",
              " 'crush': 977,\n",
              " 'nike': 978,\n",
              " '150': 979,\n",
              " 'season': 980,\n",
              " 'general': 981,\n",
              " 'dumb': 982,\n",
              " 'bit': 983,\n",
              " 'parents': 984,\n",
              " '19': 985,\n",
              " 'severe': 986,\n",
              " 'issued': 987,\n",
              " 'raleigh': 988,\n",
              " 'gear': 989,\n",
              " '06': 990,\n",
              " 'repair': 991,\n",
              " 'board': 992,\n",
              " 'actually': 993,\n",
              " 'serious': 994,\n",
              " 'king': 995,\n",
              " 'village': 996,\n",
              " 'single': 997,\n",
              " 'born': 998,\n",
              " 'warfare': 999,\n",
              " 'bombs': 1000,\n",
              " ...}"
            ]
          },
          "metadata": {
            "tags": []
          },
          "execution_count": 183
        }
      ]
    },
    {
      "cell_type": "code",
      "metadata": {
        "id": "5AI7ykCGJ5ib"
      },
      "source": [
        "testsequences=tokenizer.texts_to_sequences(testtext)"
      ],
      "execution_count": null,
      "outputs": []
    },
    {
      "cell_type": "code",
      "metadata": {
        "id": "FdOcW4LiKBAv"
      },
      "source": [
        "maxLength = max(len(x) for x in testsequences )"
      ],
      "execution_count": null,
      "outputs": []
    },
    {
      "cell_type": "code",
      "metadata": {
        "colab": {
          "base_uri": "https://localhost:8080/"
        },
        "id": "BL_OYJEwKFjZ",
        "outputId": "ed186ab7-c6ce-411a-a116-bae935862c36"
      },
      "source": [
        "maxLength"
      ],
      "execution_count": null,
      "outputs": [
        {
          "output_type": "execute_result",
          "data": {
            "text/plain": [
              "31"
            ]
          },
          "metadata": {
            "tags": []
          },
          "execution_count": 186
        }
      ]
    },
    {
      "cell_type": "code",
      "metadata": {
        "id": "PuDtk_uvKMco"
      },
      "source": [
        "paddedTest=pad_sequences(testsequences,maxlen=35,padding='post',truncating='post')"
      ],
      "execution_count": null,
      "outputs": []
    },
    {
      "cell_type": "code",
      "metadata": {
        "colab": {
          "base_uri": "https://localhost:8080/"
        },
        "id": "PbzOU60QKUFA",
        "outputId": "cdab16f3-1cc1-4101-9e50-6dc908482699"
      },
      "source": [
        "paddedTest.shape"
      ],
      "execution_count": null,
      "outputs": [
        {
          "output_type": "execute_result",
          "data": {
            "text/plain": [
              "(3263, 35)"
            ]
          },
          "metadata": {
            "tags": []
          },
          "execution_count": 188
        }
      ]
    },
    {
      "cell_type": "code",
      "metadata": {
        "colab": {
          "base_uri": "https://localhost:8080/"
        },
        "id": "OtByTOVNKZCR",
        "outputId": "75dbf8d6-769b-42db-8e91-1148cda43742"
      },
      "source": [
        "model.predict(paddedTest)"
      ],
      "execution_count": null,
      "outputs": [
        {
          "output_type": "execute_result",
          "data": {
            "text/plain": [
              "array([[0.17765188],\n",
              "       [0.9387053 ],\n",
              "       [0.03059304],\n",
              "       ...,\n",
              "       [0.8738878 ],\n",
              "       [0.88976127],\n",
              "       [0.8245255 ]], dtype=float32)"
            ]
          },
          "metadata": {
            "tags": []
          },
          "execution_count": 189
        }
      ]
    },
    {
      "cell_type": "code",
      "metadata": {
        "id": "0_1UYQDrKkHh"
      },
      "source": [
        "prediction=model.predict(paddedTest)"
      ],
      "execution_count": null,
      "outputs": []
    },
    {
      "cell_type": "code",
      "metadata": {
        "id": "qYt_5ieHKyO6"
      },
      "source": [
        "lis=[]\n",
        "for i in prediction:\n",
        "  if i>=0.5:\n",
        "    i=1\n",
        "    lis.append(i)\n",
        "  else:\n",
        "    i=0\n",
        "    lis.append(i)"
      ],
      "execution_count": null,
      "outputs": []
    },
    {
      "cell_type": "code",
      "metadata": {
        "colab": {
          "base_uri": "https://localhost:8080/"
        },
        "id": "fwwRRsPiLrU3",
        "outputId": "3d0b3c7a-7cd2-40ea-b809-63c25dab9c24"
      },
      "source": [
        "len(lis)"
      ],
      "execution_count": null,
      "outputs": [
        {
          "output_type": "execute_result",
          "data": {
            "text/plain": [
              "3263"
            ]
          },
          "metadata": {
            "tags": []
          },
          "execution_count": 192
        }
      ]
    },
    {
      "cell_type": "code",
      "metadata": {
        "id": "oImK-MZQLswU"
      },
      "source": [
        "submissionAssignment8 = pd.DataFrame({'id': list(range(1, len(lis)+1)), 'label': lis})\n",
        "submissionAssignment8.to_csv('submissionAssignment8.csv', index=False)"
      ],
      "execution_count": null,
      "outputs": []
    },
    {
      "cell_type": "markdown",
      "metadata": {
        "id": "gnLPiEKlNkS2"
      },
      "source": [
        "Kaggle score = 0.54030"
      ]
    },
    {
      "cell_type": "code",
      "metadata": {
        "colab": {
          "base_uri": "https://localhost:8080/"
        },
        "id": "6_7HdWDaMt9Z",
        "outputId": "815e6b46-2ff2-4a10-c954-e7e2431a60da"
      },
      "source": [
        "\n",
        "model=Sequential()\n",
        "\n",
        "model.add(Embedding(32700,32,input_length=paddedDF.shape[1]))\n",
        "model.add(LSTM(64,dropout=0.1))\n",
        "model.add(Dense(1, activation='sigmoid'))\n",
        "optimizer=Adam(learning_rate=3e-4)\n",
        "model.compile(loss='binary_crossentropy',optimizer=optimizer,metrics=['accuracy'])\n",
        "fitting=model.fit(paddedDF,labels,epochs=20)"
      ],
      "execution_count": null,
      "outputs": [
        {
          "output_type": "stream",
          "text": [
            "Epoch 1/20\n",
            "238/238 [==============================] - 11s 40ms/step - loss: 0.6707 - accuracy: 0.5775\n",
            "Epoch 2/20\n",
            "238/238 [==============================] - 10s 40ms/step - loss: 0.3899 - accuracy: 0.8330\n",
            "Epoch 3/20\n",
            "238/238 [==============================] - 10s 40ms/step - loss: 0.2460 - accuracy: 0.9122\n",
            "Epoch 4/20\n",
            "238/238 [==============================] - 10s 40ms/step - loss: 0.1503 - accuracy: 0.9480\n",
            "Epoch 5/20\n",
            "238/238 [==============================] - 10s 40ms/step - loss: 0.1017 - accuracy: 0.9674\n",
            "Epoch 6/20\n",
            "238/238 [==============================] - 10s 40ms/step - loss: 0.0708 - accuracy: 0.9782\n",
            "Epoch 7/20\n",
            "238/238 [==============================] - 9s 39ms/step - loss: 0.0410 - accuracy: 0.9862\n",
            "Epoch 8/20\n",
            "238/238 [==============================] - 10s 40ms/step - loss: 0.0318 - accuracy: 0.9922\n",
            "Epoch 9/20\n",
            "238/238 [==============================] - 9s 40ms/step - loss: 0.0400 - accuracy: 0.9885\n",
            "Epoch 10/20\n",
            "238/238 [==============================] - 10s 40ms/step - loss: 0.0271 - accuracy: 0.9926\n",
            "Epoch 11/20\n",
            "238/238 [==============================] - 10s 41ms/step - loss: 0.0272 - accuracy: 0.9931\n",
            "Epoch 12/20\n",
            "238/238 [==============================] - 10s 40ms/step - loss: 0.0251 - accuracy: 0.9932\n",
            "Epoch 13/20\n",
            "238/238 [==============================] - 10s 40ms/step - loss: 0.0233 - accuracy: 0.9936\n",
            "Epoch 14/20\n",
            "238/238 [==============================] - 9s 40ms/step - loss: 0.0261 - accuracy: 0.9917\n",
            "Epoch 15/20\n",
            "238/238 [==============================] - 10s 41ms/step - loss: 0.0175 - accuracy: 0.9943\n",
            "Epoch 16/20\n",
            "238/238 [==============================] - 9s 40ms/step - loss: 0.0210 - accuracy: 0.9944\n",
            "Epoch 17/20\n",
            "238/238 [==============================] - 10s 40ms/step - loss: 0.0214 - accuracy: 0.9931\n",
            "Epoch 18/20\n",
            "238/238 [==============================] - 10s 40ms/step - loss: 0.0205 - accuracy: 0.9937\n",
            "Epoch 19/20\n",
            "238/238 [==============================] - 10s 40ms/step - loss: 0.0217 - accuracy: 0.9927\n",
            "Epoch 20/20\n",
            "238/238 [==============================] - 10s 40ms/step - loss: 0.0144 - accuracy: 0.9956\n"
          ],
          "name": "stdout"
        }
      ]
    },
    {
      "cell_type": "code",
      "metadata": {
        "id": "_Q-nsrI3ix_7"
      },
      "source": [
        "prediction=model.predict(paddedTest)"
      ],
      "execution_count": null,
      "outputs": []
    },
    {
      "cell_type": "code",
      "metadata": {
        "id": "6NZKyXnQjae_"
      },
      "source": [
        "lis=[]\n",
        "for i in prediction:\n",
        "  if i>=0.5:\n",
        "    i=1\n",
        "    lis.append(i)\n",
        "  else:\n",
        "    i=0\n",
        "    lis.append(i)"
      ],
      "execution_count": null,
      "outputs": []
    },
    {
      "cell_type": "code",
      "metadata": {
        "id": "oEvMEFgKix0H"
      },
      "source": [
        "submissionAssignment8_3 = pd.DataFrame({'id': list(range(1, len(lis)+1)), 'label': lis})\n",
        "submissionAssignment8_3.to_csv('submissionAssignment8_3.csv', index=False)"
      ],
      "execution_count": null,
      "outputs": []
    },
    {
      "cell_type": "markdown",
      "metadata": {
        "id": "X7ES_-85kc-U"
      },
      "source": [
        "Kaggle Score = 0.50291"
      ]
    },
    {
      "cell_type": "code",
      "metadata": {
        "colab": {
          "base_uri": "https://localhost:8080/"
        },
        "id": "TlZDndmbN2hH",
        "outputId": "8111098f-2999-453d-8f75-4307951b8fef"
      },
      "source": [
        "\n",
        "model=Sequential()\n",
        "\n",
        "model.add(Embedding(32700,32,input_length=paddedDF.shape[1]))\n",
        "model.add(LSTM(128,dropout=0.1))\n",
        "model.add(Dense(1, activation='sigmoid'))\n",
        "optimizer=Adam(learning_rate=0.05)\n",
        "model.compile(loss='binary_crossentropy',optimizer=optimizer,metrics=['accuracy'])\n",
        "fitting=model.fit(paddedDF,labels,epochs=20)"
      ],
      "execution_count": null,
      "outputs": [
        {
          "output_type": "stream",
          "text": [
            "Epoch 1/20\n",
            "238/238 [==============================] - 15s 56ms/step - loss: 0.7157 - accuracy: 0.5299\n",
            "Epoch 2/20\n",
            "238/238 [==============================] - 13s 56ms/step - loss: 0.7328 - accuracy: 0.5365\n",
            "Epoch 3/20\n",
            "238/238 [==============================] - 13s 55ms/step - loss: 0.6578 - accuracy: 0.6314\n",
            "Epoch 4/20\n",
            "238/238 [==============================] - 13s 56ms/step - loss: 0.5808 - accuracy: 0.7046\n",
            "Epoch 5/20\n",
            "238/238 [==============================] - 13s 56ms/step - loss: 0.5070 - accuracy: 0.7580\n",
            "Epoch 6/20\n",
            "238/238 [==============================] - 13s 56ms/step - loss: 0.4570 - accuracy: 0.7899\n",
            "Epoch 7/20\n",
            "238/238 [==============================] - 13s 56ms/step - loss: 0.4463 - accuracy: 0.7983\n",
            "Epoch 8/20\n",
            "238/238 [==============================] - 14s 57ms/step - loss: 0.4208 - accuracy: 0.8124\n",
            "Epoch 9/20\n",
            "238/238 [==============================] - 14s 57ms/step - loss: 0.3953 - accuracy: 0.8299\n",
            "Epoch 10/20\n",
            "238/238 [==============================] - 13s 57ms/step - loss: 0.3966 - accuracy: 0.8260\n",
            "Epoch 11/20\n",
            "238/238 [==============================] - 14s 57ms/step - loss: 0.3896 - accuracy: 0.8280\n",
            "Epoch 12/20\n",
            "238/238 [==============================] - 13s 56ms/step - loss: 0.3923 - accuracy: 0.8294\n",
            "Epoch 13/20\n",
            "238/238 [==============================] - 14s 57ms/step - loss: 0.3667 - accuracy: 0.8378\n",
            "Epoch 14/20\n",
            "238/238 [==============================] - 14s 57ms/step - loss: 0.3396 - accuracy: 0.8551\n",
            "Epoch 15/20\n",
            "238/238 [==============================] - 13s 56ms/step - loss: 0.3497 - accuracy: 0.8490\n",
            "Epoch 16/20\n",
            "238/238 [==============================] - 13s 56ms/step - loss: 0.3510 - accuracy: 0.8508\n",
            "Epoch 17/20\n",
            "238/238 [==============================] - 13s 56ms/step - loss: 0.3148 - accuracy: 0.8627\n",
            "Epoch 18/20\n",
            "238/238 [==============================] - 13s 56ms/step - loss: 0.3136 - accuracy: 0.8682\n",
            "Epoch 19/20\n",
            "238/238 [==============================] - 13s 56ms/step - loss: 0.3165 - accuracy: 0.8684\n",
            "Epoch 20/20\n",
            "238/238 [==============================] - 13s 57ms/step - loss: 0.3046 - accuracy: 0.8652\n"
          ],
          "name": "stdout"
        }
      ]
    },
    {
      "cell_type": "code",
      "metadata": {
        "id": "nMVpK-A0OEsp"
      },
      "source": [
        "prediction2=model.predict(paddedTest)"
      ],
      "execution_count": null,
      "outputs": []
    },
    {
      "cell_type": "code",
      "metadata": {
        "id": "UuLnul3gQlok"
      },
      "source": [
        "lis2=[]\n",
        "for i in prediction:\n",
        "  if i>=0.5:\n",
        "    i=1\n",
        "    lis.append(i)\n",
        "  else:\n",
        "    i=0\n",
        "    lis.append(i)"
      ],
      "execution_count": null,
      "outputs": []
    },
    {
      "cell_type": "code",
      "metadata": {
        "id": "Ts86KsgWQlYY"
      },
      "source": [
        "submissionAssignment8_2 = pd.DataFrame({'id': list(range(1, len(lis)+1)), 'label': lis})\n",
        "submissionAssignment8_2.to_csv('submissionAssignment8_2.csv', index=False)"
      ],
      "execution_count": null,
      "outputs": []
    },
    {
      "cell_type": "markdown",
      "metadata": {
        "id": "huU20INaOHjS"
      },
      "source": [
        "###Conclusion"
      ]
    },
    {
      "cell_type": "markdown",
      "metadata": {
        "id": "xOPgJHEaPBG7"
      },
      "source": [
        "If I were advising management on classifying customer reviews, I believe doing RNN models would be the best way to go. This way, every word is taken into account. One thing we have to do effectively is preprocesing. Something I missed this assignment was removing the extremely common words, such as 'like', 'the', 'a', etc.. Those may waste the models time and may even cause inaccuracies in predictions. Instead a lot of its energy should be focused on identifying keywords that have a lot of meaning, such as 'bad', 'serious', 'terrible', 'hate', etc.. These words are what will have the most impact in identifying what kind of review was left. Data cleaning and preprocessing is more important than creating the model itself at times, as the model is only as good as the data fit into it. It may be better to even train it on a lot of data and some anomalies.On top of that, how effectively you train the model with good parameters also has great effects on how the model performs. You have to let it train a good amount of times for it to find differences, but also not too much which may lead to overfitting."
      ]
    },
    {
      "cell_type": "code",
      "metadata": {
        "id": "FrKWbHadaRjK"
      },
      "source": [
        ""
      ],
      "execution_count": null,
      "outputs": []
    }
  ]
}