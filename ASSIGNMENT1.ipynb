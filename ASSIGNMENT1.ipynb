{
  "nbformat": 4,
  "nbformat_minor": 0,
  "metadata": {
    "colab": {
      "name": "ASSIGNMENT1.ipynb",
      "provenance": [],
      "collapsed_sections": [
        "uxihxVSF8xFI",
        "UhuaiK9I_u-r",
        "wm67Ldf1OTsR"
      ],
      "toc_visible": true,
      "mount_file_id": "152ZfPf1SnHKDlWdTqQxaHOME55iAU8ye",
      "authorship_tag": "ABX9TyOGi+Z1ncqiZHoHE4XtxuFl",
      "include_colab_link": true
    },
    "kernelspec": {
      "name": "python3",
      "display_name": "Python 3"
    }
  },
  "cells": [
    {
      "cell_type": "markdown",
      "metadata": {
        "id": "view-in-github",
        "colab_type": "text"
      },
      "source": [
        "<a href=\"https://colab.research.google.com/github/robinsingh2022/NorthwesternMSDS422/blob/main/ASSIGNMENT1.ipynb\" target=\"_parent\"><img src=\"https://colab.research.google.com/assets/colab-badge.svg\" alt=\"Open In Colab\"/></a>"
      ]
    },
    {
      "cell_type": "markdown",
      "metadata": {
        "id": "uxihxVSF8xFI"
      },
      "source": [
        "##Ingest"
      ]
    },
    {
      "cell_type": "code",
      "metadata": {
        "id": "EUH06SgG8_dV"
      },
      "source": [
        "import pandas as pd\n"
      ],
      "execution_count": null,
      "outputs": []
    },
    {
      "cell_type": "code",
      "metadata": {
        "colab": {
          "base_uri": "https://localhost:8080/"
        },
        "id": "n4ryY16eqYF2",
        "outputId": "b1b015aa-3a50-44b3-b741-312ca16e181e"
      },
      "source": [
        "from google.colab import drive\n",
        "drive.mount('/content/drive')\n"
      ],
      "execution_count": null,
      "outputs": [
        {
          "output_type": "stream",
          "text": [
            "Drive already mounted at /content/drive; to attempt to forcibly remount, call drive.mount(\"/content/drive\", force_remount=True).\n"
          ],
          "name": "stdout"
        }
      ]
    },
    {
      "cell_type": "code",
      "metadata": {
        "id": "ALnohymd92O2"
      },
      "source": [
        "path = \"/content/drive/MyDrive/data/data.csv\"\n",
        "df = pd.read_csv(path)"
      ],
      "execution_count": null,
      "outputs": []
    },
    {
      "cell_type": "code",
      "metadata": {
        "colab": {
          "base_uri": "https://localhost:8080/",
          "height": 241
        },
        "id": "55ah4teL98eM",
        "outputId": "965bef75-653b-4b58-b5b7-054bbdf0d89a"
      },
      "source": [
        "df.head()"
      ],
      "execution_count": null,
      "outputs": [
        {
          "output_type": "execute_result",
          "data": {
            "text/html": [
              "<div>\n",
              "<style scoped>\n",
              "    .dataframe tbody tr th:only-of-type {\n",
              "        vertical-align: middle;\n",
              "    }\n",
              "\n",
              "    .dataframe tbody tr th {\n",
              "        vertical-align: top;\n",
              "    }\n",
              "\n",
              "    .dataframe thead th {\n",
              "        text-align: right;\n",
              "    }\n",
              "</style>\n",
              "<table border=\"1\" class=\"dataframe\">\n",
              "  <thead>\n",
              "    <tr style=\"text-align: right;\">\n",
              "      <th></th>\n",
              "      <th>dateRep</th>\n",
              "      <th>year_week</th>\n",
              "      <th>cases_weekly</th>\n",
              "      <th>deaths_weekly</th>\n",
              "      <th>countriesAndTerritories</th>\n",
              "      <th>geoId</th>\n",
              "      <th>countryterritoryCode</th>\n",
              "      <th>popData2019</th>\n",
              "      <th>continentExp</th>\n",
              "      <th>notification_rate_per_100000_population_14-days</th>\n",
              "    </tr>\n",
              "  </thead>\n",
              "  <tbody>\n",
              "    <tr>\n",
              "      <th>0</th>\n",
              "      <td>11/01/2021</td>\n",
              "      <td>2021-01</td>\n",
              "      <td>675</td>\n",
              "      <td>71</td>\n",
              "      <td>Afghanistan</td>\n",
              "      <td>AF</td>\n",
              "      <td>AFG</td>\n",
              "      <td>38041757.0</td>\n",
              "      <td>Asia</td>\n",
              "      <td>4.15</td>\n",
              "    </tr>\n",
              "    <tr>\n",
              "      <th>1</th>\n",
              "      <td>04/01/2021</td>\n",
              "      <td>2020-53</td>\n",
              "      <td>902</td>\n",
              "      <td>60</td>\n",
              "      <td>Afghanistan</td>\n",
              "      <td>AF</td>\n",
              "      <td>AFG</td>\n",
              "      <td>38041757.0</td>\n",
              "      <td>Asia</td>\n",
              "      <td>7.61</td>\n",
              "    </tr>\n",
              "    <tr>\n",
              "      <th>2</th>\n",
              "      <td>28/12/2020</td>\n",
              "      <td>2020-52</td>\n",
              "      <td>1994</td>\n",
              "      <td>88</td>\n",
              "      <td>Afghanistan</td>\n",
              "      <td>AF</td>\n",
              "      <td>AFG</td>\n",
              "      <td>38041757.0</td>\n",
              "      <td>Asia</td>\n",
              "      <td>7.19</td>\n",
              "    </tr>\n",
              "    <tr>\n",
              "      <th>3</th>\n",
              "      <td>21/12/2020</td>\n",
              "      <td>2020-51</td>\n",
              "      <td>740</td>\n",
              "      <td>111</td>\n",
              "      <td>Afghanistan</td>\n",
              "      <td>AF</td>\n",
              "      <td>AFG</td>\n",
              "      <td>38041757.0</td>\n",
              "      <td>Asia</td>\n",
              "      <td>6.56</td>\n",
              "    </tr>\n",
              "    <tr>\n",
              "      <th>4</th>\n",
              "      <td>14/12/2020</td>\n",
              "      <td>2020-50</td>\n",
              "      <td>1757</td>\n",
              "      <td>71</td>\n",
              "      <td>Afghanistan</td>\n",
              "      <td>AF</td>\n",
              "      <td>AFG</td>\n",
              "      <td>38041757.0</td>\n",
              "      <td>Asia</td>\n",
              "      <td>9.01</td>\n",
              "    </tr>\n",
              "  </tbody>\n",
              "</table>\n",
              "</div>"
            ],
            "text/plain": [
              "      dateRep  ... notification_rate_per_100000_population_14-days\n",
              "0  11/01/2021  ...                                            4.15\n",
              "1  04/01/2021  ...                                            7.61\n",
              "2  28/12/2020  ...                                            7.19\n",
              "3  21/12/2020  ...                                            6.56\n",
              "4  14/12/2020  ...                                            9.01\n",
              "\n",
              "[5 rows x 10 columns]"
            ]
          },
          "metadata": {
            "tags": []
          },
          "execution_count": 141
        }
      ]
    },
    {
      "cell_type": "code",
      "metadata": {
        "colab": {
          "base_uri": "https://localhost:8080/"
        },
        "id": "3rQhf8tiBPVr",
        "outputId": "c934d795-db5b-4c79-b6f1-c22faa15535d"
      },
      "source": [
        "df.columns"
      ],
      "execution_count": null,
      "outputs": [
        {
          "output_type": "execute_result",
          "data": {
            "text/plain": [
              "Index(['dateRep', 'year_week', 'cases_weekly', 'deaths_weekly',\n",
              "       'countriesAndTerritories', 'geoId', 'countryterritoryCode',\n",
              "       'popData2019', 'continentExp',\n",
              "       'notification_rate_per_100000_population_14-days'],\n",
              "      dtype='object')"
            ]
          },
          "metadata": {
            "tags": []
          },
          "execution_count": 142
        }
      ]
    },
    {
      "cell_type": "code",
      "metadata": {
        "colab": {
          "base_uri": "https://localhost:8080/",
          "height": 241
        },
        "id": "HfVGuog9BPZG",
        "outputId": "6b5f2bef-7ff4-4f0f-813b-8709de02ce8d"
      },
      "source": [
        "df.tail()"
      ],
      "execution_count": null,
      "outputs": [
        {
          "output_type": "execute_result",
          "data": {
            "text/html": [
              "<div>\n",
              "<style scoped>\n",
              "    .dataframe tbody tr th:only-of-type {\n",
              "        vertical-align: middle;\n",
              "    }\n",
              "\n",
              "    .dataframe tbody tr th {\n",
              "        vertical-align: top;\n",
              "    }\n",
              "\n",
              "    .dataframe thead th {\n",
              "        text-align: right;\n",
              "    }\n",
              "</style>\n",
              "<table border=\"1\" class=\"dataframe\">\n",
              "  <thead>\n",
              "    <tr style=\"text-align: right;\">\n",
              "      <th></th>\n",
              "      <th>dateRep</th>\n",
              "      <th>year_week</th>\n",
              "      <th>cases_weekly</th>\n",
              "      <th>deaths_weekly</th>\n",
              "      <th>countriesAndTerritories</th>\n",
              "      <th>geoId</th>\n",
              "      <th>countryterritoryCode</th>\n",
              "      <th>popData2019</th>\n",
              "      <th>continentExp</th>\n",
              "      <th>notification_rate_per_100000_population_14-days</th>\n",
              "    </tr>\n",
              "  </thead>\n",
              "  <tbody>\n",
              "    <tr>\n",
              "      <th>9786</th>\n",
              "      <td>20/04/2020</td>\n",
              "      <td>2020-16</td>\n",
              "      <td>11</td>\n",
              "      <td>0</td>\n",
              "      <td>Zimbabwe</td>\n",
              "      <td>ZW</td>\n",
              "      <td>ZWE</td>\n",
              "      <td>14645473.0</td>\n",
              "      <td>Africa</td>\n",
              "      <td>0.11</td>\n",
              "    </tr>\n",
              "    <tr>\n",
              "      <th>9787</th>\n",
              "      <td>13/04/2020</td>\n",
              "      <td>2020-15</td>\n",
              "      <td>5</td>\n",
              "      <td>2</td>\n",
              "      <td>Zimbabwe</td>\n",
              "      <td>ZW</td>\n",
              "      <td>ZWE</td>\n",
              "      <td>14645473.0</td>\n",
              "      <td>Africa</td>\n",
              "      <td>0.05</td>\n",
              "    </tr>\n",
              "    <tr>\n",
              "      <th>9788</th>\n",
              "      <td>06/04/2020</td>\n",
              "      <td>2020-14</td>\n",
              "      <td>2</td>\n",
              "      <td>0</td>\n",
              "      <td>Zimbabwe</td>\n",
              "      <td>ZW</td>\n",
              "      <td>ZWE</td>\n",
              "      <td>14645473.0</td>\n",
              "      <td>Africa</td>\n",
              "      <td>0.05</td>\n",
              "    </tr>\n",
              "    <tr>\n",
              "      <th>9789</th>\n",
              "      <td>30/03/2020</td>\n",
              "      <td>2020-13</td>\n",
              "      <td>5</td>\n",
              "      <td>1</td>\n",
              "      <td>Zimbabwe</td>\n",
              "      <td>ZW</td>\n",
              "      <td>ZWE</td>\n",
              "      <td>14645473.0</td>\n",
              "      <td>Africa</td>\n",
              "      <td>0.05</td>\n",
              "    </tr>\n",
              "    <tr>\n",
              "      <th>9790</th>\n",
              "      <td>23/03/2020</td>\n",
              "      <td>2020-12</td>\n",
              "      <td>2</td>\n",
              "      <td>0</td>\n",
              "      <td>Zimbabwe</td>\n",
              "      <td>ZW</td>\n",
              "      <td>ZWE</td>\n",
              "      <td>14645473.0</td>\n",
              "      <td>Africa</td>\n",
              "      <td>NaN</td>\n",
              "    </tr>\n",
              "  </tbody>\n",
              "</table>\n",
              "</div>"
            ],
            "text/plain": [
              "         dateRep  ... notification_rate_per_100000_population_14-days\n",
              "9786  20/04/2020  ...                                            0.11\n",
              "9787  13/04/2020  ...                                            0.05\n",
              "9788  06/04/2020  ...                                            0.05\n",
              "9789  30/03/2020  ...                                            0.05\n",
              "9790  23/03/2020  ...                                             NaN\n",
              "\n",
              "[5 rows x 10 columns]"
            ]
          },
          "metadata": {
            "tags": []
          },
          "execution_count": 143
        }
      ]
    },
    {
      "cell_type": "code",
      "metadata": {
        "colab": {
          "base_uri": "https://localhost:8080/"
        },
        "id": "IdEYaTD9BPdK",
        "outputId": "35ca5e1d-2416-4d5f-96e9-c73c109f8547"
      },
      "source": [
        "df.shape"
      ],
      "execution_count": null,
      "outputs": [
        {
          "output_type": "execute_result",
          "data": {
            "text/plain": [
              "(9791, 10)"
            ]
          },
          "metadata": {
            "tags": []
          },
          "execution_count": 144
        }
      ]
    },
    {
      "cell_type": "markdown",
      "metadata": {
        "id": "UhuaiK9I_u-r"
      },
      "source": [
        "##EDA"
      ]
    },
    {
      "cell_type": "code",
      "metadata": {
        "colab": {
          "base_uri": "https://localhost:8080/",
          "height": 297
        },
        "id": "ZYfn1bcm-4zR",
        "outputId": "489a4402-cd83-4cec-a410-806720025ac7"
      },
      "source": [
        "df.describe()"
      ],
      "execution_count": null,
      "outputs": [
        {
          "output_type": "execute_result",
          "data": {
            "text/html": [
              "<div>\n",
              "<style scoped>\n",
              "    .dataframe tbody tr th:only-of-type {\n",
              "        vertical-align: middle;\n",
              "    }\n",
              "\n",
              "    .dataframe tbody tr th {\n",
              "        vertical-align: top;\n",
              "    }\n",
              "\n",
              "    .dataframe thead th {\n",
              "        text-align: right;\n",
              "    }\n",
              "</style>\n",
              "<table border=\"1\" class=\"dataframe\">\n",
              "  <thead>\n",
              "    <tr style=\"text-align: right;\">\n",
              "      <th></th>\n",
              "      <th>cases_weekly</th>\n",
              "      <th>deaths_weekly</th>\n",
              "      <th>popData2019</th>\n",
              "      <th>notification_rate_per_100000_population_14-days</th>\n",
              "    </tr>\n",
              "  </thead>\n",
              "  <tbody>\n",
              "    <tr>\n",
              "      <th>count</th>\n",
              "      <td>9.791000e+03</td>\n",
              "      <td>9791.000000</td>\n",
              "      <td>9.769000e+03</td>\n",
              "      <td>9556.000000</td>\n",
              "    </tr>\n",
              "    <tr>\n",
              "      <th>mean</th>\n",
              "      <td>9.171902e+03</td>\n",
              "      <td>198.195179</td>\n",
              "      <td>4.043069e+07</td>\n",
              "      <td>77.844643</td>\n",
              "    </tr>\n",
              "    <tr>\n",
              "      <th>std</th>\n",
              "      <td>5.562173e+04</td>\n",
              "      <td>926.689829</td>\n",
              "      <td>1.515012e+08</td>\n",
              "      <td>189.287209</td>\n",
              "    </tr>\n",
              "    <tr>\n",
              "      <th>min</th>\n",
              "      <td>-3.864000e+03</td>\n",
              "      <td>-875.000000</td>\n",
              "      <td>8.150000e+02</td>\n",
              "      <td>-132.600000</td>\n",
              "    </tr>\n",
              "    <tr>\n",
              "      <th>25%</th>\n",
              "      <td>8.000000e+00</td>\n",
              "      <td>0.000000</td>\n",
              "      <td>1.293120e+06</td>\n",
              "      <td>0.810000</td>\n",
              "    </tr>\n",
              "    <tr>\n",
              "      <th>50%</th>\n",
              "      <td>1.670000e+02</td>\n",
              "      <td>2.000000</td>\n",
              "      <td>7.169456e+06</td>\n",
              "      <td>7.690000</td>\n",
              "    </tr>\n",
              "    <tr>\n",
              "      <th>75%</th>\n",
              "      <td>2.334500e+03</td>\n",
              "      <td>37.000000</td>\n",
              "      <td>2.851583e+07</td>\n",
              "      <td>61.965000</td>\n",
              "    </tr>\n",
              "    <tr>\n",
              "      <th>max</th>\n",
              "      <td>1.782792e+06</td>\n",
              "      <td>22852.000000</td>\n",
              "      <td>1.433784e+09</td>\n",
              "      <td>4343.440000</td>\n",
              "    </tr>\n",
              "  </tbody>\n",
              "</table>\n",
              "</div>"
            ],
            "text/plain": [
              "       cases_weekly  ...  notification_rate_per_100000_population_14-days\n",
              "count  9.791000e+03  ...                                      9556.000000\n",
              "mean   9.171902e+03  ...                                        77.844643\n",
              "std    5.562173e+04  ...                                       189.287209\n",
              "min   -3.864000e+03  ...                                      -132.600000\n",
              "25%    8.000000e+00  ...                                         0.810000\n",
              "50%    1.670000e+02  ...                                         7.690000\n",
              "75%    2.334500e+03  ...                                        61.965000\n",
              "max    1.782792e+06  ...                                      4343.440000\n",
              "\n",
              "[8 rows x 4 columns]"
            ]
          },
          "metadata": {
            "tags": []
          },
          "execution_count": 145
        }
      ]
    },
    {
      "cell_type": "markdown",
      "metadata": {
        "id": "RpNgd4948RV9"
      },
      "source": [
        "*Scatterplot showing correlation between cases_weekly and deaths_weekly*"
      ]
    },
    {
      "cell_type": "code",
      "metadata": {
        "colab": {
          "base_uri": "https://localhost:8080/",
          "height": 297
        },
        "id": "5icEclveALQ5",
        "outputId": "1b03c829-ffe5-4f8f-a6e5-7bdb77cbc232"
      },
      "source": [
        "import seaborn as sns\n",
        "sns.scatterplot(x=\"cases_weekly\", y=\"deaths_weekly\", \n",
        "                hue=\"deaths_weekly\",size=\"deaths_weekly\", data=df)"
      ],
      "execution_count": null,
      "outputs": [
        {
          "output_type": "execute_result",
          "data": {
            "text/plain": [
              "<matplotlib.axes._subplots.AxesSubplot at 0x7fde9a74f978>"
            ]
          },
          "metadata": {
            "tags": []
          },
          "execution_count": 146
        },
        {
          "output_type": "display_data",
          "data": {
            "image/png": "[encoded data removed]",
            "text/plain": [
              "<Figure size 432x288 with 1 Axes>"
            ]
          },
          "metadata": {
            "tags": [],
            "needs_background": "light"
          }
        }
      ]
    },
    {
      "cell_type": "markdown",
      "metadata": {
        "id": "3EtsYaDk8fhb"
      },
      "source": [
        "*Making the index a DateTime Index*"
      ]
    },
    {
      "cell_type": "code",
      "metadata": {
        "colab": {
          "base_uri": "https://localhost:8080/"
        },
        "id": "N14Opi1XCgZU",
        "outputId": "d90ffe57-e168-48dc-9913-3f2b588479b7"
      },
      "source": [
        "df['dateRep']=pd.to_datetime(df[\"dateRep\"], dayfirst=True)\n",
        "df = df.set_index(\"dateRep\")\n",
        "print(f\"Columns: {df.columns}\")\n",
        "df.index"
      ],
      "execution_count": null,
      "outputs": [
        {
          "output_type": "stream",
          "text": [
            "Columns: Index(['year_week', 'cases_weekly', 'deaths_weekly', 'countriesAndTerritories',\n",
            "       'geoId', 'countryterritoryCode', 'popData2019', 'continentExp',\n",
            "       'notification_rate_per_100000_population_14-days'],\n",
            "      dtype='object')\n"
          ],
          "name": "stdout"
        },
        {
          "output_type": "execute_result",
          "data": {
            "text/plain": [
              "DatetimeIndex(['2021-01-11', '2021-01-04', '2020-12-28', '2020-12-21',\n",
              "               '2020-12-14', '2020-12-07', '2020-11-30', '2020-11-23',\n",
              "               '2020-11-16', '2020-11-09',\n",
              "               ...\n",
              "               '2020-05-25', '2020-05-18', '2020-05-11', '2020-05-04',\n",
              "               '2020-04-27', '2020-04-20', '2020-04-13', '2020-04-06',\n",
              "               '2020-03-30', '2020-03-23'],\n",
              "              dtype='datetime64[ns]', name='dateRep', length=9791, freq=None)"
            ]
          },
          "metadata": {
            "tags": []
          },
          "execution_count": 147
        }
      ]
    },
    {
      "cell_type": "markdown",
      "metadata": {
        "id": "hiD3-01WC2VF"
      },
      "source": [
        "*Cleaning up the data to not include negative cases/deaths*"
      ]
    },
    {
      "cell_type": "code",
      "metadata": {
        "colab": {
          "base_uri": "https://localhost:8080/",
          "height": 657
        },
        "id": "d-G3CYxt_q9L",
        "outputId": "36c154b2-7a20-4909-8f72-33d72690371c"
      },
      "source": [
        "\n",
        "df = df[df['cases_weekly'] >= 0 ]\n",
        "df = df[df['deaths_weekly'] >= 0 ]\n",
        "df.sort_values(by=[\"cases_weekly\"], ascending=True)"
      ],
      "execution_count": null,
      "outputs": [
        {
          "output_type": "execute_result",
          "data": {
            "text/html": [
              "<div>\n",
              "<style scoped>\n",
              "    .dataframe tbody tr th:only-of-type {\n",
              "        vertical-align: middle;\n",
              "    }\n",
              "\n",
              "    .dataframe tbody tr th {\n",
              "        vertical-align: top;\n",
              "    }\n",
              "\n",
              "    .dataframe thead th {\n",
              "        text-align: right;\n",
              "    }\n",
              "</style>\n",
              "<table border=\"1\" class=\"dataframe\">\n",
              "  <thead>\n",
              "    <tr style=\"text-align: right;\">\n",
              "      <th></th>\n",
              "      <th>year_week</th>\n",
              "      <th>cases_weekly</th>\n",
              "      <th>deaths_weekly</th>\n",
              "      <th>countriesAndTerritories</th>\n",
              "      <th>geoId</th>\n",
              "      <th>countryterritoryCode</th>\n",
              "      <th>popData2019</th>\n",
              "      <th>continentExp</th>\n",
              "      <th>notification_rate_per_100000_population_14-days</th>\n",
              "    </tr>\n",
              "    <tr>\n",
              "      <th>dateRep</th>\n",
              "      <th></th>\n",
              "      <th></th>\n",
              "      <th></th>\n",
              "      <th></th>\n",
              "      <th></th>\n",
              "      <th></th>\n",
              "      <th></th>\n",
              "      <th></th>\n",
              "      <th></th>\n",
              "    </tr>\n",
              "  </thead>\n",
              "  <tbody>\n",
              "    <tr>\n",
              "      <th>2020-06-01</th>\n",
              "      <td>2020-22</td>\n",
              "      <td>0</td>\n",
              "      <td>0</td>\n",
              "      <td>Faroe_Islands</td>\n",
              "      <td>FO</td>\n",
              "      <td>FRO</td>\n",
              "      <td>48677.0</td>\n",
              "      <td>Europe</td>\n",
              "      <td>0.00</td>\n",
              "    </tr>\n",
              "    <tr>\n",
              "      <th>2020-04-13</th>\n",
              "      <td>2020-15</td>\n",
              "      <td>0</td>\n",
              "      <td>0</td>\n",
              "      <td>Bhutan</td>\n",
              "      <td>BT</td>\n",
              "      <td>BTN</td>\n",
              "      <td>763094.0</td>\n",
              "      <td>Asia</td>\n",
              "      <td>0.13</td>\n",
              "    </tr>\n",
              "    <tr>\n",
              "      <th>2020-04-20</th>\n",
              "      <td>2020-16</td>\n",
              "      <td>0</td>\n",
              "      <td>0</td>\n",
              "      <td>Bhutan</td>\n",
              "      <td>BT</td>\n",
              "      <td>BTN</td>\n",
              "      <td>763094.0</td>\n",
              "      <td>Asia</td>\n",
              "      <td>0.00</td>\n",
              "    </tr>\n",
              "    <tr>\n",
              "      <th>2020-07-27</th>\n",
              "      <td>2020-30</td>\n",
              "      <td>0</td>\n",
              "      <td>0</td>\n",
              "      <td>Grenada</td>\n",
              "      <td>GD</td>\n",
              "      <td>GRD</td>\n",
              "      <td>112002.0</td>\n",
              "      <td>America</td>\n",
              "      <td>0.00</td>\n",
              "    </tr>\n",
              "    <tr>\n",
              "      <th>2020-05-04</th>\n",
              "      <td>2020-18</td>\n",
              "      <td>0</td>\n",
              "      <td>0</td>\n",
              "      <td>Bhutan</td>\n",
              "      <td>BT</td>\n",
              "      <td>BTN</td>\n",
              "      <td>763094.0</td>\n",
              "      <td>Asia</td>\n",
              "      <td>0.26</td>\n",
              "    </tr>\n",
              "    <tr>\n",
              "      <th>...</th>\n",
              "      <td>...</td>\n",
              "      <td>...</td>\n",
              "      <td>...</td>\n",
              "      <td>...</td>\n",
              "      <td>...</td>\n",
              "      <td>...</td>\n",
              "      <td>...</td>\n",
              "      <td>...</td>\n",
              "      <td>...</td>\n",
              "    </tr>\n",
              "    <tr>\n",
              "      <th>2020-12-07</th>\n",
              "      <td>2020-49</td>\n",
              "      <td>1373677</td>\n",
              "      <td>15437</td>\n",
              "      <td>United_States_of_America</td>\n",
              "      <td>US</td>\n",
              "      <td>USA</td>\n",
              "      <td>329064917.0</td>\n",
              "      <td>America</td>\n",
              "      <td>762.79</td>\n",
              "    </tr>\n",
              "    <tr>\n",
              "      <th>2021-01-04</th>\n",
              "      <td>2020-53</td>\n",
              "      <td>1488563</td>\n",
              "      <td>18264</td>\n",
              "      <td>United_States_of_America</td>\n",
              "      <td>US</td>\n",
              "      <td>USA</td>\n",
              "      <td>329064917.0</td>\n",
              "      <td>America</td>\n",
              "      <td>849.49</td>\n",
              "    </tr>\n",
              "    <tr>\n",
              "      <th>2020-12-14</th>\n",
              "      <td>2020-50</td>\n",
              "      <td>1499756</td>\n",
              "      <td>16867</td>\n",
              "      <td>United_States_of_America</td>\n",
              "      <td>US</td>\n",
              "      <td>USA</td>\n",
              "      <td>329064917.0</td>\n",
              "      <td>America</td>\n",
              "      <td>873.21</td>\n",
              "    </tr>\n",
              "    <tr>\n",
              "      <th>2020-12-21</th>\n",
              "      <td>2020-51</td>\n",
              "      <td>1588085</td>\n",
              "      <td>18493</td>\n",
              "      <td>United_States_of_America</td>\n",
              "      <td>US</td>\n",
              "      <td>USA</td>\n",
              "      <td>329064917.0</td>\n",
              "      <td>America</td>\n",
              "      <td>938.37</td>\n",
              "    </tr>\n",
              "    <tr>\n",
              "      <th>2021-01-11</th>\n",
              "      <td>2021-01</td>\n",
              "      <td>1782792</td>\n",
              "      <td>22852</td>\n",
              "      <td>United_States_of_America</td>\n",
              "      <td>US</td>\n",
              "      <td>USA</td>\n",
              "      <td>329064917.0</td>\n",
              "      <td>America</td>\n",
              "      <td>994.14</td>\n",
              "    </tr>\n",
              "  </tbody>\n",
              "</table>\n",
              "<p>9782 rows × 9 columns</p>\n",
              "</div>"
            ],
            "text/plain": [
              "           year_week  ...  notification_rate_per_100000_population_14-days\n",
              "dateRep               ...                                                 \n",
              "2020-06-01   2020-22  ...                                             0.00\n",
              "2020-04-13   2020-15  ...                                             0.13\n",
              "2020-04-20   2020-16  ...                                             0.00\n",
              "2020-07-27   2020-30  ...                                             0.00\n",
              "2020-05-04   2020-18  ...                                             0.26\n",
              "...              ...  ...                                              ...\n",
              "2020-12-07   2020-49  ...                                           762.79\n",
              "2021-01-04   2020-53  ...                                           849.49\n",
              "2020-12-14   2020-50  ...                                           873.21\n",
              "2020-12-21   2020-51  ...                                           938.37\n",
              "2021-01-11   2021-01  ...                                           994.14\n",
              "\n",
              "[9782 rows x 9 columns]"
            ]
          },
          "metadata": {
            "tags": []
          },
          "execution_count": 148
        }
      ]
    },
    {
      "cell_type": "code",
      "metadata": {
        "colab": {
          "base_uri": "https://localhost:8080/"
        },
        "id": "T5Ih7383H9Xy",
        "outputId": "7172d12b-0ae4-466e-963e-14d627488ff0"
      },
      "source": [
        "df.index.min()"
      ],
      "execution_count": null,
      "outputs": [
        {
          "output_type": "execute_result",
          "data": {
            "text/plain": [
              "Timestamp('2020-01-06 00:00:00')"
            ]
          },
          "metadata": {
            "tags": []
          },
          "execution_count": 149
        }
      ]
    },
    {
      "cell_type": "code",
      "metadata": {
        "colab": {
          "base_uri": "https://localhost:8080/"
        },
        "id": "SXBgzC7uHd2T",
        "outputId": "09b4d5a2-03c2-4b4d-d23f-fb7946f7b2bf"
      },
      "source": [
        "df.index.max()"
      ],
      "execution_count": null,
      "outputs": [
        {
          "output_type": "execute_result",
          "data": {
            "text/plain": [
              "Timestamp('2021-01-11 00:00:00')"
            ]
          },
          "metadata": {
            "tags": []
          },
          "execution_count": 150
        }
      ]
    },
    {
      "cell_type": "code",
      "metadata": {
        "colab": {
          "base_uri": "https://localhost:8080/"
        },
        "id": "SClQ0_ew-FRB",
        "outputId": "e9c98132-7f05-492d-ec13-796b351dc6a8"
      },
      "source": [
        "df['cases_weekly'].min()"
      ],
      "execution_count": null,
      "outputs": [
        {
          "output_type": "execute_result",
          "data": {
            "text/plain": [
              "0"
            ]
          },
          "metadata": {
            "tags": []
          },
          "execution_count": 151
        }
      ]
    },
    {
      "cell_type": "markdown",
      "metadata": {
        "id": "ScOTTY3zDBp-"
      },
      "source": [
        "*Sort by highest Deaths/Cases to lowest*"
      ]
    },
    {
      "cell_type": "code",
      "metadata": {
        "colab": {
          "base_uri": "https://localhost:8080/",
          "height": 597
        },
        "id": "tm1zsCP2IySS",
        "outputId": "8d8b8bc0-5bc1-47e0-f173-5e3f49ef2782"
      },
      "source": [
        "current_df = df.sort_values(by=[\"deaths_weekly\", \"cases_weekly\"], ascending=False)\n",
        "current_df.head(10)"
      ],
      "execution_count": null,
      "outputs": [
        {
          "output_type": "execute_result",
          "data": {
            "text/html": [
              "<div>\n",
              "<style scoped>\n",
              "    .dataframe tbody tr th:only-of-type {\n",
              "        vertical-align: middle;\n",
              "    }\n",
              "\n",
              "    .dataframe tbody tr th {\n",
              "        vertical-align: top;\n",
              "    }\n",
              "\n",
              "    .dataframe thead th {\n",
              "        text-align: right;\n",
              "    }\n",
              "</style>\n",
              "<table border=\"1\" class=\"dataframe\">\n",
              "  <thead>\n",
              "    <tr style=\"text-align: right;\">\n",
              "      <th></th>\n",
              "      <th>year_week</th>\n",
              "      <th>cases_weekly</th>\n",
              "      <th>deaths_weekly</th>\n",
              "      <th>countriesAndTerritories</th>\n",
              "      <th>geoId</th>\n",
              "      <th>countryterritoryCode</th>\n",
              "      <th>popData2019</th>\n",
              "      <th>continentExp</th>\n",
              "      <th>notification_rate_per_100000_population_14-days</th>\n",
              "    </tr>\n",
              "    <tr>\n",
              "      <th>dateRep</th>\n",
              "      <th></th>\n",
              "      <th></th>\n",
              "      <th></th>\n",
              "      <th></th>\n",
              "      <th></th>\n",
              "      <th></th>\n",
              "      <th></th>\n",
              "      <th></th>\n",
              "      <th></th>\n",
              "    </tr>\n",
              "  </thead>\n",
              "  <tbody>\n",
              "    <tr>\n",
              "      <th>2021-01-11</th>\n",
              "      <td>2021-01</td>\n",
              "      <td>1782792</td>\n",
              "      <td>22852</td>\n",
              "      <td>United_States_of_America</td>\n",
              "      <td>US</td>\n",
              "      <td>USA</td>\n",
              "      <td>329064917.0</td>\n",
              "      <td>America</td>\n",
              "      <td>994.14</td>\n",
              "    </tr>\n",
              "    <tr>\n",
              "      <th>2020-04-20</th>\n",
              "      <td>2020-16</td>\n",
              "      <td>202116</td>\n",
              "      <td>18574</td>\n",
              "      <td>United_States_of_America</td>\n",
              "      <td>US</td>\n",
              "      <td>USA</td>\n",
              "      <td>329064917.0</td>\n",
              "      <td>America</td>\n",
              "      <td>128.26</td>\n",
              "    </tr>\n",
              "    <tr>\n",
              "      <th>2020-12-21</th>\n",
              "      <td>2020-51</td>\n",
              "      <td>1588085</td>\n",
              "      <td>18493</td>\n",
              "      <td>United_States_of_America</td>\n",
              "      <td>US</td>\n",
              "      <td>USA</td>\n",
              "      <td>329064917.0</td>\n",
              "      <td>America</td>\n",
              "      <td>938.37</td>\n",
              "    </tr>\n",
              "    <tr>\n",
              "      <th>2021-01-04</th>\n",
              "      <td>2020-53</td>\n",
              "      <td>1488563</td>\n",
              "      <td>18264</td>\n",
              "      <td>United_States_of_America</td>\n",
              "      <td>US</td>\n",
              "      <td>USA</td>\n",
              "      <td>329064917.0</td>\n",
              "      <td>America</td>\n",
              "      <td>849.49</td>\n",
              "    </tr>\n",
              "    <tr>\n",
              "      <th>2020-12-14</th>\n",
              "      <td>2020-50</td>\n",
              "      <td>1499756</td>\n",
              "      <td>16867</td>\n",
              "      <td>United_States_of_America</td>\n",
              "      <td>US</td>\n",
              "      <td>USA</td>\n",
              "      <td>329064917.0</td>\n",
              "      <td>America</td>\n",
              "      <td>873.21</td>\n",
              "    </tr>\n",
              "    <tr>\n",
              "      <th>2020-12-28</th>\n",
              "      <td>2020-52</td>\n",
              "      <td>1306812</td>\n",
              "      <td>15656</td>\n",
              "      <td>United_States_of_America</td>\n",
              "      <td>US</td>\n",
              "      <td>USA</td>\n",
              "      <td>329064917.0</td>\n",
              "      <td>America</td>\n",
              "      <td>879.73</td>\n",
              "    </tr>\n",
              "    <tr>\n",
              "      <th>2020-12-07</th>\n",
              "      <td>2020-49</td>\n",
              "      <td>1373677</td>\n",
              "      <td>15437</td>\n",
              "      <td>United_States_of_America</td>\n",
              "      <td>US</td>\n",
              "      <td>USA</td>\n",
              "      <td>329064917.0</td>\n",
              "      <td>America</td>\n",
              "      <td>762.79</td>\n",
              "    </tr>\n",
              "    <tr>\n",
              "      <th>2020-04-27</th>\n",
              "      <td>2020-17</td>\n",
              "      <td>206223</td>\n",
              "      <td>14194</td>\n",
              "      <td>United_States_of_America</td>\n",
              "      <td>US</td>\n",
              "      <td>USA</td>\n",
              "      <td>329064917.0</td>\n",
              "      <td>America</td>\n",
              "      <td>124.09</td>\n",
              "    </tr>\n",
              "    <tr>\n",
              "      <th>2020-05-04</th>\n",
              "      <td>2020-18</td>\n",
              "      <td>192131</td>\n",
              "      <td>12806</td>\n",
              "      <td>United_States_of_America</td>\n",
              "      <td>US</td>\n",
              "      <td>USA</td>\n",
              "      <td>329064917.0</td>\n",
              "      <td>America</td>\n",
              "      <td>121.06</td>\n",
              "    </tr>\n",
              "    <tr>\n",
              "      <th>2020-04-13</th>\n",
              "      <td>2020-15</td>\n",
              "      <td>219936</td>\n",
              "      <td>12461</td>\n",
              "      <td>United_States_of_America</td>\n",
              "      <td>US</td>\n",
              "      <td>USA</td>\n",
              "      <td>329064917.0</td>\n",
              "      <td>America</td>\n",
              "      <td>125.98</td>\n",
              "    </tr>\n",
              "  </tbody>\n",
              "</table>\n",
              "</div>"
            ],
            "text/plain": [
              "           year_week  ...  notification_rate_per_100000_population_14-days\n",
              "dateRep               ...                                                 \n",
              "2021-01-11   2021-01  ...                                           994.14\n",
              "2020-04-20   2020-16  ...                                           128.26\n",
              "2020-12-21   2020-51  ...                                           938.37\n",
              "2021-01-04   2020-53  ...                                           849.49\n",
              "2020-12-14   2020-50  ...                                           873.21\n",
              "2020-12-28   2020-52  ...                                           879.73\n",
              "2020-12-07   2020-49  ...                                           762.79\n",
              "2020-04-27   2020-17  ...                                           124.09\n",
              "2020-05-04   2020-18  ...                                           121.06\n",
              "2020-04-13   2020-15  ...                                           125.98\n",
              "\n",
              "[10 rows x 9 columns]"
            ]
          },
          "metadata": {
            "tags": []
          },
          "execution_count": 152
        }
      ]
    },
    {
      "cell_type": "code",
      "metadata": {
        "id": "xQs1UfAVTnQ2"
      },
      "source": [
        ""
      ],
      "execution_count": null,
      "outputs": []
    },
    {
      "cell_type": "markdown",
      "metadata": {
        "id": "zGdlmUYbDOay"
      },
      "source": [
        "*New feature of weekly death to case ratio*"
      ]
    },
    {
      "cell_type": "code",
      "metadata": {
        "id": "1U_qIgb0JLW3"
      },
      "source": [
        "current_df['death_to_case']=current_df['deaths_weekly']/current_df['cases_weekly']"
      ],
      "execution_count": null,
      "outputs": []
    },
    {
      "cell_type": "code",
      "metadata": {
        "colab": {
          "base_uri": "https://localhost:8080/",
          "height": 357
        },
        "id": "x8hiak_OJrkR",
        "outputId": "3229a997-920c-400d-a952-bf44c5f6a281"
      },
      "source": [
        "current_df.head()"
      ],
      "execution_count": null,
      "outputs": [
        {
          "output_type": "execute_result",
          "data": {
            "text/html": [
              "<div>\n",
              "<style scoped>\n",
              "    .dataframe tbody tr th:only-of-type {\n",
              "        vertical-align: middle;\n",
              "    }\n",
              "\n",
              "    .dataframe tbody tr th {\n",
              "        vertical-align: top;\n",
              "    }\n",
              "\n",
              "    .dataframe thead th {\n",
              "        text-align: right;\n",
              "    }\n",
              "</style>\n",
              "<table border=\"1\" class=\"dataframe\">\n",
              "  <thead>\n",
              "    <tr style=\"text-align: right;\">\n",
              "      <th></th>\n",
              "      <th>year_week</th>\n",
              "      <th>cases_weekly</th>\n",
              "      <th>deaths_weekly</th>\n",
              "      <th>countriesAndTerritories</th>\n",
              "      <th>geoId</th>\n",
              "      <th>countryterritoryCode</th>\n",
              "      <th>popData2019</th>\n",
              "      <th>continentExp</th>\n",
              "      <th>notification_rate_per_100000_population_14-days</th>\n",
              "      <th>death_to_case</th>\n",
              "    </tr>\n",
              "    <tr>\n",
              "      <th>dateRep</th>\n",
              "      <th></th>\n",
              "      <th></th>\n",
              "      <th></th>\n",
              "      <th></th>\n",
              "      <th></th>\n",
              "      <th></th>\n",
              "      <th></th>\n",
              "      <th></th>\n",
              "      <th></th>\n",
              "      <th></th>\n",
              "    </tr>\n",
              "  </thead>\n",
              "  <tbody>\n",
              "    <tr>\n",
              "      <th>2021-01-11</th>\n",
              "      <td>2021-01</td>\n",
              "      <td>1782792</td>\n",
              "      <td>22852</td>\n",
              "      <td>United_States_of_America</td>\n",
              "      <td>US</td>\n",
              "      <td>USA</td>\n",
              "      <td>329064917.0</td>\n",
              "      <td>America</td>\n",
              "      <td>994.14</td>\n",
              "      <td>0.012818</td>\n",
              "    </tr>\n",
              "    <tr>\n",
              "      <th>2020-04-20</th>\n",
              "      <td>2020-16</td>\n",
              "      <td>202116</td>\n",
              "      <td>18574</td>\n",
              "      <td>United_States_of_America</td>\n",
              "      <td>US</td>\n",
              "      <td>USA</td>\n",
              "      <td>329064917.0</td>\n",
              "      <td>America</td>\n",
              "      <td>128.26</td>\n",
              "      <td>0.091898</td>\n",
              "    </tr>\n",
              "    <tr>\n",
              "      <th>2020-12-21</th>\n",
              "      <td>2020-51</td>\n",
              "      <td>1588085</td>\n",
              "      <td>18493</td>\n",
              "      <td>United_States_of_America</td>\n",
              "      <td>US</td>\n",
              "      <td>USA</td>\n",
              "      <td>329064917.0</td>\n",
              "      <td>America</td>\n",
              "      <td>938.37</td>\n",
              "      <td>0.011645</td>\n",
              "    </tr>\n",
              "    <tr>\n",
              "      <th>2021-01-04</th>\n",
              "      <td>2020-53</td>\n",
              "      <td>1488563</td>\n",
              "      <td>18264</td>\n",
              "      <td>United_States_of_America</td>\n",
              "      <td>US</td>\n",
              "      <td>USA</td>\n",
              "      <td>329064917.0</td>\n",
              "      <td>America</td>\n",
              "      <td>849.49</td>\n",
              "      <td>0.012270</td>\n",
              "    </tr>\n",
              "    <tr>\n",
              "      <th>2020-12-14</th>\n",
              "      <td>2020-50</td>\n",
              "      <td>1499756</td>\n",
              "      <td>16867</td>\n",
              "      <td>United_States_of_America</td>\n",
              "      <td>US</td>\n",
              "      <td>USA</td>\n",
              "      <td>329064917.0</td>\n",
              "      <td>America</td>\n",
              "      <td>873.21</td>\n",
              "      <td>0.011246</td>\n",
              "    </tr>\n",
              "  </tbody>\n",
              "</table>\n",
              "</div>"
            ],
            "text/plain": [
              "           year_week  ...  death_to_case\n",
              "dateRep               ...               \n",
              "2021-01-11   2021-01  ...       0.012818\n",
              "2020-04-20   2020-16  ...       0.091898\n",
              "2020-12-21   2020-51  ...       0.011645\n",
              "2021-01-04   2020-53  ...       0.012270\n",
              "2020-12-14   2020-50  ...       0.011246\n",
              "\n",
              "[5 rows x 10 columns]"
            ]
          },
          "metadata": {
            "tags": []
          },
          "execution_count": 154
        }
      ]
    },
    {
      "cell_type": "markdown",
      "metadata": {
        "id": "QOKT241BDe60"
      },
      "source": [
        "*Copy of DF with only three features*"
      ]
    },
    {
      "cell_type": "code",
      "metadata": {
        "id": "xrdWQDfRKd6r"
      },
      "source": [
        "gbCountryAndTerr= current_df[['countriesAndTerritories','cases_weekly', 'deaths_weekly']].copy()"
      ],
      "execution_count": null,
      "outputs": []
    },
    {
      "cell_type": "code",
      "metadata": {
        "colab": {
          "base_uri": "https://localhost:8080/",
          "height": 235
        },
        "id": "iRLhmydAK632",
        "outputId": "3a6d6fd0-29d0-421e-ff59-25055a6df7b9"
      },
      "source": [
        "gbCountryAndTerr.head()"
      ],
      "execution_count": null,
      "outputs": [
        {
          "output_type": "execute_result",
          "data": {
            "text/html": [
              "<div>\n",
              "<style scoped>\n",
              "    .dataframe tbody tr th:only-of-type {\n",
              "        vertical-align: middle;\n",
              "    }\n",
              "\n",
              "    .dataframe tbody tr th {\n",
              "        vertical-align: top;\n",
              "    }\n",
              "\n",
              "    .dataframe thead th {\n",
              "        text-align: right;\n",
              "    }\n",
              "</style>\n",
              "<table border=\"1\" class=\"dataframe\">\n",
              "  <thead>\n",
              "    <tr style=\"text-align: right;\">\n",
              "      <th></th>\n",
              "      <th>countriesAndTerritories</th>\n",
              "      <th>cases_weekly</th>\n",
              "      <th>deaths_weekly</th>\n",
              "    </tr>\n",
              "    <tr>\n",
              "      <th>dateRep</th>\n",
              "      <th></th>\n",
              "      <th></th>\n",
              "      <th></th>\n",
              "    </tr>\n",
              "  </thead>\n",
              "  <tbody>\n",
              "    <tr>\n",
              "      <th>2021-01-11</th>\n",
              "      <td>United_States_of_America</td>\n",
              "      <td>1782792</td>\n",
              "      <td>22852</td>\n",
              "    </tr>\n",
              "    <tr>\n",
              "      <th>2020-04-20</th>\n",
              "      <td>United_States_of_America</td>\n",
              "      <td>202116</td>\n",
              "      <td>18574</td>\n",
              "    </tr>\n",
              "    <tr>\n",
              "      <th>2020-12-21</th>\n",
              "      <td>United_States_of_America</td>\n",
              "      <td>1588085</td>\n",
              "      <td>18493</td>\n",
              "    </tr>\n",
              "    <tr>\n",
              "      <th>2021-01-04</th>\n",
              "      <td>United_States_of_America</td>\n",
              "      <td>1488563</td>\n",
              "      <td>18264</td>\n",
              "    </tr>\n",
              "    <tr>\n",
              "      <th>2020-12-14</th>\n",
              "      <td>United_States_of_America</td>\n",
              "      <td>1499756</td>\n",
              "      <td>16867</td>\n",
              "    </tr>\n",
              "  </tbody>\n",
              "</table>\n",
              "</div>"
            ],
            "text/plain": [
              "             countriesAndTerritories  cases_weekly  deaths_weekly\n",
              "dateRep                                                          \n",
              "2021-01-11  United_States_of_America       1782792          22852\n",
              "2020-04-20  United_States_of_America        202116          18574\n",
              "2020-12-21  United_States_of_America       1588085          18493\n",
              "2021-01-04  United_States_of_America       1488563          18264\n",
              "2020-12-14  United_States_of_America       1499756          16867"
            ]
          },
          "metadata": {
            "tags": []
          },
          "execution_count": 156
        }
      ]
    },
    {
      "cell_type": "markdown",
      "metadata": {
        "id": "zqylCA7EDmSe"
      },
      "source": [
        "Group by country to see total number of cases and deaths in that country"
      ]
    },
    {
      "cell_type": "code",
      "metadata": {
        "colab": {
          "base_uri": "https://localhost:8080/",
          "height": 450
        },
        "id": "lQoH0SykJt2B",
        "outputId": "adc1c3b7-09d0-465f-f428-1ec8ee8d0f78"
      },
      "source": [
        "gbCountryAndTerr2=gbCountryAndTerr.groupby(['countriesAndTerritories']).sum()\n",
        "gbCountryAndTerr2.columns = ['cases', 'deaths']\n",
        "gbCountryAndTerr2"
      ],
      "execution_count": null,
      "outputs": [
        {
          "output_type": "execute_result",
          "data": {
            "text/html": [
              "<div>\n",
              "<style scoped>\n",
              "    .dataframe tbody tr th:only-of-type {\n",
              "        vertical-align: middle;\n",
              "    }\n",
              "\n",
              "    .dataframe tbody tr th {\n",
              "        vertical-align: top;\n",
              "    }\n",
              "\n",
              "    .dataframe thead th {\n",
              "        text-align: right;\n",
              "    }\n",
              "</style>\n",
              "<table border=\"1\" class=\"dataframe\">\n",
              "  <thead>\n",
              "    <tr style=\"text-align: right;\">\n",
              "      <th></th>\n",
              "      <th>cases</th>\n",
              "      <th>deaths</th>\n",
              "    </tr>\n",
              "    <tr>\n",
              "      <th>countriesAndTerritories</th>\n",
              "      <th></th>\n",
              "      <th></th>\n",
              "    </tr>\n",
              "  </thead>\n",
              "  <tbody>\n",
              "    <tr>\n",
              "      <th>Afghanistan</th>\n",
              "      <td>53584</td>\n",
              "      <td>2301</td>\n",
              "    </tr>\n",
              "    <tr>\n",
              "      <th>Albania</th>\n",
              "      <td>63595</td>\n",
              "      <td>1241</td>\n",
              "    </tr>\n",
              "    <tr>\n",
              "      <th>Algeria</th>\n",
              "      <td>102144</td>\n",
              "      <td>2807</td>\n",
              "    </tr>\n",
              "    <tr>\n",
              "      <th>Andorra</th>\n",
              "      <td>8682</td>\n",
              "      <td>86</td>\n",
              "    </tr>\n",
              "    <tr>\n",
              "      <th>Angola</th>\n",
              "      <td>18193</td>\n",
              "      <td>416</td>\n",
              "    </tr>\n",
              "    <tr>\n",
              "      <th>...</th>\n",
              "      <td>...</td>\n",
              "      <td>...</td>\n",
              "    </tr>\n",
              "    <tr>\n",
              "      <th>Wallis_and_Futuna</th>\n",
              "      <td>4</td>\n",
              "      <td>0</td>\n",
              "    </tr>\n",
              "    <tr>\n",
              "      <th>Western_Sahara</th>\n",
              "      <td>766</td>\n",
              "      <td>1</td>\n",
              "    </tr>\n",
              "    <tr>\n",
              "      <th>Yemen</th>\n",
              "      <td>2108</td>\n",
              "      <td>612</td>\n",
              "    </tr>\n",
              "    <tr>\n",
              "      <th>Zambia</th>\n",
              "      <td>28596</td>\n",
              "      <td>471</td>\n",
              "    </tr>\n",
              "    <tr>\n",
              "      <th>Zimbabwe</th>\n",
              "      <td>21477</td>\n",
              "      <td>507</td>\n",
              "    </tr>\n",
              "  </tbody>\n",
              "</table>\n",
              "<p>215 rows × 2 columns</p>\n",
              "</div>"
            ],
            "text/plain": [
              "                          cases  deaths\n",
              "countriesAndTerritories                \n",
              "Afghanistan               53584    2301\n",
              "Albania                   63595    1241\n",
              "Algeria                  102144    2807\n",
              "Andorra                    8682      86\n",
              "Angola                    18193     416\n",
              "...                         ...     ...\n",
              "Wallis_and_Futuna             4       0\n",
              "Western_Sahara              766       1\n",
              "Yemen                      2108     612\n",
              "Zambia                    28596     471\n",
              "Zimbabwe                  21477     507\n",
              "\n",
              "[215 rows x 2 columns]"
            ]
          },
          "metadata": {
            "tags": []
          },
          "execution_count": 157
        }
      ]
    },
    {
      "cell_type": "code",
      "metadata": {
        "id": "LJimgiRXLkvk"
      },
      "source": [
        "gbCountryAndTerr2['death_to_case']=gbCountryAndTerr2['deaths']/gbCountryAndTerr2['cases']"
      ],
      "execution_count": null,
      "outputs": []
    },
    {
      "cell_type": "code",
      "metadata": {
        "colab": {
          "base_uri": "https://localhost:8080/",
          "height": 450
        },
        "id": "kkjEbXLCOGP5",
        "outputId": "32f24157-d38a-4ebf-e481-7ad6e3b1e62f"
      },
      "source": [
        "gbCountryAndTerr2"
      ],
      "execution_count": null,
      "outputs": [
        {
          "output_type": "execute_result",
          "data": {
            "text/html": [
              "<div>\n",
              "<style scoped>\n",
              "    .dataframe tbody tr th:only-of-type {\n",
              "        vertical-align: middle;\n",
              "    }\n",
              "\n",
              "    .dataframe tbody tr th {\n",
              "        vertical-align: top;\n",
              "    }\n",
              "\n",
              "    .dataframe thead th {\n",
              "        text-align: right;\n",
              "    }\n",
              "</style>\n",
              "<table border=\"1\" class=\"dataframe\">\n",
              "  <thead>\n",
              "    <tr style=\"text-align: right;\">\n",
              "      <th></th>\n",
              "      <th>cases</th>\n",
              "      <th>deaths</th>\n",
              "      <th>death_to_case</th>\n",
              "    </tr>\n",
              "    <tr>\n",
              "      <th>countriesAndTerritories</th>\n",
              "      <th></th>\n",
              "      <th></th>\n",
              "      <th></th>\n",
              "    </tr>\n",
              "  </thead>\n",
              "  <tbody>\n",
              "    <tr>\n",
              "      <th>Afghanistan</th>\n",
              "      <td>53584</td>\n",
              "      <td>2301</td>\n",
              "      <td>0.042942</td>\n",
              "    </tr>\n",
              "    <tr>\n",
              "      <th>Albania</th>\n",
              "      <td>63595</td>\n",
              "      <td>1241</td>\n",
              "      <td>0.019514</td>\n",
              "    </tr>\n",
              "    <tr>\n",
              "      <th>Algeria</th>\n",
              "      <td>102144</td>\n",
              "      <td>2807</td>\n",
              "      <td>0.027481</td>\n",
              "    </tr>\n",
              "    <tr>\n",
              "      <th>Andorra</th>\n",
              "      <td>8682</td>\n",
              "      <td>86</td>\n",
              "      <td>0.009906</td>\n",
              "    </tr>\n",
              "    <tr>\n",
              "      <th>Angola</th>\n",
              "      <td>18193</td>\n",
              "      <td>416</td>\n",
              "      <td>0.022866</td>\n",
              "    </tr>\n",
              "    <tr>\n",
              "      <th>...</th>\n",
              "      <td>...</td>\n",
              "      <td>...</td>\n",
              "      <td>...</td>\n",
              "    </tr>\n",
              "    <tr>\n",
              "      <th>Wallis_and_Futuna</th>\n",
              "      <td>4</td>\n",
              "      <td>0</td>\n",
              "      <td>0.000000</td>\n",
              "    </tr>\n",
              "    <tr>\n",
              "      <th>Western_Sahara</th>\n",
              "      <td>766</td>\n",
              "      <td>1</td>\n",
              "      <td>0.001305</td>\n",
              "    </tr>\n",
              "    <tr>\n",
              "      <th>Yemen</th>\n",
              "      <td>2108</td>\n",
              "      <td>612</td>\n",
              "      <td>0.290323</td>\n",
              "    </tr>\n",
              "    <tr>\n",
              "      <th>Zambia</th>\n",
              "      <td>28596</td>\n",
              "      <td>471</td>\n",
              "      <td>0.016471</td>\n",
              "    </tr>\n",
              "    <tr>\n",
              "      <th>Zimbabwe</th>\n",
              "      <td>21477</td>\n",
              "      <td>507</td>\n",
              "      <td>0.023607</td>\n",
              "    </tr>\n",
              "  </tbody>\n",
              "</table>\n",
              "<p>215 rows × 3 columns</p>\n",
              "</div>"
            ],
            "text/plain": [
              "                          cases  deaths  death_to_case\n",
              "countriesAndTerritories                               \n",
              "Afghanistan               53584    2301       0.042942\n",
              "Albania                   63595    1241       0.019514\n",
              "Algeria                  102144    2807       0.027481\n",
              "Andorra                    8682      86       0.009906\n",
              "Angola                    18193     416       0.022866\n",
              "...                         ...     ...            ...\n",
              "Wallis_and_Futuna             4       0       0.000000\n",
              "Western_Sahara              766       1       0.001305\n",
              "Yemen                      2108     612       0.290323\n",
              "Zambia                    28596     471       0.016471\n",
              "Zimbabwe                  21477     507       0.023607\n",
              "\n",
              "[215 rows x 3 columns]"
            ]
          },
          "metadata": {
            "tags": []
          },
          "execution_count": 159
        }
      ]
    },
    {
      "cell_type": "markdown",
      "metadata": {
        "id": "IYYmLqdDE9U3"
      },
      "source": [
        "*Sort from highest death to case ratio to lowest*"
      ]
    },
    {
      "cell_type": "code",
      "metadata": {
        "colab": {
          "base_uri": "https://localhost:8080/",
          "height": 390
        },
        "id": "Y0gryCg4OUQ6",
        "outputId": "d2c93547-3290-4286-91e1-7f0001d87ab1"
      },
      "source": [
        "gbCountryAndTerr2 = gbCountryAndTerr2.sort_values(by=[\"death_to_case\"], ascending=False)\n",
        "gbCountryAndTerr2.head(10)"
      ],
      "execution_count": null,
      "outputs": [
        {
          "output_type": "execute_result",
          "data": {
            "text/html": [
              "<div>\n",
              "<style scoped>\n",
              "    .dataframe tbody tr th:only-of-type {\n",
              "        vertical-align: middle;\n",
              "    }\n",
              "\n",
              "    .dataframe tbody tr th {\n",
              "        vertical-align: top;\n",
              "    }\n",
              "\n",
              "    .dataframe thead th {\n",
              "        text-align: right;\n",
              "    }\n",
              "</style>\n",
              "<table border=\"1\" class=\"dataframe\">\n",
              "  <thead>\n",
              "    <tr style=\"text-align: right;\">\n",
              "      <th></th>\n",
              "      <th>cases</th>\n",
              "      <th>deaths</th>\n",
              "      <th>death_to_case</th>\n",
              "    </tr>\n",
              "    <tr>\n",
              "      <th>countriesAndTerritories</th>\n",
              "      <th></th>\n",
              "      <th></th>\n",
              "      <th></th>\n",
              "    </tr>\n",
              "  </thead>\n",
              "  <tbody>\n",
              "    <tr>\n",
              "      <th>Yemen</th>\n",
              "      <td>2108</td>\n",
              "      <td>612</td>\n",
              "      <td>0.290323</td>\n",
              "    </tr>\n",
              "    <tr>\n",
              "      <th>Mexico</th>\n",
              "      <td>1541633</td>\n",
              "      <td>134368</td>\n",
              "      <td>0.087160</td>\n",
              "    </tr>\n",
              "    <tr>\n",
              "      <th>Montserrat</th>\n",
              "      <td>13</td>\n",
              "      <td>1</td>\n",
              "      <td>0.076923</td>\n",
              "    </tr>\n",
              "    <tr>\n",
              "      <th>Isle_of_Man</th>\n",
              "      <td>396</td>\n",
              "      <td>25</td>\n",
              "      <td>0.063131</td>\n",
              "    </tr>\n",
              "    <tr>\n",
              "      <th>Sudan</th>\n",
              "      <td>23316</td>\n",
              "      <td>1468</td>\n",
              "      <td>0.062961</td>\n",
              "    </tr>\n",
              "    <tr>\n",
              "      <th>Syria</th>\n",
              "      <td>12364</td>\n",
              "      <td>774</td>\n",
              "      <td>0.062601</td>\n",
              "    </tr>\n",
              "    <tr>\n",
              "      <th>Egypt</th>\n",
              "      <td>149792</td>\n",
              "      <td>8197</td>\n",
              "      <td>0.054723</td>\n",
              "    </tr>\n",
              "    <tr>\n",
              "      <th>Bolivia</th>\n",
              "      <td>173896</td>\n",
              "      <td>9376</td>\n",
              "      <td>0.053917</td>\n",
              "    </tr>\n",
              "    <tr>\n",
              "      <th>China</th>\n",
              "      <td>96824</td>\n",
              "      <td>4787</td>\n",
              "      <td>0.049440</td>\n",
              "    </tr>\n",
              "    <tr>\n",
              "      <th>Liberia</th>\n",
              "      <td>1800</td>\n",
              "      <td>83</td>\n",
              "      <td>0.046111</td>\n",
              "    </tr>\n",
              "  </tbody>\n",
              "</table>\n",
              "</div>"
            ],
            "text/plain": [
              "                           cases  deaths  death_to_case\n",
              "countriesAndTerritories                                \n",
              "Yemen                       2108     612       0.290323\n",
              "Mexico                   1541633  134368       0.087160\n",
              "Montserrat                    13       1       0.076923\n",
              "Isle_of_Man                  396      25       0.063131\n",
              "Sudan                      23316    1468       0.062961\n",
              "Syria                      12364     774       0.062601\n",
              "Egypt                     149792    8197       0.054723\n",
              "Bolivia                   173896    9376       0.053917\n",
              "China                      96824    4787       0.049440\n",
              "Liberia                     1800      83       0.046111"
            ]
          },
          "metadata": {
            "tags": []
          },
          "execution_count": 160
        }
      ]
    },
    {
      "cell_type": "code",
      "metadata": {
        "id": "N1dFeAfbOmZy"
      },
      "source": [
        "gbCountryAndTerr2['C_and_T'] = gbCountryAndTerr2.index"
      ],
      "execution_count": null,
      "outputs": []
    },
    {
      "cell_type": "code",
      "metadata": {
        "id": "eg6UGMrRRLRU"
      },
      "source": [
        "gbCountryAndTerr3=gbCountryAndTerr2.head()\n"
      ],
      "execution_count": null,
      "outputs": []
    },
    {
      "cell_type": "markdown",
      "metadata": {
        "id": "mePA-BqAFKqn"
      },
      "source": [
        "Barplot of five highest death to case ratio countries compared"
      ]
    },
    {
      "cell_type": "code",
      "metadata": {
        "colab": {
          "base_uri": "https://localhost:8080/",
          "height": 299
        },
        "id": "NJy3ZstePGBo",
        "outputId": "183c3b8b-e00a-4686-95d0-b595107e908c"
      },
      "source": [
        "gbCountryAndTerr3.plot.bar(x='C_and_T', y='death_to_case', rot=0)"
      ],
      "execution_count": null,
      "outputs": [
        {
          "output_type": "execute_result",
          "data": {
            "text/plain": [
              "<matplotlib.axes._subplots.AxesSubplot at 0x7fde9a682438>"
            ]
          },
          "metadata": {
            "tags": []
          },
          "execution_count": 163
        },
        {
          "output_type": "display_data",
          "data": {
            "image/png": "[encoded data removed]",
            "text/plain": [
              "<Figure size 432x288 with 1 Axes>"
            ]
          },
          "metadata": {
            "tags": [],
            "needs_background": "light"
          }
        }
      ]
    },
    {
      "cell_type": "code",
      "metadata": {
        "id": "C1l4sVv2P1Zs"
      },
      "source": [
        "gbCountryAndTerr5=gbCountryAndTerr2.sort_values(by=[\"cases\"], ascending=False)"
      ],
      "execution_count": null,
      "outputs": []
    },
    {
      "cell_type": "markdown",
      "metadata": {
        "id": "OjNtdNYeFd78"
      },
      "source": [
        "*Plot of countries with 5 highest cases and the amount of their deaths in proportion. US is leading by a longshot!*"
      ]
    },
    {
      "cell_type": "code",
      "metadata": {
        "colab": {
          "base_uri": "https://localhost:8080/",
          "height": 309
        },
        "id": "gq4OOI55RiW6",
        "outputId": "df395d1a-4d77-435a-96b3-3fa7ee350585"
      },
      "source": [
        "gbCountryAndTerr5.head().plot.bar(x='C_and_T', y=['cases','deaths'], rot=0)"
      ],
      "execution_count": null,
      "outputs": [
        {
          "output_type": "execute_result",
          "data": {
            "text/plain": [
              "<matplotlib.axes._subplots.AxesSubplot at 0x7fde9a682cf8>"
            ]
          },
          "metadata": {
            "tags": []
          },
          "execution_count": 165
        },
        {
          "output_type": "display_data",
          "data": {
            "image/png": "[encoded data removed]",
            "text/plain": [
              "<Figure size 432x288 with 1 Axes>"
            ]
          },
          "metadata": {
            "tags": [],
            "needs_background": "light"
          }
        }
      ]
    },
    {
      "cell_type": "code",
      "metadata": {
        "id": "iqnzzTFCUGU7"
      },
      "source": [
        "ctcd= current_df[['countriesAndTerritories','cases_weekly', 'deaths_weekly']].copy()"
      ],
      "execution_count": null,
      "outputs": []
    },
    {
      "cell_type": "code",
      "metadata": {
        "colab": {
          "base_uri": "https://localhost:8080/",
          "height": 450
        },
        "id": "05Q9paeak5RM",
        "outputId": "dd3f68bb-a3a4-4421-eca5-694a213fbbe2"
      },
      "source": [
        "ctcd2=ctcd.groupby(['countriesAndTerritories']).sum()\n",
        "ctcd2.columns=['cases', 'deaths']\n",
        "ctcd2"
      ],
      "execution_count": null,
      "outputs": [
        {
          "output_type": "execute_result",
          "data": {
            "text/html": [
              "<div>\n",
              "<style scoped>\n",
              "    .dataframe tbody tr th:only-of-type {\n",
              "        vertical-align: middle;\n",
              "    }\n",
              "\n",
              "    .dataframe tbody tr th {\n",
              "        vertical-align: top;\n",
              "    }\n",
              "\n",
              "    .dataframe thead th {\n",
              "        text-align: right;\n",
              "    }\n",
              "</style>\n",
              "<table border=\"1\" class=\"dataframe\">\n",
              "  <thead>\n",
              "    <tr style=\"text-align: right;\">\n",
              "      <th></th>\n",
              "      <th>cases</th>\n",
              "      <th>deaths</th>\n",
              "    </tr>\n",
              "    <tr>\n",
              "      <th>countriesAndTerritories</th>\n",
              "      <th></th>\n",
              "      <th></th>\n",
              "    </tr>\n",
              "  </thead>\n",
              "  <tbody>\n",
              "    <tr>\n",
              "      <th>Afghanistan</th>\n",
              "      <td>53584</td>\n",
              "      <td>2301</td>\n",
              "    </tr>\n",
              "    <tr>\n",
              "      <th>Albania</th>\n",
              "      <td>63595</td>\n",
              "      <td>1241</td>\n",
              "    </tr>\n",
              "    <tr>\n",
              "      <th>Algeria</th>\n",
              "      <td>102144</td>\n",
              "      <td>2807</td>\n",
              "    </tr>\n",
              "    <tr>\n",
              "      <th>Andorra</th>\n",
              "      <td>8682</td>\n",
              "      <td>86</td>\n",
              "    </tr>\n",
              "    <tr>\n",
              "      <th>Angola</th>\n",
              "      <td>18193</td>\n",
              "      <td>416</td>\n",
              "    </tr>\n",
              "    <tr>\n",
              "      <th>...</th>\n",
              "      <td>...</td>\n",
              "      <td>...</td>\n",
              "    </tr>\n",
              "    <tr>\n",
              "      <th>Wallis_and_Futuna</th>\n",
              "      <td>4</td>\n",
              "      <td>0</td>\n",
              "    </tr>\n",
              "    <tr>\n",
              "      <th>Western_Sahara</th>\n",
              "      <td>766</td>\n",
              "      <td>1</td>\n",
              "    </tr>\n",
              "    <tr>\n",
              "      <th>Yemen</th>\n",
              "      <td>2108</td>\n",
              "      <td>612</td>\n",
              "    </tr>\n",
              "    <tr>\n",
              "      <th>Zambia</th>\n",
              "      <td>28596</td>\n",
              "      <td>471</td>\n",
              "    </tr>\n",
              "    <tr>\n",
              "      <th>Zimbabwe</th>\n",
              "      <td>21477</td>\n",
              "      <td>507</td>\n",
              "    </tr>\n",
              "  </tbody>\n",
              "</table>\n",
              "<p>215 rows × 2 columns</p>\n",
              "</div>"
            ],
            "text/plain": [
              "                          cases  deaths\n",
              "countriesAndTerritories                \n",
              "Afghanistan               53584    2301\n",
              "Albania                   63595    1241\n",
              "Algeria                  102144    2807\n",
              "Andorra                    8682      86\n",
              "Angola                    18193     416\n",
              "...                         ...     ...\n",
              "Wallis_and_Futuna             4       0\n",
              "Western_Sahara              766       1\n",
              "Yemen                      2108     612\n",
              "Zambia                    28596     471\n",
              "Zimbabwe                  21477     507\n",
              "\n",
              "[215 rows x 2 columns]"
            ]
          },
          "metadata": {
            "tags": []
          },
          "execution_count": 167
        }
      ]
    },
    {
      "cell_type": "code",
      "metadata": {
        "id": "ZQfklmnGXrsY"
      },
      "source": [
        "pop=current_df[['countriesAndTerritories','popData2019']].copy()"
      ],
      "execution_count": null,
      "outputs": []
    },
    {
      "cell_type": "code",
      "metadata": {
        "colab": {
          "base_uri": "https://localhost:8080/",
          "height": 450
        },
        "id": "w7qzYt1IbLQ6",
        "outputId": "849dadc9-d03a-494f-9335-aa71922e0f96"
      },
      "source": [
        "pop2=pop.groupby(['countriesAndTerritories']).mean()\n",
        "pop2"
      ],
      "execution_count": null,
      "outputs": [
        {
          "output_type": "execute_result",
          "data": {
            "text/html": [
              "<div>\n",
              "<style scoped>\n",
              "    .dataframe tbody tr th:only-of-type {\n",
              "        vertical-align: middle;\n",
              "    }\n",
              "\n",
              "    .dataframe tbody tr th {\n",
              "        vertical-align: top;\n",
              "    }\n",
              "\n",
              "    .dataframe thead th {\n",
              "        text-align: right;\n",
              "    }\n",
              "</style>\n",
              "<table border=\"1\" class=\"dataframe\">\n",
              "  <thead>\n",
              "    <tr style=\"text-align: right;\">\n",
              "      <th></th>\n",
              "      <th>popData2019</th>\n",
              "    </tr>\n",
              "    <tr>\n",
              "      <th>countriesAndTerritories</th>\n",
              "      <th></th>\n",
              "    </tr>\n",
              "  </thead>\n",
              "  <tbody>\n",
              "    <tr>\n",
              "      <th>Afghanistan</th>\n",
              "      <td>38041757.0</td>\n",
              "    </tr>\n",
              "    <tr>\n",
              "      <th>Albania</th>\n",
              "      <td>2862427.0</td>\n",
              "    </tr>\n",
              "    <tr>\n",
              "      <th>Algeria</th>\n",
              "      <td>43053054.0</td>\n",
              "    </tr>\n",
              "    <tr>\n",
              "      <th>Andorra</th>\n",
              "      <td>76177.0</td>\n",
              "    </tr>\n",
              "    <tr>\n",
              "      <th>Angola</th>\n",
              "      <td>31825299.0</td>\n",
              "    </tr>\n",
              "    <tr>\n",
              "      <th>...</th>\n",
              "      <td>...</td>\n",
              "    </tr>\n",
              "    <tr>\n",
              "      <th>Wallis_and_Futuna</th>\n",
              "      <td>NaN</td>\n",
              "    </tr>\n",
              "    <tr>\n",
              "      <th>Western_Sahara</th>\n",
              "      <td>582458.0</td>\n",
              "    </tr>\n",
              "    <tr>\n",
              "      <th>Yemen</th>\n",
              "      <td>29161922.0</td>\n",
              "    </tr>\n",
              "    <tr>\n",
              "      <th>Zambia</th>\n",
              "      <td>17861034.0</td>\n",
              "    </tr>\n",
              "    <tr>\n",
              "      <th>Zimbabwe</th>\n",
              "      <td>14645473.0</td>\n",
              "    </tr>\n",
              "  </tbody>\n",
              "</table>\n",
              "<p>215 rows × 1 columns</p>\n",
              "</div>"
            ],
            "text/plain": [
              "                         popData2019\n",
              "countriesAndTerritories             \n",
              "Afghanistan               38041757.0\n",
              "Albania                    2862427.0\n",
              "Algeria                   43053054.0\n",
              "Andorra                      76177.0\n",
              "Angola                    31825299.0\n",
              "...                              ...\n",
              "Wallis_and_Futuna                NaN\n",
              "Western_Sahara              582458.0\n",
              "Yemen                     29161922.0\n",
              "Zambia                    17861034.0\n",
              "Zimbabwe                  14645473.0\n",
              "\n",
              "[215 rows x 1 columns]"
            ]
          },
          "metadata": {
            "tags": []
          },
          "execution_count": 169
        }
      ]
    },
    {
      "cell_type": "code",
      "metadata": {
        "id": "uTOVAYaobXLe"
      },
      "source": [
        "countryData=pd.merge(ctcd2, pop2, left_index=True, right_index=True)"
      ],
      "execution_count": null,
      "outputs": []
    },
    {
      "cell_type": "markdown",
      "metadata": {
        "id": "UG9SDk8FGJyE"
      },
      "source": [
        "*Adding features of cases per million and deaths per million*"
      ]
    },
    {
      "cell_type": "code",
      "metadata": {
        "id": "UmaYxjqqiVwN"
      },
      "source": [
        "countryData[\"casesPerMill\"]=countryData['cases']/(countryData['popData2019']/1000000)"
      ],
      "execution_count": null,
      "outputs": []
    },
    {
      "cell_type": "code",
      "metadata": {
        "id": "56u2HoY3iciU"
      },
      "source": [
        "countryData[\"deathsPerMill\"]=countryData['deaths']/(countryData['popData2019']/1000000)"
      ],
      "execution_count": null,
      "outputs": []
    },
    {
      "cell_type": "code",
      "metadata": {
        "colab": {
          "base_uri": "https://localhost:8080/",
          "height": 450
        },
        "id": "fYvE8WOibZ7a",
        "outputId": "644de058-fb5b-4d55-8bb1-66f294e48e37"
      },
      "source": [
        "countryData"
      ],
      "execution_count": null,
      "outputs": [
        {
          "output_type": "execute_result",
          "data": {
            "text/html": [
              "<div>\n",
              "<style scoped>\n",
              "    .dataframe tbody tr th:only-of-type {\n",
              "        vertical-align: middle;\n",
              "    }\n",
              "\n",
              "    .dataframe tbody tr th {\n",
              "        vertical-align: top;\n",
              "    }\n",
              "\n",
              "    .dataframe thead th {\n",
              "        text-align: right;\n",
              "    }\n",
              "</style>\n",
              "<table border=\"1\" class=\"dataframe\">\n",
              "  <thead>\n",
              "    <tr style=\"text-align: right;\">\n",
              "      <th></th>\n",
              "      <th>cases</th>\n",
              "      <th>deaths</th>\n",
              "      <th>popData2019</th>\n",
              "      <th>casesPerMill</th>\n",
              "      <th>deathsPerMill</th>\n",
              "    </tr>\n",
              "    <tr>\n",
              "      <th>countriesAndTerritories</th>\n",
              "      <th></th>\n",
              "      <th></th>\n",
              "      <th></th>\n",
              "      <th></th>\n",
              "      <th></th>\n",
              "    </tr>\n",
              "  </thead>\n",
              "  <tbody>\n",
              "    <tr>\n",
              "      <th>Afghanistan</th>\n",
              "      <td>53584</td>\n",
              "      <td>2301</td>\n",
              "      <td>38041757.0</td>\n",
              "      <td>1408.557444</td>\n",
              "      <td>60.486165</td>\n",
              "    </tr>\n",
              "    <tr>\n",
              "      <th>Albania</th>\n",
              "      <td>63595</td>\n",
              "      <td>1241</td>\n",
              "      <td>2862427.0</td>\n",
              "      <td>22217.160473</td>\n",
              "      <td>433.548174</td>\n",
              "    </tr>\n",
              "    <tr>\n",
              "      <th>Algeria</th>\n",
              "      <td>102144</td>\n",
              "      <td>2807</td>\n",
              "      <td>43053054.0</td>\n",
              "      <td>2372.514619</td>\n",
              "      <td>65.198627</td>\n",
              "    </tr>\n",
              "    <tr>\n",
              "      <th>Andorra</th>\n",
              "      <td>8682</td>\n",
              "      <td>86</td>\n",
              "      <td>76177.0</td>\n",
              "      <td>113971.408693</td>\n",
              "      <td>1128.949683</td>\n",
              "    </tr>\n",
              "    <tr>\n",
              "      <th>Angola</th>\n",
              "      <td>18193</td>\n",
              "      <td>416</td>\n",
              "      <td>31825299.0</td>\n",
              "      <td>571.652131</td>\n",
              "      <td>13.071362</td>\n",
              "    </tr>\n",
              "    <tr>\n",
              "      <th>...</th>\n",
              "      <td>...</td>\n",
              "      <td>...</td>\n",
              "      <td>...</td>\n",
              "      <td>...</td>\n",
              "      <td>...</td>\n",
              "    </tr>\n",
              "    <tr>\n",
              "      <th>Wallis_and_Futuna</th>\n",
              "      <td>4</td>\n",
              "      <td>0</td>\n",
              "      <td>NaN</td>\n",
              "      <td>NaN</td>\n",
              "      <td>NaN</td>\n",
              "    </tr>\n",
              "    <tr>\n",
              "      <th>Western_Sahara</th>\n",
              "      <td>766</td>\n",
              "      <td>1</td>\n",
              "      <td>582458.0</td>\n",
              "      <td>1315.116283</td>\n",
              "      <td>1.716862</td>\n",
              "    </tr>\n",
              "    <tr>\n",
              "      <th>Yemen</th>\n",
              "      <td>2108</td>\n",
              "      <td>612</td>\n",
              "      <td>29161922.0</td>\n",
              "      <td>72.286045</td>\n",
              "      <td>20.986271</td>\n",
              "    </tr>\n",
              "    <tr>\n",
              "      <th>Zambia</th>\n",
              "      <td>28596</td>\n",
              "      <td>471</td>\n",
              "      <td>17861034.0</td>\n",
              "      <td>1601.027130</td>\n",
              "      <td>26.370254</td>\n",
              "    </tr>\n",
              "    <tr>\n",
              "      <th>Zimbabwe</th>\n",
              "      <td>21477</td>\n",
              "      <td>507</td>\n",
              "      <td>14645473.0</td>\n",
              "      <td>1466.459977</td>\n",
              "      <td>34.618206</td>\n",
              "    </tr>\n",
              "  </tbody>\n",
              "</table>\n",
              "<p>215 rows × 5 columns</p>\n",
              "</div>"
            ],
            "text/plain": [
              "                          cases  deaths  ...   casesPerMill  deathsPerMill\n",
              "countriesAndTerritories                  ...                              \n",
              "Afghanistan               53584    2301  ...    1408.557444      60.486165\n",
              "Albania                   63595    1241  ...   22217.160473     433.548174\n",
              "Algeria                  102144    2807  ...    2372.514619      65.198627\n",
              "Andorra                    8682      86  ...  113971.408693    1128.949683\n",
              "Angola                    18193     416  ...     571.652131      13.071362\n",
              "...                         ...     ...  ...            ...            ...\n",
              "Wallis_and_Futuna             4       0  ...            NaN            NaN\n",
              "Western_Sahara              766       1  ...    1315.116283       1.716862\n",
              "Yemen                      2108     612  ...      72.286045      20.986271\n",
              "Zambia                    28596     471  ...    1601.027130      26.370254\n",
              "Zimbabwe                  21477     507  ...    1466.459977      34.618206\n",
              "\n",
              "[215 rows x 5 columns]"
            ]
          },
          "metadata": {
            "tags": []
          },
          "execution_count": 173
        }
      ]
    },
    {
      "cell_type": "code",
      "metadata": {
        "colab": {
          "base_uri": "https://localhost:8080/",
          "height": 235
        },
        "id": "G5fsVD_lUZ-A",
        "outputId": "d3f7c302-6f81-4de7-ff37-d47fd376cd67"
      },
      "source": [
        "countryData.sort_values(by=[\"casesPerMill\"], ascending=False).head()"
      ],
      "execution_count": null,
      "outputs": [
        {
          "output_type": "execute_result",
          "data": {
            "text/html": [
              "<div>\n",
              "<style scoped>\n",
              "    .dataframe tbody tr th:only-of-type {\n",
              "        vertical-align: middle;\n",
              "    }\n",
              "\n",
              "    .dataframe tbody tr th {\n",
              "        vertical-align: top;\n",
              "    }\n",
              "\n",
              "    .dataframe thead th {\n",
              "        text-align: right;\n",
              "    }\n",
              "</style>\n",
              "<table border=\"1\" class=\"dataframe\">\n",
              "  <thead>\n",
              "    <tr style=\"text-align: right;\">\n",
              "      <th></th>\n",
              "      <th>cases</th>\n",
              "      <th>deaths</th>\n",
              "      <th>popData2019</th>\n",
              "      <th>casesPerMill</th>\n",
              "      <th>deathsPerMill</th>\n",
              "    </tr>\n",
              "    <tr>\n",
              "      <th>countriesAndTerritories</th>\n",
              "      <th></th>\n",
              "      <th></th>\n",
              "      <th></th>\n",
              "      <th></th>\n",
              "      <th></th>\n",
              "    </tr>\n",
              "  </thead>\n",
              "  <tbody>\n",
              "    <tr>\n",
              "      <th>Andorra</th>\n",
              "      <td>8682</td>\n",
              "      <td>86</td>\n",
              "      <td>76177.0</td>\n",
              "      <td>113971.408693</td>\n",
              "      <td>1128.949683</td>\n",
              "    </tr>\n",
              "    <tr>\n",
              "      <th>Gibraltar</th>\n",
              "      <td>3170</td>\n",
              "      <td>16</td>\n",
              "      <td>33706.0</td>\n",
              "      <td>94048.537352</td>\n",
              "      <td>474.692933</td>\n",
              "    </tr>\n",
              "    <tr>\n",
              "      <th>Montenegro</th>\n",
              "      <td>52431</td>\n",
              "      <td>725</td>\n",
              "      <td>622182.0</td>\n",
              "      <td>84269.554568</td>\n",
              "      <td>1165.253897</td>\n",
              "    </tr>\n",
              "    <tr>\n",
              "      <th>Luxembourg</th>\n",
              "      <td>49063</td>\n",
              "      <td>533</td>\n",
              "      <td>613894.0</td>\n",
              "      <td>79920.963554</td>\n",
              "      <td>868.228065</td>\n",
              "    </tr>\n",
              "    <tr>\n",
              "      <th>Czechia</th>\n",
              "      <td>835454</td>\n",
              "      <td>13272</td>\n",
              "      <td>10649800.0</td>\n",
              "      <td>78447.858176</td>\n",
              "      <td>1246.220586</td>\n",
              "    </tr>\n",
              "  </tbody>\n",
              "</table>\n",
              "</div>"
            ],
            "text/plain": [
              "                          cases  deaths  ...   casesPerMill  deathsPerMill\n",
              "countriesAndTerritories                  ...                              \n",
              "Andorra                    8682      86  ...  113971.408693    1128.949683\n",
              "Gibraltar                  3170      16  ...   94048.537352     474.692933\n",
              "Montenegro                52431     725  ...   84269.554568    1165.253897\n",
              "Luxembourg                49063     533  ...   79920.963554     868.228065\n",
              "Czechia                  835454   13272  ...   78447.858176    1246.220586\n",
              "\n",
              "[5 rows x 5 columns]"
            ]
          },
          "metadata": {
            "tags": []
          },
          "execution_count": 174
        }
      ]
    },
    {
      "cell_type": "code",
      "metadata": {
        "colab": {
          "base_uri": "https://localhost:8080/",
          "height": 235
        },
        "id": "jEbn1Kh3Uovk",
        "outputId": "0987c847-b8c9-40f9-a0b5-33fa980a7043"
      },
      "source": [
        "countryData.sort_values(by=[\"deathsPerMill\"], ascending=False).head()"
      ],
      "execution_count": null,
      "outputs": [
        {
          "output_type": "execute_result",
          "data": {
            "text/html": [
              "<div>\n",
              "<style scoped>\n",
              "    .dataframe tbody tr th:only-of-type {\n",
              "        vertical-align: middle;\n",
              "    }\n",
              "\n",
              "    .dataframe tbody tr th {\n",
              "        vertical-align: top;\n",
              "    }\n",
              "\n",
              "    .dataframe thead th {\n",
              "        text-align: right;\n",
              "    }\n",
              "</style>\n",
              "<table border=\"1\" class=\"dataframe\">\n",
              "  <thead>\n",
              "    <tr style=\"text-align: right;\">\n",
              "      <th></th>\n",
              "      <th>cases</th>\n",
              "      <th>deaths</th>\n",
              "      <th>popData2019</th>\n",
              "      <th>casesPerMill</th>\n",
              "      <th>deathsPerMill</th>\n",
              "    </tr>\n",
              "    <tr>\n",
              "      <th>countriesAndTerritories</th>\n",
              "      <th></th>\n",
              "      <th></th>\n",
              "      <th></th>\n",
              "      <th></th>\n",
              "      <th></th>\n",
              "    </tr>\n",
              "  </thead>\n",
              "  <tbody>\n",
              "    <tr>\n",
              "      <th>San_Marino</th>\n",
              "      <td>2667</td>\n",
              "      <td>64</td>\n",
              "      <td>34453.0</td>\n",
              "      <td>77409.804661</td>\n",
              "      <td>1857.603111</td>\n",
              "    </tr>\n",
              "    <tr>\n",
              "      <th>Belgium</th>\n",
              "      <td>665984</td>\n",
              "      <td>20142</td>\n",
              "      <td>11455519.0</td>\n",
              "      <td>58136.519175</td>\n",
              "      <td>1758.279132</td>\n",
              "    </tr>\n",
              "    <tr>\n",
              "      <th>Slovenia</th>\n",
              "      <td>139713</td>\n",
              "      <td>3147</td>\n",
              "      <td>2080908.0</td>\n",
              "      <td>67140.402171</td>\n",
              "      <td>1512.320583</td>\n",
              "    </tr>\n",
              "    <tr>\n",
              "      <th>Bosnia_and_Herzegovina</th>\n",
              "      <td>115758</td>\n",
              "      <td>4358</td>\n",
              "      <td>3300998.0</td>\n",
              "      <td>35067.576533</td>\n",
              "      <td>1320.206798</td>\n",
              "    </tr>\n",
              "    <tr>\n",
              "      <th>Italy</th>\n",
              "      <td>2276491</td>\n",
              "      <td>78755</td>\n",
              "      <td>60359546.0</td>\n",
              "      <td>37715.508993</td>\n",
              "      <td>1304.764618</td>\n",
              "    </tr>\n",
              "  </tbody>\n",
              "</table>\n",
              "</div>"
            ],
            "text/plain": [
              "                           cases  deaths  ...  casesPerMill  deathsPerMill\n",
              "countriesAndTerritories                   ...                             \n",
              "San_Marino                  2667      64  ...  77409.804661    1857.603111\n",
              "Belgium                   665984   20142  ...  58136.519175    1758.279132\n",
              "Slovenia                  139713    3147  ...  67140.402171    1512.320583\n",
              "Bosnia_and_Herzegovina    115758    4358  ...  35067.576533    1320.206798\n",
              "Italy                    2276491   78755  ...  37715.508993    1304.764618\n",
              "\n",
              "[5 rows x 5 columns]"
            ]
          },
          "metadata": {
            "tags": []
          },
          "execution_count": 175
        }
      ]
    },
    {
      "cell_type": "code",
      "metadata": {
        "id": "RD5Ukhatcysn"
      },
      "source": [
        "x=df[['cases_weekly', 'deaths_weekly']].copy().groupby('dateRep').sum()\n"
      ],
      "execution_count": null,
      "outputs": []
    },
    {
      "cell_type": "code",
      "metadata": {
        "colab": {
          "base_uri": "https://localhost:8080/"
        },
        "id": "EgQ5Hc6ExCcm",
        "outputId": "d7c77b53-f397-47f0-e3c4-1de81cebbe65"
      },
      "source": [
        "df.index.max()"
      ],
      "execution_count": null,
      "outputs": [
        {
          "output_type": "execute_result",
          "data": {
            "text/plain": [
              "Timestamp('2021-01-11 00:00:00')"
            ]
          },
          "metadata": {
            "tags": []
          },
          "execution_count": 177
        }
      ]
    },
    {
      "cell_type": "markdown",
      "metadata": {
        "id": "kZZJ4xfgGxTU"
      },
      "source": [
        "*Plot of cases and deaths by time.*"
      ]
    },
    {
      "cell_type": "code",
      "metadata": {
        "colab": {
          "base_uri": "https://localhost:8080/",
          "height": 626
        },
        "id": "-GEbTpa8imgD",
        "outputId": "730f9ad3-34dd-4192-ec85-336be3c81a29"
      },
      "source": [
        "x.plot()\n",
        "x.plot(subplots=True)\n"
      ],
      "execution_count": null,
      "outputs": [
        {
          "output_type": "execute_result",
          "data": {
            "text/plain": [
              "array([<matplotlib.axes._subplots.AxesSubplot object at 0x7fde9a502630>,\n",
              "       <matplotlib.axes._subplots.AxesSubplot object at 0x7fde9a4b8630>],\n",
              "      dtype=object)"
            ]
          },
          "metadata": {
            "tags": []
          },
          "execution_count": 178
        },
        {
          "output_type": "display_data",
          "data": {
            "image/png": "[encoded data removed]",
            "text/plain": [
              "<Figure size 432x288 with 1 Axes>"
            ]
          },
          "metadata": {
            "tags": [],
            "needs_background": "light"
          }
        },
        {
          "output_type": "display_data",
          "data": {
            "image/png": "[encoded data removed]",
            "text/plain": [
              "<Figure size 432x288 with 2 Axes>"
            ]
          },
          "metadata": {
            "tags": [],
            "needs_background": "light"
          }
        }
      ]
    },
    {
      "cell_type": "code",
      "metadata": {
        "colab": {
          "base_uri": "https://localhost:8080/",
          "height": 308
        },
        "id": "_57aKBn7i9KG",
        "outputId": "0e7681ee-8943-4a41-d6e0-adb67030f478"
      },
      "source": [
        "sns.kdeplot(x[\"deaths_weekly\"], shade=True)\n"
      ],
      "execution_count": null,
      "outputs": [
        {
          "output_type": "execute_result",
          "data": {
            "text/plain": [
              "<matplotlib.axes._subplots.AxesSubplot at 0x7fde9a340e48>"
            ]
          },
          "metadata": {
            "tags": []
          },
          "execution_count": 179
        },
        {
          "output_type": "display_data",
          "data": {
            "image/png": "[encoded data removed]",
            "text/plain": [
              "<Figure size 432x288 with 1 Axes>"
            ]
          },
          "metadata": {
            "tags": [],
            "needs_background": "light"
          }
        }
      ]
    },
    {
      "cell_type": "code",
      "metadata": {
        "colab": {
          "base_uri": "https://localhost:8080/",
          "height": 308
        },
        "id": "-i3ZTE6oxhnP",
        "outputId": "eaab82ad-63cf-40a3-a1e7-1535bc9b2c8f"
      },
      "source": [
        "sns.kdeplot(x[\"cases_weekly\"], shade=True)\n"
      ],
      "execution_count": null,
      "outputs": [
        {
          "output_type": "execute_result",
          "data": {
            "text/plain": [
              "<matplotlib.axes._subplots.AxesSubplot at 0x7fde9a2b23c8>"
            ]
          },
          "metadata": {
            "tags": []
          },
          "execution_count": 180
        },
        {
          "output_type": "display_data",
          "data": {
            "image/png": "[encoded data removed]",
            "text/plain": [
              "<Figure size 432x288 with 1 Axes>"
            ]
          },
          "metadata": {
            "tags": [],
            "needs_background": "light"
          }
        }
      ]
    },
    {
      "cell_type": "markdown",
      "metadata": {
        "id": "i_zc_xu9MZnW"
      },
      "source": [
        "List of top ten countries with highest amount of deaths."
      ]
    },
    {
      "cell_type": "code",
      "metadata": {
        "colab": {
          "base_uri": "https://localhost:8080/"
        },
        "id": "SObfAmOnxuGc",
        "outputId": "e8597c30-31e8-4647-9b8d-8565eb76f04a"
      },
      "source": [
        "countryDataSorted=countryData.sort_values(by=[\"deaths\", \"cases\"], ascending=False)\n",
        "countryDataSorted['countryTerritoryName']=countryDataSorted.index\n",
        "top_ten_countries = list(countryDataSorted[\"countryTerritoryName\"].head(10).values)\n",
        "top_ten_countries"
      ],
      "execution_count": null,
      "outputs": [
        {
          "output_type": "execute_result",
          "data": {
            "text/plain": [
              "['United_States_of_America',\n",
              " 'Brazil',\n",
              " 'India',\n",
              " 'Mexico',\n",
              " 'United_Kingdom',\n",
              " 'Italy',\n",
              " 'France',\n",
              " 'Russia',\n",
              " 'Iran',\n",
              " 'Spain']"
            ]
          },
          "metadata": {
            "tags": []
          },
          "execution_count": 181
        }
      ]
    },
    {
      "cell_type": "code",
      "metadata": {
        "colab": {
          "base_uri": "https://localhost:8080/",
          "height": 450
        },
        "id": "PKZSdzDhywpz",
        "outputId": "dd7207da-40cf-4c4c-c331-408f8fcbc720"
      },
      "source": [
        "countryDataSorted"
      ],
      "execution_count": null,
      "outputs": [
        {
          "output_type": "execute_result",
          "data": {
            "text/html": [
              "<div>\n",
              "<style scoped>\n",
              "    .dataframe tbody tr th:only-of-type {\n",
              "        vertical-align: middle;\n",
              "    }\n",
              "\n",
              "    .dataframe tbody tr th {\n",
              "        vertical-align: top;\n",
              "    }\n",
              "\n",
              "    .dataframe thead th {\n",
              "        text-align: right;\n",
              "    }\n",
              "</style>\n",
              "<table border=\"1\" class=\"dataframe\">\n",
              "  <thead>\n",
              "    <tr style=\"text-align: right;\">\n",
              "      <th></th>\n",
              "      <th>cases</th>\n",
              "      <th>deaths</th>\n",
              "      <th>popData2019</th>\n",
              "      <th>casesPerMill</th>\n",
              "      <th>deathsPerMill</th>\n",
              "      <th>countryTerritoryName</th>\n",
              "    </tr>\n",
              "    <tr>\n",
              "      <th>countriesAndTerritories</th>\n",
              "      <th></th>\n",
              "      <th></th>\n",
              "      <th></th>\n",
              "      <th></th>\n",
              "      <th></th>\n",
              "      <th></th>\n",
              "    </tr>\n",
              "  </thead>\n",
              "  <tbody>\n",
              "    <tr>\n",
              "      <th>United_States_of_America</th>\n",
              "      <td>22423006</td>\n",
              "      <td>374442</td>\n",
              "      <td>3.290649e+08</td>\n",
              "      <td>68141.588002</td>\n",
              "      <td>1137.897055</td>\n",
              "      <td>United_States_of_America</td>\n",
              "    </tr>\n",
              "    <tr>\n",
              "      <th>Brazil</th>\n",
              "      <td>8131612</td>\n",
              "      <td>203580</td>\n",
              "      <td>2.110495e+08</td>\n",
              "      <td>38529.403140</td>\n",
              "      <td>964.607742</td>\n",
              "      <td>Brazil</td>\n",
              "    </tr>\n",
              "    <tr>\n",
              "      <th>India</th>\n",
              "      <td>10466595</td>\n",
              "      <td>151160</td>\n",
              "      <td>1.366418e+09</td>\n",
              "      <td>7659.879238</td>\n",
              "      <td>110.625026</td>\n",
              "      <td>India</td>\n",
              "    </tr>\n",
              "    <tr>\n",
              "      <th>Mexico</th>\n",
              "      <td>1541633</td>\n",
              "      <td>134368</td>\n",
              "      <td>1.275755e+08</td>\n",
              "      <td>12084.080796</td>\n",
              "      <td>1053.242742</td>\n",
              "      <td>Mexico</td>\n",
              "    </tr>\n",
              "    <tr>\n",
              "      <th>United_Kingdom</th>\n",
              "      <td>3072349</td>\n",
              "      <td>81431</td>\n",
              "      <td>6.664711e+07</td>\n",
              "      <td>46098.756687</td>\n",
              "      <td>1221.823385</td>\n",
              "      <td>United_Kingdom</td>\n",
              "    </tr>\n",
              "    <tr>\n",
              "      <th>...</th>\n",
              "      <td>...</td>\n",
              "      <td>...</td>\n",
              "      <td>...</td>\n",
              "      <td>...</td>\n",
              "      <td>...</td>\n",
              "      <td>...</td>\n",
              "    </tr>\n",
              "    <tr>\n",
              "      <th>Anguilla</th>\n",
              "      <td>15</td>\n",
              "      <td>0</td>\n",
              "      <td>1.487200e+04</td>\n",
              "      <td>1008.606778</td>\n",
              "      <td>0.000000</td>\n",
              "      <td>Anguilla</td>\n",
              "    </tr>\n",
              "    <tr>\n",
              "      <th>Marshall_Islands</th>\n",
              "      <td>4</td>\n",
              "      <td>0</td>\n",
              "      <td>5.879100e+04</td>\n",
              "      <td>68.037625</td>\n",
              "      <td>0.000000</td>\n",
              "      <td>Marshall_Islands</td>\n",
              "    </tr>\n",
              "    <tr>\n",
              "      <th>Wallis_and_Futuna</th>\n",
              "      <td>4</td>\n",
              "      <td>0</td>\n",
              "      <td>NaN</td>\n",
              "      <td>NaN</td>\n",
              "      <td>NaN</td>\n",
              "      <td>Wallis_and_Futuna</td>\n",
              "    </tr>\n",
              "    <tr>\n",
              "      <th>Micronesia_(Federated_States_of)</th>\n",
              "      <td>1</td>\n",
              "      <td>0</td>\n",
              "      <td>1.138110e+05</td>\n",
              "      <td>8.786497</td>\n",
              "      <td>0.000000</td>\n",
              "      <td>Micronesia_(Federated_States_of)</td>\n",
              "    </tr>\n",
              "    <tr>\n",
              "      <th>Vanuatu</th>\n",
              "      <td>1</td>\n",
              "      <td>0</td>\n",
              "      <td>2.998820e+05</td>\n",
              "      <td>3.334645</td>\n",
              "      <td>0.000000</td>\n",
              "      <td>Vanuatu</td>\n",
              "    </tr>\n",
              "  </tbody>\n",
              "</table>\n",
              "<p>215 rows × 6 columns</p>\n",
              "</div>"
            ],
            "text/plain": [
              "                                     cases  ...              countryTerritoryName\n",
              "countriesAndTerritories                     ...                                  \n",
              "United_States_of_America          22423006  ...          United_States_of_America\n",
              "Brazil                             8131612  ...                            Brazil\n",
              "India                             10466595  ...                             India\n",
              "Mexico                             1541633  ...                            Mexico\n",
              "United_Kingdom                     3072349  ...                    United_Kingdom\n",
              "...                                    ...  ...                               ...\n",
              "Anguilla                                15  ...                          Anguilla\n",
              "Marshall_Islands                         4  ...                  Marshall_Islands\n",
              "Wallis_and_Futuna                        4  ...                 Wallis_and_Futuna\n",
              "Micronesia_(Federated_States_of)         1  ...  Micronesia_(Federated_States_of)\n",
              "Vanuatu                                  1  ...                           Vanuatu\n",
              "\n",
              "[215 rows x 6 columns]"
            ]
          },
          "metadata": {
            "tags": []
          },
          "execution_count": 182
        }
      ]
    },
    {
      "cell_type": "code",
      "metadata": {
        "id": "oKQUcU9dzFi1"
      },
      "source": [
        "top_countries_df = df[df['countriesAndTerritories'].isin(top_ten_countries)]\n"
      ],
      "execution_count": null,
      "outputs": []
    },
    {
      "cell_type": "code",
      "metadata": {
        "colab": {
          "base_uri": "https://localhost:8080/",
          "height": 657
        },
        "id": "Q0Br-qrQz4kc",
        "outputId": "09edc476-23f6-47b9-fad7-7134b9b3b0a4"
      },
      "source": [
        "top_countries_df"
      ],
      "execution_count": null,
      "outputs": [
        {
          "output_type": "execute_result",
          "data": {
            "text/html": [
              "<div>\n",
              "<style scoped>\n",
              "    .dataframe tbody tr th:only-of-type {\n",
              "        vertical-align: middle;\n",
              "    }\n",
              "\n",
              "    .dataframe tbody tr th {\n",
              "        vertical-align: top;\n",
              "    }\n",
              "\n",
              "    .dataframe thead th {\n",
              "        text-align: right;\n",
              "    }\n",
              "</style>\n",
              "<table border=\"1\" class=\"dataframe\">\n",
              "  <thead>\n",
              "    <tr style=\"text-align: right;\">\n",
              "      <th></th>\n",
              "      <th>year_week</th>\n",
              "      <th>cases_weekly</th>\n",
              "      <th>deaths_weekly</th>\n",
              "      <th>countriesAndTerritories</th>\n",
              "      <th>geoId</th>\n",
              "      <th>countryterritoryCode</th>\n",
              "      <th>popData2019</th>\n",
              "      <th>continentExp</th>\n",
              "      <th>notification_rate_per_100000_population_14-days</th>\n",
              "    </tr>\n",
              "    <tr>\n",
              "      <th>dateRep</th>\n",
              "      <th></th>\n",
              "      <th></th>\n",
              "      <th></th>\n",
              "      <th></th>\n",
              "      <th></th>\n",
              "      <th></th>\n",
              "      <th></th>\n",
              "      <th></th>\n",
              "      <th></th>\n",
              "    </tr>\n",
              "  </thead>\n",
              "  <tbody>\n",
              "    <tr>\n",
              "      <th>2021-01-11</th>\n",
              "      <td>2021-01</td>\n",
              "      <td>397866</td>\n",
              "      <td>7562</td>\n",
              "      <td>Brazil</td>\n",
              "      <td>BR</td>\n",
              "      <td>BRA</td>\n",
              "      <td>211049519.0</td>\n",
              "      <td>America</td>\n",
              "      <td>306.72</td>\n",
              "    </tr>\n",
              "    <tr>\n",
              "      <th>2021-01-04</th>\n",
              "      <td>2020-53</td>\n",
              "      <td>249461</td>\n",
              "      <td>4879</td>\n",
              "      <td>Brazil</td>\n",
              "      <td>BR</td>\n",
              "      <td>BRA</td>\n",
              "      <td>211049519.0</td>\n",
              "      <td>America</td>\n",
              "      <td>222.76</td>\n",
              "    </tr>\n",
              "    <tr>\n",
              "      <th>2020-12-28</th>\n",
              "      <td>2020-52</td>\n",
              "      <td>220666</td>\n",
              "      <td>3848</td>\n",
              "      <td>Brazil</td>\n",
              "      <td>BR</td>\n",
              "      <td>BRA</td>\n",
              "      <td>211049519.0</td>\n",
              "      <td>America</td>\n",
              "      <td>275.92</td>\n",
              "    </tr>\n",
              "    <tr>\n",
              "      <th>2020-12-21</th>\n",
              "      <td>2020-51</td>\n",
              "      <td>361667</td>\n",
              "      <td>5889</td>\n",
              "      <td>Brazil</td>\n",
              "      <td>BR</td>\n",
              "      <td>BRA</td>\n",
              "      <td>211049519.0</td>\n",
              "      <td>America</td>\n",
              "      <td>312.76</td>\n",
              "    </tr>\n",
              "    <tr>\n",
              "      <th>2020-12-14</th>\n",
              "      <td>2020-50</td>\n",
              "      <td>298412</td>\n",
              "      <td>4461</td>\n",
              "      <td>Brazil</td>\n",
              "      <td>BR</td>\n",
              "      <td>BRA</td>\n",
              "      <td>211049519.0</td>\n",
              "      <td>America</td>\n",
              "      <td>278.23</td>\n",
              "    </tr>\n",
              "    <tr>\n",
              "      <th>...</th>\n",
              "      <td>...</td>\n",
              "      <td>...</td>\n",
              "      <td>...</td>\n",
              "      <td>...</td>\n",
              "      <td>...</td>\n",
              "      <td>...</td>\n",
              "      <td>...</td>\n",
              "      <td>...</td>\n",
              "      <td>...</td>\n",
              "    </tr>\n",
              "    <tr>\n",
              "      <th>2020-02-03</th>\n",
              "      <td>2020-05</td>\n",
              "      <td>6</td>\n",
              "      <td>0</td>\n",
              "      <td>United_States_of_America</td>\n",
              "      <td>US</td>\n",
              "      <td>USA</td>\n",
              "      <td>329064917.0</td>\n",
              "      <td>America</td>\n",
              "      <td>0.00</td>\n",
              "    </tr>\n",
              "    <tr>\n",
              "      <th>2020-01-27</th>\n",
              "      <td>2020-04</td>\n",
              "      <td>5</td>\n",
              "      <td>0</td>\n",
              "      <td>United_States_of_America</td>\n",
              "      <td>US</td>\n",
              "      <td>USA</td>\n",
              "      <td>329064917.0</td>\n",
              "      <td>America</td>\n",
              "      <td>0.00</td>\n",
              "    </tr>\n",
              "    <tr>\n",
              "      <th>2020-01-20</th>\n",
              "      <td>2020-03</td>\n",
              "      <td>0</td>\n",
              "      <td>0</td>\n",
              "      <td>United_States_of_America</td>\n",
              "      <td>US</td>\n",
              "      <td>USA</td>\n",
              "      <td>329064917.0</td>\n",
              "      <td>America</td>\n",
              "      <td>0.00</td>\n",
              "    </tr>\n",
              "    <tr>\n",
              "      <th>2020-01-13</th>\n",
              "      <td>2020-02</td>\n",
              "      <td>0</td>\n",
              "      <td>0</td>\n",
              "      <td>United_States_of_America</td>\n",
              "      <td>US</td>\n",
              "      <td>USA</td>\n",
              "      <td>329064917.0</td>\n",
              "      <td>America</td>\n",
              "      <td>0.00</td>\n",
              "    </tr>\n",
              "    <tr>\n",
              "      <th>2020-01-06</th>\n",
              "      <td>2020-01</td>\n",
              "      <td>0</td>\n",
              "      <td>0</td>\n",
              "      <td>United_States_of_America</td>\n",
              "      <td>US</td>\n",
              "      <td>USA</td>\n",
              "      <td>329064917.0</td>\n",
              "      <td>America</td>\n",
              "      <td>NaN</td>\n",
              "    </tr>\n",
              "  </tbody>\n",
              "</table>\n",
              "<p>539 rows × 9 columns</p>\n",
              "</div>"
            ],
            "text/plain": [
              "           year_week  ...  notification_rate_per_100000_population_14-days\n",
              "dateRep               ...                                                 \n",
              "2021-01-11   2021-01  ...                                           306.72\n",
              "2021-01-04   2020-53  ...                                           222.76\n",
              "2020-12-28   2020-52  ...                                           275.92\n",
              "2020-12-21   2020-51  ...                                           312.76\n",
              "2020-12-14   2020-50  ...                                           278.23\n",
              "...              ...  ...                                              ...\n",
              "2020-02-03   2020-05  ...                                             0.00\n",
              "2020-01-27   2020-04  ...                                             0.00\n",
              "2020-01-20   2020-03  ...                                             0.00\n",
              "2020-01-13   2020-02  ...                                             0.00\n",
              "2020-01-06   2020-01  ...                                              NaN\n",
              "\n",
              "[539 rows x 9 columns]"
            ]
          },
          "metadata": {
            "tags": []
          },
          "execution_count": 184
        }
      ]
    },
    {
      "cell_type": "markdown",
      "metadata": {
        "id": "REnvub2EM2vT"
      },
      "source": [
        "*Graphs of top ten countries' cases compared to deaths per week.*"
      ]
    },
    {
      "cell_type": "code",
      "metadata": {
        "colab": {
          "base_uri": "https://localhost:8080/",
          "height": 432
        },
        "id": "hfqbSmU_z9tc",
        "outputId": "548c1f07-231a-44b4-d792-02a05fe3b54c"
      },
      "source": [
        "import matplotlib.pyplot as plt\n",
        "\n",
        "plt.figure(figsize=(15,5))\n",
        "ax = sns.lmplot(x=\"cases_weekly\", y=\"deaths_weekly\",\n",
        "                    height=3.5,\n",
        "                    col=\"countriesAndTerritories\",\n",
        "                    col_wrap=5,\n",
        "                    hue=\"countriesAndTerritories\", \n",
        "                    palette=\"Set2\",\n",
        "                    data=top_countries_df)\n",
        "ax.fig.subplots_adjust(wspace=.2)"
      ],
      "execution_count": null,
      "outputs": [
        {
          "output_type": "display_data",
          "data": {
            "text/plain": [
              "<Figure size 1080x360 with 0 Axes>"
            ]
          },
          "metadata": {
            "tags": []
          }
        },
        {
          "output_type": "display_data",
          "data": {
            "image/png": "[encoded data removed]",
            "text/plain": [
              "<Figure size 1260x504 with 10 Axes>"
            ]
          },
          "metadata": {
            "tags": [],
            "needs_background": "light"
          }
        }
      ]
    },
    {
      "cell_type": "markdown",
      "metadata": {
        "id": "5VIJSB0INFmx"
      },
      "source": [
        "*Setting up cases_weekly data for minmax scaling*"
      ]
    },
    {
      "cell_type": "code",
      "metadata": {
        "id": "D9UKbHJM0QpU"
      },
      "source": [
        "minmaxdata=df[['cases_weekly']].copy()"
      ],
      "execution_count": null,
      "outputs": []
    },
    {
      "cell_type": "code",
      "metadata": {
        "colab": {
          "base_uri": "https://localhost:8080/"
        },
        "id": "k8WUCeQ0G1tc",
        "outputId": "834cca3d-917e-4e0f-c393-e79ea6dafe1c"
      },
      "source": [
        "minmaxdata['cases_weekly']"
      ],
      "execution_count": null,
      "outputs": [
        {
          "output_type": "execute_result",
          "data": {
            "text/plain": [
              "dateRep\n",
              "2021-01-11     675\n",
              "2021-01-04     902\n",
              "2020-12-28    1994\n",
              "2020-12-21     740\n",
              "2020-12-14    1757\n",
              "              ... \n",
              "2020-04-20      11\n",
              "2020-04-13       5\n",
              "2020-04-06       2\n",
              "2020-03-30       5\n",
              "2020-03-23       2\n",
              "Name: cases_weekly, Length: 9782, dtype: int64"
            ]
          },
          "metadata": {
            "tags": []
          },
          "execution_count": 187
        }
      ]
    },
    {
      "cell_type": "code",
      "metadata": {
        "id": "d1CuC77h79Fs"
      },
      "source": [
        "import numpy as np"
      ],
      "execution_count": null,
      "outputs": []
    },
    {
      "cell_type": "code",
      "metadata": {
        "id": "iTRaWU4_VWM9"
      },
      "source": [
        "from sklearn.preprocessing import MinMaxScaler"
      ],
      "execution_count": null,
      "outputs": []
    },
    {
      "cell_type": "code",
      "metadata": {
        "id": "vuJEVbf0VkKG"
      },
      "source": [
        "import numpy"
      ],
      "execution_count": null,
      "outputs": []
    },
    {
      "cell_type": "code",
      "metadata": {
        "id": "TxHCPwgRWeOm"
      },
      "source": [
        "from sklearn.preprocessing import StandardScaler"
      ],
      "execution_count": null,
      "outputs": []
    },
    {
      "cell_type": "markdown",
      "metadata": {
        "id": "IDn2IocnNuZL"
      },
      "source": [
        "*Minmax scaling cases_weekly and deaths_weekly to compare*"
      ]
    },
    {
      "cell_type": "code",
      "metadata": {
        "id": "RvPC5WIZa2k3"
      },
      "source": [
        "minmaxscale2=np.asarray(df[['cases_weekly','deaths_weekly']])"
      ],
      "execution_count": null,
      "outputs": []
    },
    {
      "cell_type": "code",
      "metadata": {
        "colab": {
          "base_uri": "https://localhost:8080/"
        },
        "id": "i9jxOC2RbDaH",
        "outputId": "c640092f-a1c4-418c-ef9b-49ae866034d7"
      },
      "source": [
        "print(minmaxscale2.astype(float))"
      ],
      "execution_count": null,
      "outputs": [
        {
          "output_type": "stream",
          "text": [
            "[[6.750e+02 7.100e+01]\n",
            " [9.020e+02 6.000e+01]\n",
            " [1.994e+03 8.800e+01]\n",
            " ...\n",
            " [2.000e+00 0.000e+00]\n",
            " [5.000e+00 1.000e+00]\n",
            " [2.000e+00 0.000e+00]]\n"
          ],
          "name": "stdout"
        }
      ]
    },
    {
      "cell_type": "code",
      "metadata": {
        "colab": {
          "base_uri": "https://localhost:8080/"
        },
        "id": "PB2JZsrIXw92",
        "outputId": "2332cea7-5ce5-4343-f0c1-a47755aaa123"
      },
      "source": [
        "mms2=MinMaxScaler().fit_transform(minmaxscale2)\n",
        "mms2"
      ],
      "execution_count": null,
      "outputs": [
        {
          "output_type": "execute_result",
          "data": {
            "text/plain": [
              "array([[3.78619603e-04, 3.10694906e-03],\n",
              "       [5.05947974e-04, 2.62559076e-03],\n",
              "       [1.11847035e-03, 3.85086644e-03],\n",
              "       ...,\n",
              "       [1.12183586e-06, 0.00000000e+00],\n",
              "       [2.80458965e-06, 4.37598460e-05],\n",
              "       [1.12183586e-06, 0.00000000e+00]])"
            ]
          },
          "metadata": {
            "tags": []
          },
          "execution_count": 194
        }
      ]
    },
    {
      "cell_type": "code",
      "metadata": {
        "colab": {
          "base_uri": "https://localhost:8080/",
          "height": 282
        },
        "id": "WvIfFWXNbTWh",
        "outputId": "7f8d4b64-7c8b-475b-895e-f26c3b53f1c3"
      },
      "source": [
        "plt.scatter(mms2[:,0],mms2[:,1])"
      ],
      "execution_count": null,
      "outputs": [
        {
          "output_type": "execute_result",
          "data": {
            "text/plain": [
              "<matplotlib.collections.PathCollection at 0x7fde9cdb7518>"
            ]
          },
          "metadata": {
            "tags": []
          },
          "execution_count": 195
        },
        {
          "output_type": "display_data",
          "data": {
            "image/png": "[encoded data removed]",
            "text/plain": [
              "<Figure size 432x288 with 1 Axes>"
            ]
          },
          "metadata": {
            "tags": [],
            "needs_background": "light"
          }
        }
      ]
    },
    {
      "cell_type": "markdown",
      "metadata": {
        "id": "atgqeKRRN42l"
      },
      "source": [
        "X=cases_weekly, Y=deaths_weekly"
      ]
    },
    {
      "cell_type": "markdown",
      "metadata": {
        "id": "R8DCsamyOCfo"
      },
      "source": [
        "*Standard scaling both cases_weekly and deaths_weekly for comparison*"
      ]
    },
    {
      "cell_type": "code",
      "metadata": {
        "colab": {
          "base_uri": "https://localhost:8080/"
        },
        "id": "ZQvBoA1qbZeJ",
        "outputId": "2f6b9e71-9446-4581-e6ce-f541d926b779"
      },
      "source": [
        "ss2=StandardScaler().fit_transform(minmaxscale2)\n",
        "ss2"
      ],
      "execution_count": null,
      "outputs": [
        {
          "output_type": "execute_result",
          "data": {
            "text/plain": [
              "array([[-0.15285398, -0.13723546],\n",
              "       [-0.14877446, -0.14911213],\n",
              "       [-0.12914961, -0.11888061],\n",
              "       ...,\n",
              "       [-0.16494879, -0.21389397],\n",
              "       [-0.16489487, -0.21281427],\n",
              "       [-0.16494879, -0.21389397]])"
            ]
          },
          "metadata": {
            "tags": []
          },
          "execution_count": 196
        }
      ]
    },
    {
      "cell_type": "code",
      "metadata": {
        "id": "cow8bxPmcC8-",
        "colab": {
          "base_uri": "https://localhost:8080/",
          "height": 282
        },
        "outputId": "19195a35-541c-4836-943e-ae4bd74de2c7"
      },
      "source": [
        "plt.scatter(ss2[:,0],ss2[:,1])"
      ],
      "execution_count": null,
      "outputs": [
        {
          "output_type": "execute_result",
          "data": {
            "text/plain": [
              "<matplotlib.collections.PathCollection at 0x7fdea568e198>"
            ]
          },
          "metadata": {
            "tags": []
          },
          "execution_count": 197
        },
        {
          "output_type": "display_data",
          "data": {
            "image/png": "[encoded data removed]",
            "text/plain": [
              "<Figure size 432x288 with 1 Axes>"
            ]
          },
          "metadata": {
            "tags": [],
            "needs_background": "light"
          }
        }
      ]
    },
    {
      "cell_type": "markdown",
      "metadata": {
        "id": "K-nnlIRBOIpX"
      },
      "source": [
        "X=cases_weekly, Y=deaths_weekly"
      ]
    },
    {
      "cell_type": "markdown",
      "metadata": {
        "id": "wm67Ldf1OTsR"
      },
      "source": [
        "##Conclusion"
      ]
    },
    {
      "cell_type": "markdown",
      "metadata": {
        "id": "gHFoUksiXZSx"
      },
      "source": [
        "After exploring and analyzing such data, as well as cleaning up come errors such as the negative amounts of cases_weekly and deaths_weekly for some countries, we are able to compare the spread and handling of COVID-19 around various countries in the world. We are able to see where the virus has had the most impact and which have handled the spread the worst. We can see how and to what extent some countries, that could have even been better developed than others, may have handled the issue in an even worse matter. We may also see how poor countries, such as Yemen, have had significantly high case to death ratios. That can allow us to analyze the issue further and see the reasons as to why this was, such as poor living conditions overall, many people with underlying health conditions, and of course inability to work from home just as many agricultural and factory jobs may be. Another factor is of course misinformation, distrust in the government and overall carelessness and selfishness that may have spread the virus to such high extents in many developed and relatively rich countries like the United States. We can ask, why was there so much distrust in the government, why was the handling of such an issue so poor, why was there shortages of medical supplies and so on. Using machine learning, we may also then determine, had a new case popped up, and given it was in a specific country, what would be the survival rate of one with an infection. We can also see that if a new case were to pop up, what are the highest probable countries it would be in, or at least in which continents. Also, you can see if such data was to be reported, and given the country and its latest notification data per one hundred thousand, how likely is it that it would be reported, so that you may see how seriously it is taken in that country, and how much people would care to alert others and perhaps even stay away if they had gotten the virus.  "
      ]
    }
  ]
}